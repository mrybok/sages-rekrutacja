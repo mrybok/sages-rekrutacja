{
 "cells": [
  {
   "cell_type": "markdown",
   "source": [
    "# Fake News dataset exploration & preprocessing\n",
    "by Marcin Rybok"
   ],
   "metadata": {
    "collapsed": false,
    "pycharm": {
     "name": "#%% md\n"
    }
   }
  },
  {
   "cell_type": "code",
   "execution_count": 1,
   "outputs": [],
   "source": [
    "import pandas as pd\n",
    "import seaborn as sns\n",
    "\n",
    "from collections import Counter"
   ],
   "metadata": {
    "collapsed": false,
    "pycharm": {
     "name": "#%%\n"
    }
   }
  },
  {
   "cell_type": "code",
   "execution_count": 2,
   "outputs": [],
   "source": [
    "bodies  = pd.read_csv('data/fake_news/bodies.csv')\n",
    "stances = pd.read_csv('data/fake_news/stances.csv')\n",
    "test_bodies = pd.read_csv('data/fake_news/competition_test_bodies.csv')\n",
    "bodies = pd.concat((bodies, test_bodies))"
   ],
   "metadata": {
    "collapsed": false,
    "pycharm": {
     "name": "#%%\n"
    }
   }
  },
  {
   "cell_type": "code",
   "execution_count": 3,
   "outputs": [
    {
     "name": "stdout",
     "output_type": "stream",
     "text": [
      "<class 'pandas.core.frame.DataFrame'>\n",
      "Int64Index: 2587 entries, 0 to 903\n",
      "Data columns (total 2 columns):\n",
      " #   Column       Non-Null Count  Dtype \n",
      "---  ------       --------------  ----- \n",
      " 0   Body ID      2587 non-null   int64 \n",
      " 1   articleBody  2587 non-null   object\n",
      "dtypes: int64(1), object(1)\n",
      "memory usage: 60.6+ KB\n"
     ]
    }
   ],
   "source": [
    "# Check for null values\n",
    "bodies.info()"
   ],
   "metadata": {
    "collapsed": false,
    "pycharm": {
     "name": "#%%\n"
    }
   }
  },
  {
   "cell_type": "code",
   "execution_count": 4,
   "outputs": [
    {
     "name": "stdout",
     "output_type": "stream",
     "text": [
      "<class 'pandas.core.frame.DataFrame'>\n",
      "RangeIndex: 49972 entries, 0 to 49971\n",
      "Data columns (total 3 columns):\n",
      " #   Column    Non-Null Count  Dtype \n",
      "---  ------    --------------  ----- \n",
      " 0   Headline  49972 non-null  object\n",
      " 1   Body ID   49972 non-null  int64 \n",
      " 2   Stance    49972 non-null  object\n",
      "dtypes: int64(1), object(2)\n",
      "memory usage: 1.1+ MB\n"
     ]
    }
   ],
   "source": [
    "stances.info()"
   ],
   "metadata": {
    "collapsed": false,
    "pycharm": {
     "name": "#%%\n"
    }
   }
  },
  {
   "cell_type": "code",
   "execution_count": 5,
   "outputs": [
    {
     "name": "stdout",
     "output_type": "stream",
     "text": [
      "Number of body duplicates: 28\n"
     ]
    }
   ],
   "source": [
    "# Check for duplicates\n",
    "unique_count = bodies.groupby('articleBody').agg(['unique', 'nunique'])\n",
    "duplicates   = unique_count[unique_count['Body ID']['nunique'] > 1]['Body ID']['unique'].tolist()\n",
    "\n",
    "print(f'Number of body duplicates: {len(duplicates)}')"
   ],
   "metadata": {
    "collapsed": false,
    "pycharm": {
     "name": "#%%\n"
    }
   }
  },
  {
   "cell_type": "code",
   "execution_count": 6,
   "outputs": [
    {
     "name": "stdout",
     "output_type": "stream",
     "text": [
      "Number of bodies after duplicate removal: 2559\n"
     ]
    }
   ],
   "source": [
    "# Map second duplicate in a pair to ID of the first body\n",
    "duplicates = {non_first_duplicate: ids[0] for ids in duplicates for non_first_duplicate in ids[1:]}\n",
    "\n",
    "# Remove duplicates\n",
    "bodies = bodies.drop_duplicates(subset='articleBody', keep='first')\n",
    "\n",
    "print(f'Number of bodies after duplicate removal: {len(bodies)}')"
   ],
   "metadata": {
    "collapsed": false,
    "pycharm": {
     "name": "#%%\n"
    }
   }
  },
  {
   "cell_type": "code",
   "execution_count": 7,
   "outputs": [
    {
     "name": "stdout",
     "output_type": "stream",
     "text": [
      "Number of headline-body pairs after duplicate removal: 49538\n"
     ]
    }
   ],
   "source": [
    "# Fix the Body IDs of removed duplicate bodies in the Stances table\n",
    "stances['Body ID'] = stances['Body ID'].apply(lambda body_id: duplicates[body_id] if body_id in duplicates else body_id)\n",
    "\n",
    "# Remove duplicated Headline - Body pairs\n",
    "stances = stances.drop_duplicates(subset=['Headline', 'Body ID'], keep='first')\n",
    "\n",
    "print(f'Number of headline-body pairs after duplicate removal: {len(stances)}')"
   ],
   "metadata": {
    "collapsed": false,
    "pycharm": {
     "name": "#%%\n"
    }
   }
  },
  {
   "cell_type": "code",
   "execution_count": 8,
   "outputs": [
    {
     "name": "stdout",
     "output_type": "stream",
     "text": [
      "Number of unique headlines: 1648\n"
     ]
    }
   ],
   "source": [
    "unique_heads = set(stances[\"Headline\"])\n",
    "\n",
    "print(f'Number of unique headlines: {len(unique_heads)}')"
   ],
   "metadata": {
    "collapsed": false,
    "pycharm": {
     "name": "#%%\n"
    }
   }
  },
  {
   "cell_type": "code",
   "execution_count": 9,
   "outputs": [],
   "source": [
    "# Replace headline by ID in Stances table\n",
    "# Useful later for faster tokenizing (1,500 instead of 50,000 headlines)\n",
    "max_body_id = max(stances['Body ID']) + 1\n",
    "head_to_id  = {headline: idx + max_body_id for idx, headline in enumerate(unique_heads)}\n",
    "\n",
    "stances['Headline'] = stances['Headline'].apply(lambda headline: head_to_id[headline])"
   ],
   "metadata": {
    "collapsed": false,
    "pycharm": {
     "name": "#%%\n"
    }
   }
  },
  {
   "cell_type": "code",
   "execution_count": 10,
   "outputs": [
    {
     "name": "stdout",
     "output_type": "stream",
     "text": [
      "Num conflicting data points: 0\n"
     ]
    }
   ],
   "source": [
    "# Check for data points with conflicting labels\n",
    "num_conflicts = (stances.groupby(['Headline', 'Body ID']).agg('nunique') > 1)['Stance'].sum()\n",
    "\n",
    "print(f'Num conflicting data points: {num_conflicts}')"
   ],
   "metadata": {
    "collapsed": false,
    "pycharm": {
     "name": "#%%\n"
    }
   }
  },
  {
   "cell_type": "code",
   "execution_count": 11,
   "outputs": [
    {
     "name": "stdout",
     "output_type": "stream",
     "text": [
      "Dataset size: 49538\n",
      "\n",
      "Class distribution:\n",
      "    disagree :  1.67%, (  829)\n",
      "    agree    :  7.35%, ( 3643)\n",
      "    discuss  : 17.77%, ( 8804)\n",
      "    unrelated: 73.20%, (36262)\n"
     ]
    }
   ],
   "source": [
    "# Check class distribution\n",
    "dist = sorted(Counter(stances['Stance']).items(), key=lambda x: x[1])\n",
    "\n",
    "print(f'Dataset size: {len(stances)}\\n')\n",
    "print('Class distribution:')\n",
    "\n",
    "for label, count in dist:\n",
    "    print(f'    {label:<9s}: {count * 100 / len(stances):>5.2f}%, ({count:>5d})')"
   ],
   "metadata": {
    "collapsed": false,
    "pycharm": {
     "name": "#%%\n"
    }
   }
  },
  {
   "cell_type": "markdown",
   "source": [
    "## Dataset partitioning problem\n",
    "\n",
    "For ML we need to split the dataset into train / validation / test sets.\n",
    "The project GitHub repository offers a ready test set, so I am going to use it.\n",
    "I need to split the available dataset to train and validation only.\n",
    "\n",
    "Splitting aims:\n",
    "- Maintain original class distribution in train & valid set\n",
    "- The splits are mutually exclusive"
   ],
   "metadata": {
    "collapsed": false,
    "pycharm": {
     "name": "#%% md\n"
    }
   }
  },
  {
   "cell_type": "markdown",
   "source": [
    "**Problem**:\n",
    "The mapping between headlines and bodies is many-to-many.\n",
    "We cannot have a headline that occurs both in train set and validation set pair.\n",
    "Otherwise, we have data leakage from train to the validation set.\n",
    "Validation set will produce over-optimistic estimates in hyperparameter tunning.\n",
    "\n",
    "We need to assign each headline and body either to train or validation dataset.\n",
    "Then remove the Stance pairings in which headline and body are not in the same set.\n",
    "*(The removal is temporary for hyperparameter tunning only. After finding good hyperparameters we retrain on the entire dataset.)*\n",
    "There are $2^{N}$ possible splits to consider ($N$ being number of bodies and headlines).\n",
    "Combinatorial problem - too costly to consider all splits.\n",
    "The problem is a graph coloring one so use breadth-first search (BFS) to find a suboptimal split.\n",
    "\n",
    "New splitting aims:\n",
    "- Maintain original class distribution in train & valid set\n",
    "- The pairing splits are mutually exclusive\n",
    "- Each Headline and Body is assigned to train or valid set only.\n",
    "- Minimize the number of inter-split Body-Headline connections, to maximize the number of training examples.\n",
    "\n",
    "The implementation is in `util.split_data` function."
   ],
   "metadata": {
    "collapsed": false,
    "pycharm": {
     "name": "#%% md\n"
    }
   }
  },
  {
   "cell_type": "code",
   "execution_count": 12,
   "outputs": [],
   "source": [
    "from util import split_data"
   ],
   "metadata": {
    "collapsed": false,
    "pycharm": {
     "name": "#%%\n"
    }
   }
  },
  {
   "cell_type": "code",
   "execution_count": 13,
   "outputs": [
    {
     "data": {
      "text/plain": "  0%|          | 0/2476 [00:00<?, ?it/s]",
      "application/vnd.jupyter.widget-view+json": {
       "version_major": 2,
       "version_minor": 0,
       "model_id": "36d9f87c7cec4e8194c1ca61d0263819"
      }
     },
     "metadata": {},
     "output_type": "display_data"
    }
   ],
   "source": [
    "new_stances = split_data(stances, valid_size=0.05, seed=6)"
   ],
   "metadata": {
    "collapsed": false,
    "pycharm": {
     "name": "#%%\n"
    }
   }
  },
  {
   "cell_type": "code",
   "execution_count": 14,
   "outputs": [
    {
     "name": "stdout",
     "output_type": "stream",
     "text": [
      "<class 'pandas.core.frame.DataFrame'>\n",
      "RangeIndex: 25413 entries, 0 to 25412\n",
      "Data columns (total 3 columns):\n",
      " #   Column    Non-Null Count  Dtype \n",
      "---  ------    --------------  ----- \n",
      " 0   Headline  25413 non-null  object\n",
      " 1   Body ID   25413 non-null  int64 \n",
      " 2   Stance    25413 non-null  object\n",
      "dtypes: int64(1), object(2)\n",
      "memory usage: 595.7+ KB\n"
     ]
    }
   ],
   "source": [
    "# Test set preprocessing\n",
    "test_stances = pd.read_csv('data/fake_news/competition_test_stances.csv')\n",
    "\n",
    "test_stances.info()"
   ],
   "metadata": {
    "collapsed": false,
    "pycharm": {
     "name": "#%%\n"
    }
   }
  },
  {
   "cell_type": "code",
   "execution_count": 15,
   "outputs": [
    {
     "name": "stdout",
     "output_type": "stream",
     "text": [
      "Original test set size: 25413\n",
      "Preprocessed test set size: 25043\n"
     ]
    }
   ],
   "source": [
    "print(f'Original test set size: {len(test_stances)}')\n",
    "\n",
    "# Fix the Body IDs of removed duplicate bodies in the test stances table\n",
    "test_stances['Body ID'] = test_stances['Body ID'].apply(lambda body_id: duplicates[body_id] if body_id in duplicates else body_id)\n",
    "\n",
    "# Remove duplicated Headline - Body pairs\n",
    "stances = stances.drop_duplicates(subset=['Headline', 'Body ID'], keep='first')\n",
    "\n",
    "# Remove any test set example, of which body or headline occurs in train or validation\n",
    "old_bodies = set(pd.read_csv('data/fake_news/bodies.csv')['Body ID'])\n",
    "logical_idx = test_stances.apply(lambda row: row['Headline'] not in head_to_id and row['Body ID'] not in old_bodies, axis=1)\n",
    "test_stances = test_stances[logical_idx]\n",
    "\n",
    "test_stances['split'] = ['test'] * len(test_stances)\n",
    "max_head_id = max(head_to_id.values()) + 1\n",
    "\n",
    "for idx, head in enumerate(set(test_stances['Headline'])):\n",
    "    head_to_id[head] = idx + max_head_id\n",
    "\n",
    "test_stances['Headline'] = test_stances['Headline'].apply(lambda head: head_to_id[head])\n",
    "\n",
    "print(f'Preprocessed test set size: {len(test_stances)}')\n",
    "\n",
    "new_stances = pd.concat((new_stances, test_stances))"
   ],
   "metadata": {
    "collapsed": false,
    "pycharm": {
     "name": "#%%\n"
    }
   }
  },
  {
   "cell_type": "code",
   "execution_count": 16,
   "outputs": [
    {
     "data": {
      "text/plain": "<Figure size 581x500 with 1 Axes>",
      "image/png": "[encoded data removed]"
     },
     "metadata": {},
     "output_type": "display_data"
    }
   ],
   "source": [
    "split_display = new_stances.groupby('split')['Stance'].value_counts(normalize=True).mul(100).rename('percent')\n",
    "\n",
    "split_display.reset_index().pipe((sns.catplot, 'data'), x='Stance', y='percent', hue='split', kind='bar');"
   ],
   "metadata": {
    "collapsed": false,
    "pycharm": {
     "name": "#%%\n"
    }
   }
  },
  {
   "cell_type": "code",
   "execution_count": 17,
   "outputs": [
    {
     "name": "stdout",
     "output_type": "stream",
     "text": [
      "      | total | data % | unrelated |    agree | disagree |  discuss\n",
      "-------------------------------------------------------------------\n",
      "train | 31161 | 62.90% |    73.40% |    7.80% |    1.52% |   17.27%\n",
      "valid |  2501 |  5.05% |    72.49% |    7.52% |    2.36% |   17.63%\n",
      "none  | 15876 | 32.05% |    72.92% |    6.45% |    1.86% |   18.77%\n"
     ]
    }
   ],
   "source": [
    "labels = {'unrelated': 0, 'agree': 1, 'disagree': 2, 'discuss': 3}\n",
    "\n",
    "print(f'{\" \":<5s} | total | data % | unrelated | {\"agree\":>8s} | disagree | {\"discuss\":>8s}')\n",
    "print(\"-------------------------------------------------------------------\")\n",
    "\n",
    "for split in ['train', 'valid', 'none']:\n",
    "    filtered = new_stances[new_stances['split'] == split]\n",
    "    n = len(filtered)\n",
    "    total = sum(new_stances['split'] != 'test')\n",
    "\n",
    "    aux = lambda label: f'{((filtered[\"Stance\"] == label).sum() * 100 / n):>8.2f}%'\n",
    "    str_rep = \" |\".join([aux(label) for label in labels])\n",
    "    print(f'{split:<5s} | {n:5d} | {(n * 100 / total):>5.2f}% |', str_rep)"
   ],
   "metadata": {
    "collapsed": false,
    "pycharm": {
     "name": "#%%\n"
    }
   }
  },
  {
   "cell_type": "markdown",
   "source": [
    "The algorithm I have used for data splitting produces well-balanced splits in terms of classes.\n",
    "Drawback: many examples must be rejected.\n",
    "I have tried different expansion method, that selected the least connected nodes for expansion in BFS.\n",
    "The previous method rejected significantly less inter-split connections, but split class distributions varied significantly.\n",
    "*(3 times lower proportion of \"agree\" examples in a train set compared to validation)*\n",
    "There are no free-lunches :("
   ],
   "metadata": {
    "collapsed": false,
    "pycharm": {
     "name": "#%% md\n"
    }
   }
  },
  {
   "cell_type": "markdown",
   "source": [
    "**Finally, I use 5% of Headline-Body pairings as the validation set. 63% pairs are left for training. The remaining 32% of data must be left out from the hyper-parameter tunning process, to prevent same examples in training and validation sets.**\n",
    "*(percentages do not consider the test set examples)*\n",
    "*(I use 5% of data in validation set because when I have tried 10% the train set had only 40% of examples)*"
   ],
   "metadata": {
    "collapsed": false,
    "pycharm": {
     "name": "#%% md\n"
    }
   }
  },
  {
   "cell_type": "markdown",
   "source": [
    "### Digression\n",
    "Creating more *\"unrelated\"* pairings by randomly assigning more headlines to bodies is a good data augmentation method.\n",
    "Its unlikely that such random assignment would produce a *\"related\"* pair.\n",
    "However, most of the pairings are already *\"unrelated\"*.\n",
    "Headlines are paired with multiple bodies.\n",
    "The method was probably already used in the dataset creation."
   ],
   "metadata": {
    "collapsed": false,
    "pycharm": {
     "name": "#%% md\n"
    }
   }
  },
  {
   "cell_type": "markdown",
   "source": [
    "### Task & solution\n",
    "The task is to determine whether Headline matches the article Body.\n",
    "It is very similar to sentence entailment.\n",
    "BERT is pre-trained to predict whether one sentence supersedes another, so it is naturally suited for the task.\n",
    "I am going to represent each Headline-Body pair as:\n",
    "\\<CLS\\> Headline \\<SEP\\> Body \\<SEP\\>\n",
    "So I will tokenize each Headline and Body.\n",
    "Then I will feed the above representation to BERT.\n",
    "From BERT's output, I will extract the last hidden state representation for the \\<CLS\\> token only.\n",
    "Then I will feed the BERT-produced contextualized embeddings to a simple classifier head.\n",
    "I will train the classifier head only, as I have no time to fine-tune BERT.\n",
    "Hence, the BERT embedding for each Headline-Body pair will be produced once and stored."
   ],
   "metadata": {
    "collapsed": false,
    "pycharm": {
     "name": "#%% md\n"
    }
   }
  },
  {
   "cell_type": "markdown",
   "source": [
    "### Caveats\n",
    "The task is different from entailment in that the article Bodies are quite long.\n",
    "Bodies often have lengths in thousands of tokens.\n",
    "BERT accepts a sequence of length max 512.\n",
    "Hence, I am going to always use the full tokenized Headline, but I will truncate the Body, so that together the:\n",
    "\\<CLS\\> Headline \\<SEP\\> truncated-Body \\<SEP\\>\n",
    "representation matches the maximum 512 tokens.\n",
    "I will use only the initial Body tokens.\n",
    "This will downgrade the performance."
   ],
   "metadata": {
    "collapsed": false,
    "pycharm": {
     "name": "#%% md\n"
    }
   }
  },
  {
   "cell_type": "markdown",
   "source": [
    "### Alternatives:\n",
    "- Instead of using the initial part of the Body, try using middle or random part. Might have a higher chance of containing key info for classification.\n",
    "- Use multiple Body parts *(for example, start, middle and end)*: encode each as before, feed each representation separately into BERT. From each BERT output extract \\<CLS\\> token embedding, concatenate such embeddings together and feed them into classifier. Covers more article body text, but it is more computationally expensive. I have tried using end part also, but it took too long for my Nvidia RTX 2060 to compute the embeddings.\n",
    "- Produce representations in Information Retrieval (IR) fashion. Case fold, tokenize, remove stop words, stem the Headlines & Bodies. Then represent each document sparsely based on the dictionary of left words in the dataset and try to build a classifier on top of this. Might be suitable due to lengthy Bodies - IR deals better with lengthy documents & semantics only.\n",
    "- Task is also similar to text summarization, where we try to highlight important sentences in a document. Typically, one sentence in body will inform us whether the Headline matches it, so the task might be reduced to finding such most significant sentence. If I had more time, I would also look for solutions in this field."
   ],
   "metadata": {
    "collapsed": false,
    "pycharm": {
     "name": "#%% md\n"
    }
   }
  },
  {
   "cell_type": "markdown",
   "source": [
    "## Prepare input for model"
   ],
   "metadata": {
    "collapsed": false,
    "pycharm": {
     "name": "#%% md\n"
    }
   }
  },
  {
   "cell_type": "code",
   "execution_count": 18,
   "outputs": [],
   "source": [
    "import torch\n",
    "import pickle\n",
    "import transformers\n",
    "\n",
    "from tqdm.notebook      import tqdm\n",
    "from transformers       import BertTokenizer\n",
    "from torch.utils.data   import TensorDataset, DataLoader\n",
    "from torch.nn.utils.rnn import pad_sequence\n",
    "\n",
    "transformers.logging.set_verbosity_error()"
   ],
   "metadata": {
    "collapsed": false,
    "pycharm": {
     "name": "#%%\n"
    }
   }
  },
  {
   "cell_type": "code",
   "execution_count": 19,
   "outputs": [],
   "source": [
    "tokenizer = BertTokenizer.from_pretrained(\"bert-base-uncased\")\n",
    "\n",
    "# Tokenize every Headline and Body\n",
    "id_to_head = {head_id: (head, tokenizer.encode(head, add_special_tokens=False)) for head, head_id in head_to_id.items()}\n",
    "id_to_body = {body_id: (body, tokenizer.encode(body, add_special_tokens=False)) for body_id, body in bodies.itertuples(index=False)}"
   ],
   "metadata": {
    "collapsed": false,
    "pycharm": {
     "name": "#%%\n"
    }
   }
  },
  {
   "cell_type": "code",
   "execution_count": 20,
   "outputs": [
    {
     "data": {
      "text/plain": "  0%|          | 0/74581 [00:00<?, ?it/s]",
      "application/vnd.jupyter.widget-view+json": {
       "version_major": 2,
       "version_minor": 0,
       "model_id": "a648b552cc3641a89635a9939d7e61af"
      }
     },
     "metadata": {},
     "output_type": "display_data"
    }
   ],
   "source": [
    "cls = tokenizer.cls_token_id\n",
    "sep = tokenizer.sep_token_id\n",
    "splits = ['train', 'valid', 'none', 'test']\n",
    "\n",
    "dataset = {split: {'input_ids': [], 'segments': [], 'masks': [], 'y': []} for split in splits}\n",
    "\n",
    "for row in tqdm(list(new_stances.itertuples(index=False))):\n",
    "    head, body, stance, split = row\n",
    "\n",
    "    head_ids = id_to_head[head][1]\n",
    "    body_ids = id_to_body[body][1]\n",
    "\n",
    "    body_len = min(len(body_ids), 512 - len(head_ids) - 3)\n",
    "\n",
    "    body_ids = body_ids[:body_len]\n",
    "\n",
    "    input_ids = [cls, *head_ids, sep, *body_ids, sep]\n",
    "    segments  = [0] * (len(head_ids) + 2) + [1] * (body_len + 1)\n",
    "    mask      = [1] * (body_len + len(head_ids) + 3)\n",
    "\n",
    "    input_ids = torch.tensor(input_ids)\n",
    "    segments  = torch.tensor(segments)\n",
    "    mask      = torch.tensor(mask)\n",
    "\n",
    "    dataset[split]['input_ids'] += [input_ids     ]\n",
    "    dataset[split]['segments' ] += [segments      ]\n",
    "    dataset[split]['masks'    ] += [mask          ]\n",
    "    dataset[split]['y'        ] += [labels[stance]]\n",
    "\n",
    "for split in dataset:\n",
    "    for key in ['input_ids', 'segments', 'masks']:\n",
    "        dataset[split][key] = pad_sequence(dataset[split][key], batch_first=True)\n",
    "\n",
    "    dataset[split]['y'] = torch.tensor(dataset[split]['y'])\n",
    "\n",
    "    loader = DataLoader(TensorDataset(*dataset[split].values()), batch_size=10, shuffle=False)\n",
    "\n",
    "    with open(f'preprocessed/fake_news/bert_loaders/{split}.pkl', 'wb') as file:\n",
    "        pickle.dump(loader, file)\n",
    "\n",
    "del dataset"
   ],
   "metadata": {
    "collapsed": false,
    "pycharm": {
     "name": "#%%\n"
    }
   }
  },
  {
   "cell_type": "markdown",
   "source": [
    "Now to generate BERT embeddings\n",
    "\n",
    "`python embeddings.py`"
   ],
   "metadata": {
    "collapsed": false,
    "pycharm": {
     "name": "#%% md\n"
    }
   }
  },
  {
   "cell_type": "code",
   "execution_count": 20,
   "outputs": [],
   "source": [],
   "metadata": {
    "collapsed": false,
    "pycharm": {
     "name": "#%%\n"
    }
   }
  }
 ],
 "metadata": {
  "kernelspec": {
   "display_name": "Python 3",
   "language": "python",
   "name": "python3"
  },
  "language_info": {
   "codemirror_mode": {
    "name": "ipython",
    "version": 2
   },
   "file_extension": ".py",
   "mimetype": "text/x-python",
   "name": "python",
   "nbconvert_exporter": "python",
   "pygments_lexer": "ipython2",
   "version": "2.7.6"
  }
 },
 "nbformat": 4,
 "nbformat_minor": 0
}