{
 "cells": [
  {
   "cell_type": "markdown",
   "source": [
    "# Fake News dataset exploration & preprocessing"
   ],
   "metadata": {
    "collapsed": false,
    "pycharm": {
     "name": "#%% md\n"
    }
   }
  },
  {
   "cell_type": "code",
   "execution_count": 1,
   "outputs": [],
   "source": [
    "import pandas as pd\n",
    "\n",
    "from collections import Counter"
   ],
   "metadata": {
    "collapsed": false,
    "pycharm": {
     "name": "#%%\n"
    }
   }
  },
  {
   "cell_type": "code",
   "execution_count": 2,
   "outputs": [],
   "source": [
    "bodies  = pd.read_csv('data/fake_news/bodies.csv')\n",
    "stances = pd.read_csv('data/fake_news/stances.csv')"
   ],
   "metadata": {
    "collapsed": false,
    "pycharm": {
     "name": "#%%\n"
    }
   }
  },
  {
   "cell_type": "code",
   "execution_count": 3,
   "outputs": [
    {
     "name": "stdout",
     "output_type": "stream",
     "text": [
      "<class 'pandas.core.frame.DataFrame'>\n",
      "RangeIndex: 1683 entries, 0 to 1682\n",
      "Data columns (total 2 columns):\n",
      " #   Column       Non-Null Count  Dtype \n",
      "---  ------       --------------  ----- \n",
      " 0   Body ID      1683 non-null   int64 \n",
      " 1   articleBody  1683 non-null   object\n",
      "dtypes: int64(1), object(1)\n",
      "memory usage: 26.4+ KB\n"
     ]
    }
   ],
   "source": [
    "# Check for null values\n",
    "bodies.info()"
   ],
   "metadata": {
    "collapsed": false,
    "pycharm": {
     "name": "#%%\n"
    }
   }
  },
  {
   "cell_type": "code",
   "execution_count": 4,
   "outputs": [
    {
     "name": "stdout",
     "output_type": "stream",
     "text": [
      "<class 'pandas.core.frame.DataFrame'>\n",
      "RangeIndex: 49972 entries, 0 to 49971\n",
      "Data columns (total 3 columns):\n",
      " #   Column    Non-Null Count  Dtype \n",
      "---  ------    --------------  ----- \n",
      " 0   Headline  49972 non-null  object\n",
      " 1   Body ID   49972 non-null  int64 \n",
      " 2   Stance    49972 non-null  object\n",
      "dtypes: int64(1), object(2)\n",
      "memory usage: 1.1+ MB\n"
     ]
    }
   ],
   "source": [
    "stances.info()"
   ],
   "metadata": {
    "collapsed": false,
    "pycharm": {
     "name": "#%%\n"
    }
   }
  },
  {
   "cell_type": "code",
   "execution_count": 5,
   "outputs": [
    {
     "name": "stdout",
     "output_type": "stream",
     "text": [
      "Number of body duplicates: 14\n"
     ]
    }
   ],
   "source": [
    "# Check for duplicates\n",
    "unique_count = bodies.groupby('articleBody').agg(['unique', 'nunique'])\n",
    "duplicates   = unique_count[unique_count['Body ID']['nunique'] > 1]['Body ID']['unique'].tolist()\n",
    "\n",
    "print(f'Number of body duplicates: {len(duplicates)}')"
   ],
   "metadata": {
    "collapsed": false,
    "pycharm": {
     "name": "#%%\n"
    }
   }
  },
  {
   "cell_type": "code",
   "execution_count": 6,
   "outputs": [
    {
     "name": "stdout",
     "output_type": "stream",
     "text": [
      "Number of bodies after duplicate removal: 1669\n"
     ]
    }
   ],
   "source": [
    "# Map second duplicate in a pair to ID of the first body\n",
    "duplicates = {non_first_duplicate: ids[0] for ids in duplicates for non_first_duplicate in ids[1:]}\n",
    "\n",
    "# Remove duplicates\n",
    "bodies = bodies.drop_duplicates(subset='articleBody', keep='first')\n",
    "\n",
    "print(f'Number of bodies after duplicate removal: {len(bodies)}')"
   ],
   "metadata": {
    "collapsed": false,
    "pycharm": {
     "name": "#%%\n"
    }
   }
  },
  {
   "cell_type": "code",
   "execution_count": 7,
   "outputs": [
    {
     "name": "stdout",
     "output_type": "stream",
     "text": [
      "Number of headline-body pairs after duplicate removal: 49538\n"
     ]
    }
   ],
   "source": [
    "# Fix the Body IDs of removed duplicate bodies in the Stances table\n",
    "stances['Body ID'] = stances['Body ID'].apply(lambda body_id: duplicates[body_id] if body_id in duplicates else body_id)\n",
    "\n",
    "# Remove duplicated Headline - Body pairs\n",
    "stances = stances.drop_duplicates(subset=['Headline', 'Body ID'], keep='first')\n",
    "\n",
    "print(f'Number of headline-body pairs after duplicate removal: {len(stances)}')"
   ],
   "metadata": {
    "collapsed": false,
    "pycharm": {
     "name": "#%%\n"
    }
   }
  },
  {
   "cell_type": "code",
   "execution_count": 8,
   "outputs": [
    {
     "name": "stdout",
     "output_type": "stream",
     "text": [
      "Number of unique headlines: 1648\n"
     ]
    }
   ],
   "source": [
    "unique_heads = set(stances[\"Headline\"])\n",
    "\n",
    "print(f'Number of unique headlines: {len(unique_heads)}')"
   ],
   "metadata": {
    "collapsed": false,
    "pycharm": {
     "name": "#%%\n"
    }
   }
  },
  {
   "cell_type": "code",
   "execution_count": 9,
   "outputs": [],
   "source": [
    "# Replace headline by ID in Stances table\n",
    "max_body_id = max(stances['Body ID']) + 1\n",
    "head_to_id  = {headline: idx + max_body_id for idx, headline in enumerate(unique_heads)}\n",
    "\n",
    "stances['Headline'] = stances['Headline'].apply(lambda headline: head_to_id[headline])"
   ],
   "metadata": {
    "collapsed": false,
    "pycharm": {
     "name": "#%%\n"
    }
   }
  },
  {
   "cell_type": "code",
   "execution_count": 10,
   "outputs": [
    {
     "name": "stdout",
     "output_type": "stream",
     "text": [
      "Num conflicting data points: 0\n"
     ]
    }
   ],
   "source": [
    "# Check for data points with conflicting labels\n",
    "num_conflicts = (stances.groupby(['Headline', 'Body ID']).agg('nunique') > 1)['Stance'].sum()\n",
    "\n",
    "print(f'Num conflicting data points: {num_conflicts}')"
   ],
   "metadata": {
    "collapsed": false,
    "pycharm": {
     "name": "#%%\n"
    }
   }
  },
  {
   "cell_type": "code",
   "execution_count": 11,
   "outputs": [
    {
     "name": "stdout",
     "output_type": "stream",
     "text": [
      "Dataset size: 49538\n",
      "\n",
      "Class distribution:\n",
      "    disagree :  1.67%, (  829)\n",
      "    agree    :  7.35%, ( 3643)\n",
      "    discuss  : 17.77%, ( 8804)\n",
      "    unrelated: 73.20%, (36262)\n"
     ]
    }
   ],
   "source": [
    "# Check class distribution\n",
    "dist = sorted(Counter(stances['Stance']).items(), key=lambda x: x[1])\n",
    "\n",
    "print(f'Dataset size: {len(stances)}\\n')\n",
    "print('Class distribution:')\n",
    "\n",
    "for label, count in dist:\n",
    "    print(f'    {label:<9s}: {count * 100 / len(stances):>5.2f}%, ({count:>5d})')"
   ],
   "metadata": {
    "collapsed": false,
    "pycharm": {
     "name": "#%%\n"
    }
   }
  },
  {
   "cell_type": "markdown",
   "source": [
    "## Dataset partitioning problem\n",
    "\n"
   ],
   "metadata": {
    "collapsed": false,
    "pycharm": {
     "name": "#%% md\n"
    }
   }
  },
  {
   "cell_type": "code",
   "execution_count": 11,
   "outputs": [],
   "source": [],
   "metadata": {
    "collapsed": false,
    "pycharm": {
     "name": "#%%\n"
    }
   }
  }
 ],
 "metadata": {
  "kernelspec": {
   "display_name": "Python 3",
   "language": "python",
   "name": "python3"
  },
  "language_info": {
   "codemirror_mode": {
    "name": "ipython",
    "version": 2
   },
   "file_extension": ".py",
   "mimetype": "text/x-python",
   "name": "python",
   "nbconvert_exporter": "python",
   "pygments_lexer": "ipython2",
   "version": "2.7.6"
  }
 },
 "nbformat": 4,
 "nbformat_minor": 0
}