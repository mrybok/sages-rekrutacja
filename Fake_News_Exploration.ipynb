{
 "cells": [
  {
   "cell_type": "markdown",
   "source": [
    "# Fake News dataset exploration & preprocessing\n",
    "by Marcin Rybok"
   ],
   "metadata": {
    "collapsed": false,
    "pycharm": {
     "name": "#%% md\n"
    }
   }
  },
  {
   "cell_type": "code",
   "execution_count": 34,
   "outputs": [],
   "source": [
    "import pandas as pd\n",
    "import seaborn as sns\n",
    "\n",
    "from collections import Counter"
   ],
   "metadata": {
    "collapsed": false,
    "pycharm": {
     "name": "#%%\n"
    }
   }
  },
  {
   "cell_type": "code",
   "execution_count": 35,
   "outputs": [],
   "source": [
    "bodies  = pd.read_csv('data/fake_news/bodies.csv')\n",
    "stances = pd.read_csv('data/fake_news/stances.csv')"
   ],
   "metadata": {
    "collapsed": false,
    "pycharm": {
     "name": "#%%\n"
    }
   }
  },
  {
   "cell_type": "code",
   "execution_count": 36,
   "outputs": [
    {
     "name": "stdout",
     "output_type": "stream",
     "text": [
      "<class 'pandas.core.frame.DataFrame'>\n",
      "RangeIndex: 1683 entries, 0 to 1682\n",
      "Data columns (total 2 columns):\n",
      " #   Column       Non-Null Count  Dtype \n",
      "---  ------       --------------  ----- \n",
      " 0   Body ID      1683 non-null   int64 \n",
      " 1   articleBody  1683 non-null   object\n",
      "dtypes: int64(1), object(1)\n",
      "memory usage: 26.4+ KB\n"
     ]
    }
   ],
   "source": [
    "# Check for null values\n",
    "bodies.info()"
   ],
   "metadata": {
    "collapsed": false,
    "pycharm": {
     "name": "#%%\n"
    }
   }
  },
  {
   "cell_type": "code",
   "execution_count": 37,
   "outputs": [
    {
     "name": "stdout",
     "output_type": "stream",
     "text": [
      "<class 'pandas.core.frame.DataFrame'>\n",
      "RangeIndex: 49972 entries, 0 to 49971\n",
      "Data columns (total 3 columns):\n",
      " #   Column    Non-Null Count  Dtype \n",
      "---  ------    --------------  ----- \n",
      " 0   Headline  49972 non-null  object\n",
      " 1   Body ID   49972 non-null  int64 \n",
      " 2   Stance    49972 non-null  object\n",
      "dtypes: int64(1), object(2)\n",
      "memory usage: 1.1+ MB\n"
     ]
    }
   ],
   "source": [
    "stances.info()"
   ],
   "metadata": {
    "collapsed": false,
    "pycharm": {
     "name": "#%%\n"
    }
   }
  },
  {
   "cell_type": "code",
   "execution_count": 38,
   "outputs": [
    {
     "name": "stdout",
     "output_type": "stream",
     "text": [
      "Number of body duplicates: 14\n"
     ]
    }
   ],
   "source": [
    "# Check for duplicates\n",
    "unique_count = bodies.groupby('articleBody').agg(['unique', 'nunique'])\n",
    "duplicates   = unique_count[unique_count['Body ID']['nunique'] > 1]['Body ID']['unique'].tolist()\n",
    "\n",
    "print(f'Number of body duplicates: {len(duplicates)}')"
   ],
   "metadata": {
    "collapsed": false,
    "pycharm": {
     "name": "#%%\n"
    }
   }
  },
  {
   "cell_type": "code",
   "execution_count": 39,
   "outputs": [
    {
     "name": "stdout",
     "output_type": "stream",
     "text": [
      "Number of bodies after duplicate removal: 1669\n"
     ]
    }
   ],
   "source": [
    "# Map second duplicate in a pair to ID of the first body\n",
    "duplicates = {non_first_duplicate: ids[0] for ids in duplicates for non_first_duplicate in ids[1:]}\n",
    "\n",
    "# Remove duplicates\n",
    "bodies = bodies.drop_duplicates(subset='articleBody', keep='first')\n",
    "\n",
    "print(f'Number of bodies after duplicate removal: {len(bodies)}')"
   ],
   "metadata": {
    "collapsed": false,
    "pycharm": {
     "name": "#%%\n"
    }
   }
  },
  {
   "cell_type": "code",
   "execution_count": 40,
   "outputs": [
    {
     "name": "stdout",
     "output_type": "stream",
     "text": [
      "Number of headline-body pairs after duplicate removal: 49538\n"
     ]
    }
   ],
   "source": [
    "# Fix the Body IDs of removed duplicate bodies in the Stances table\n",
    "stances['Body ID'] = stances['Body ID'].apply(lambda body_id: duplicates[body_id] if body_id in duplicates else body_id)\n",
    "\n",
    "# Remove duplicated Headline - Body pairs\n",
    "stances = stances.drop_duplicates(subset=['Headline', 'Body ID'], keep='first')\n",
    "\n",
    "print(f'Number of headline-body pairs after duplicate removal: {len(stances)}')"
   ],
   "metadata": {
    "collapsed": false,
    "pycharm": {
     "name": "#%%\n"
    }
   }
  },
  {
   "cell_type": "code",
   "execution_count": 41,
   "outputs": [
    {
     "name": "stdout",
     "output_type": "stream",
     "text": [
      "Number of unique headlines: 1648\n"
     ]
    }
   ],
   "source": [
    "unique_heads = set(stances[\"Headline\"])\n",
    "\n",
    "print(f'Number of unique headlines: {len(unique_heads)}')"
   ],
   "metadata": {
    "collapsed": false,
    "pycharm": {
     "name": "#%%\n"
    }
   }
  },
  {
   "cell_type": "code",
   "execution_count": 42,
   "outputs": [],
   "source": [
    "# Replace headline by ID in Stances table\n",
    "# Useful later for faster tokenizing (1,500 instead of 50,000)\n",
    "max_body_id = max(stances['Body ID']) + 1\n",
    "head_to_id  = {headline: idx + max_body_id for idx, headline in enumerate(unique_heads)}\n",
    "\n",
    "stances['Headline'] = stances['Headline'].apply(lambda headline: head_to_id[headline])"
   ],
   "metadata": {
    "collapsed": false,
    "pycharm": {
     "name": "#%%\n"
    }
   }
  },
  {
   "cell_type": "code",
   "execution_count": 43,
   "outputs": [
    {
     "name": "stdout",
     "output_type": "stream",
     "text": [
      "Num conflicting data points: 0\n"
     ]
    }
   ],
   "source": [
    "# Check for data points with conflicting labels\n",
    "num_conflicts = (stances.groupby(['Headline', 'Body ID']).agg('nunique') > 1)['Stance'].sum()\n",
    "\n",
    "print(f'Num conflicting data points: {num_conflicts}')"
   ],
   "metadata": {
    "collapsed": false,
    "pycharm": {
     "name": "#%%\n"
    }
   }
  },
  {
   "cell_type": "code",
   "execution_count": 44,
   "outputs": [
    {
     "name": "stdout",
     "output_type": "stream",
     "text": [
      "Dataset size: 49538\n",
      "\n",
      "Class distribution:\n",
      "    disagree :  1.67%, (  829)\n",
      "    agree    :  7.35%, ( 3643)\n",
      "    discuss  : 17.77%, ( 8804)\n",
      "    unrelated: 73.20%, (36262)\n"
     ]
    }
   ],
   "source": [
    "# Check class distribution\n",
    "dist = sorted(Counter(stances['Stance']).items(), key=lambda x: x[1])\n",
    "\n",
    "print(f'Dataset size: {len(stances)}\\n')\n",
    "print('Class distribution:')\n",
    "\n",
    "for label, count in dist:\n",
    "    print(f'    {label:<9s}: {count * 100 / len(stances):>5.2f}%, ({count:>5d})')"
   ],
   "metadata": {
    "collapsed": false,
    "pycharm": {
     "name": "#%%\n"
    }
   }
  },
  {
   "cell_type": "markdown",
   "source": [
    "## Dataset partitioning problem\n",
    "\n",
    "For ML we need to split the dataset into train / validation / test sets.\n",
    "The project GitHub repository offers a ready test set, so I am going to use it.\n",
    "I need to split the available dataset to train and validation only.\n",
    "\n",
    "Splitting aims:\n",
    "- Maintain original class distribution in train & valid set\n",
    "- The splits are mutually exclusive"
   ],
   "metadata": {
    "collapsed": false,
    "pycharm": {
     "name": "#%% md\n"
    }
   }
  },
  {
   "cell_type": "markdown",
   "source": [
    "**Problem**:\n",
    "The mapping between headlines and bodies is many-to-many.\n",
    "We cannot have a headline that occurs both in train set and validation set pair.\n",
    "Otherwise, we have data leakage from train to the validation set.\n",
    "Validation set will produce over-optimistic estimates in hyperparameter tunning.\n",
    "\n",
    "We need to assign each headline and body either to train or validation dataset.\n",
    "Then remove the Stance pairings in which headline and body are not in the same set.\n",
    "*(The removal is temporary for hyperparameter tunning only. After finding good hyperparameters we retrain on the entire dataset.)*\n",
    "There are $2^{N}$ possible splits to consider ($N$ being number of bodies and headlines).\n",
    "Combinatorial problem - too costly to consider all splits.\n",
    "The problem is a graph coloring one so use breadth-first search (BFS) to find a suboptimal split.\n",
    "\n",
    "New splitting aims:\n",
    "- Maintain original class distribution in train & valid set\n",
    "- The pairing splits are mutually exclusive\n",
    "- Each Headline and Body is assigned to train or valid set only.\n",
    "- Minimize the number of inter-split Body-Headline connections, to maximize the number of training examples.\n",
    "\n",
    "The implementation is in `util.split_data` function."
   ],
   "metadata": {
    "collapsed": false,
    "pycharm": {
     "name": "#%% md\n"
    }
   }
  },
  {
   "cell_type": "code",
   "execution_count": 45,
   "outputs": [],
   "source": [
    "from util import split_data"
   ],
   "metadata": {
    "collapsed": false,
    "pycharm": {
     "name": "#%%\n"
    }
   }
  },
  {
   "cell_type": "code",
   "execution_count": 46,
   "outputs": [
    {
     "data": {
      "text/plain": "  0%|          | 0/2476 [00:00<?, ?it/s]",
      "application/vnd.jupyter.widget-view+json": {
       "version_major": 2,
       "version_minor": 0,
       "model_id": "5eaffb4638574276a40591b57a85967f"
      }
     },
     "metadata": {},
     "output_type": "display_data"
    }
   ],
   "source": [
    "new_stances = split_data(stances, valid_size=0.05, seed=6)"
   ],
   "metadata": {
    "collapsed": false,
    "pycharm": {
     "name": "#%%\n"
    }
   }
  },
  {
   "cell_type": "code",
   "execution_count": 47,
   "outputs": [
    {
     "data": {
      "text/plain": "<Figure size 581x500 with 1 Axes>",
      "image/png": "[encoded data removed]"
     },
     "metadata": {},
     "output_type": "display_data"
    }
   ],
   "source": [
    "split_display = new_stances.groupby('split')['Stance'].value_counts(normalize=True).mul(100).rename('percent')\n",
    "\n",
    "split_display.reset_index().pipe((sns.catplot, 'data'), x='Stance', y='percent', hue='split', kind='bar');"
   ],
   "metadata": {
    "collapsed": false,
    "pycharm": {
     "name": "#%%\n"
    }
   }
  },
  {
   "cell_type": "code",
   "execution_count": 48,
   "outputs": [
    {
     "name": "stdout",
     "output_type": "stream",
     "text": [
      "      | total | data % | unrelated |    agree | disagree |  discuss\n",
      "-------------------------------------------------------------------\n",
      "train | 31161 | 62.90% |    73.40% |    7.80% |    1.52% |   17.27%\n",
      "valid |  2501 |  5.05% |    72.49% |    7.52% |    2.36% |   17.63%\n",
      "none  | 15876 | 32.05% |    72.92% |    6.45% |    1.86% |   18.77%\n"
     ]
    }
   ],
   "source": [
    "labels = {'unrelated': 0, 'agree': 1, 'disagree': 2, 'discuss': 3}\n",
    "\n",
    "print(f'{\" \":<5s} | total | data % | unrelated | {\"agree\":>8s} | disagree | {\"discuss\":>8s}')\n",
    "print(\"-------------------------------------------------------------------\")\n",
    "\n",
    "for split in ['train', 'valid', 'none']:\n",
    "    filtered = new_stances[new_stances['split'] == split]\n",
    "    n = len(filtered)\n",
    "\n",
    "    aux = lambda label: f'{((filtered[\"Stance\"] == label).sum() * 100 / n):>8.2f}%'\n",
    "    str_rep = \" |\".join([aux(label) for label in labels])\n",
    "    print(f'{split:<5s} | {n:5d} | {(n * 100 / len(new_stances)):>5.2f}% |', str_rep)"
   ],
   "metadata": {
    "collapsed": false,
    "pycharm": {
     "name": "#%%\n"
    }
   }
  },
  {
   "cell_type": "markdown",
   "source": [
    "The algorithm I have used for data splitting produces well-balanced splits in terms of classes.\n",
    "Drawback: many examples must be rejected.\n",
    "I have tried different expansion method, that selected the least connected nodes for expansion in BFS.\n",
    "The previous method rejected significantly less inter-split connections, but split class distributions varied significantly.\n",
    "*(3 times lower proportion of \"agree\" examples in a train set compared to validation)*\n",
    "There are no free-lunches :("
   ],
   "metadata": {
    "collapsed": false,
    "pycharm": {
     "name": "#%% md\n"
    }
   }
  },
  {
   "cell_type": "markdown",
   "source": [
    "**Finally, I use 5% of Headline-Body pairings as the validation set. 63% pairs are left for training. The remaining 32% of data must be left out from the hyper-parameter tunning process, to prevent same examples in training and validation sets.**\n",
    "*(I use 5% of data in validation set because when I have tried 10% the train set had only 40% of examples)*"
   ],
   "metadata": {
    "collapsed": false,
    "pycharm": {
     "name": "#%% md\n"
    }
   }
  },
  {
   "cell_type": "markdown",
   "source": [
    "### Digression\n",
    "Creating more *\"unrelated\"* pairings by randomly assigning more headlines to bodies is a good data augmentation method.\n",
    "Its unlikely that such random assignment would produce a *\"related\"* pair.\n",
    "However, most of the pairings are already *\"unrelated\"*.\n",
    "Headlines are paired with multiple bodies.\n",
    "The method was probably already used in the dataset creation."
   ],
   "metadata": {
    "collapsed": false,
    "pycharm": {
     "name": "#%% md\n"
    }
   }
  },
  {
   "cell_type": "code",
   "execution_count": 49,
   "outputs": [],
   "source": [],
   "metadata": {
    "collapsed": false,
    "pycharm": {
     "name": "#%%\n"
    }
   }
  }
 ],
 "metadata": {
  "kernelspec": {
   "display_name": "Python 3",
   "language": "python",
   "name": "python3"
  },
  "language_info": {
   "codemirror_mode": {
    "name": "ipython",
    "version": 2
   },
   "file_extension": ".py",
   "mimetype": "text/x-python",
   "name": "python",
   "nbconvert_exporter": "python",
   "pygments_lexer": "ipython2",
   "version": "2.7.6"
  }
 },
 "nbformat": 4,
 "nbformat_minor": 0
}