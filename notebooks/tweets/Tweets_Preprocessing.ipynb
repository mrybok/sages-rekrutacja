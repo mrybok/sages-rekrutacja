{
 "cells": [
  {
   "cell_type": "code",
   "execution_count": 1,
   "outputs": [],
   "source": [
    "import pickle\n",
    "\n",
    "import numpy as np\n",
    "import pandas as pd\n",
    "import seaborn as sns\n",
    "import matplotlib.pyplot as plt\n",
    "\n",
    "from common.util import tokenize_texts"
   ],
   "metadata": {
    "collapsed": false,
    "pycharm": {
     "name": "#%%\n"
    }
   }
  },
  {
   "cell_type": "code",
   "execution_count": 2,
   "outputs": [],
   "source": [
    "columns = ['target', 'id', 'date', 'query', 'user', 'text']\n",
    "tweets = pd.read_csv('../../data/tweets/Data_tweets.csv', header=None, names=columns)"
   ],
   "metadata": {
    "collapsed": false,
    "pycharm": {
     "name": "#%%\n"
    }
   }
  },
  {
   "cell_type": "code",
   "execution_count": 3,
   "outputs": [
    {
     "data": {
      "text/plain": "{'NO_QUERY'}"
     },
     "execution_count": 3,
     "metadata": {},
     "output_type": "execute_result"
    }
   ],
   "source": [
    "# Check unique query values\n",
    "set(tweets['query'])"
   ],
   "metadata": {
    "collapsed": false,
    "pycharm": {
     "name": "#%%\n"
    }
   }
  },
  {
   "cell_type": "markdown",
   "source": [
    "The query field has only one value, so it does not distinguish tweets at all.\n",
    "This field is completely useless for classification and should be removed."
   ],
   "metadata": {
    "collapsed": false,
    "pycharm": {
     "name": "#%% md\n"
    }
   }
  },
  {
   "cell_type": "code",
   "execution_count": 4,
   "outputs": [],
   "source": [
    "tweets = tweets.drop('query', axis=1)"
   ],
   "metadata": {
    "collapsed": false,
    "pycharm": {
     "name": "#%%\n"
    }
   }
  },
  {
   "cell_type": "code",
   "execution_count": 5,
   "outputs": [
    {
     "name": "stdout",
     "output_type": "stream",
     "text": [
      "49 duplicate tweet texts detected\n"
     ]
    }
   ],
   "source": [
    "# Check whether duplicates exist\n",
    "duplicates = tweets[tweets.duplicated('text')]\n",
    "\n",
    "print(f'{len(duplicates)} duplicate tweet texts detected')"
   ],
   "metadata": {
    "collapsed": false,
    "pycharm": {
     "name": "#%%\n"
    }
   }
  },
  {
   "cell_type": "code",
   "execution_count": 6,
   "outputs": [
    {
     "name": "stdout",
     "output_type": "stream",
     "text": [
      "Number of tweets with same text but different polarity: 2\n"
     ]
    }
   ],
   "source": [
    "# Check for duplicates with conflicting labels\n",
    "conflicts = duplicates[['target', 'text']].groupby('text').agg(['unique', 'nunique'])\n",
    "conflicts = conflicts[conflicts['target']['nunique'] > 1]\n",
    "\n",
    "print(f'Number of tweets with same text but different polarity: {sum(conflicts[\"target\"][\"nunique\"])}')"
   ],
   "metadata": {
    "collapsed": false,
    "pycharm": {
     "name": "#%%\n"
    }
   }
  },
  {
   "cell_type": "code",
   "execution_count": 7,
   "outputs": [
    {
     "data": {
      "text/plain": "          target        \n          unique nunique\ntext                    \nAt work   [4, 0]       2",
      "text/html": "<div>\n<style scoped>\n    .dataframe tbody tr th:only-of-type {\n        vertical-align: middle;\n    }\n\n    .dataframe tbody tr th {\n        vertical-align: top;\n    }\n\n    .dataframe thead tr th {\n        text-align: left;\n    }\n\n    .dataframe thead tr:last-of-type th {\n        text-align: right;\n    }\n</style>\n<table border=\"1\" class=\"dataframe\">\n  <thead>\n    <tr>\n      <th></th>\n      <th colspan=\"2\" halign=\"left\">target</th>\n    </tr>\n    <tr>\n      <th></th>\n      <th>unique</th>\n      <th>nunique</th>\n    </tr>\n    <tr>\n      <th>text</th>\n      <th></th>\n      <th></th>\n    </tr>\n  </thead>\n  <tbody>\n    <tr>\n      <th>At work</th>\n      <td>[4, 0]</td>\n      <td>2</td>\n    </tr>\n  </tbody>\n</table>\n</div>"
     },
     "execution_count": 7,
     "metadata": {},
     "output_type": "execute_result"
    }
   ],
   "source": [
    "# Display the conflicting tweets\n",
    "conflicts"
   ],
   "metadata": {
    "collapsed": false,
    "pycharm": {
     "name": "#%%\n"
    }
   }
  },
  {
   "cell_type": "code",
   "execution_count": 8,
   "outputs": [
    {
     "data": {
      "text/plain": "       target          id                          date          user  \\\n11765       0  2227044159  Thu Jun 18 12:42:24 PDT 2009    myoung1008   \n13148       4  2190271424  Tue Jun 16 02:15:09 PDT 2009   pretty_sara   \n24407       0  2208369667  Wed Jun 17 09:06:49 PDT 2009  webbywebster   \n\n           text  \n11765  At work   \n13148  At work   \n24407  At work   ",
      "text/html": "<div>\n<style scoped>\n    .dataframe tbody tr th:only-of-type {\n        vertical-align: middle;\n    }\n\n    .dataframe tbody tr th {\n        vertical-align: top;\n    }\n\n    .dataframe thead th {\n        text-align: right;\n    }\n</style>\n<table border=\"1\" class=\"dataframe\">\n  <thead>\n    <tr style=\"text-align: right;\">\n      <th></th>\n      <th>target</th>\n      <th>id</th>\n      <th>date</th>\n      <th>user</th>\n      <th>text</th>\n    </tr>\n  </thead>\n  <tbody>\n    <tr>\n      <th>11765</th>\n      <td>0</td>\n      <td>2227044159</td>\n      <td>Thu Jun 18 12:42:24 PDT 2009</td>\n      <td>myoung1008</td>\n      <td>At work</td>\n    </tr>\n    <tr>\n      <th>13148</th>\n      <td>4</td>\n      <td>2190271424</td>\n      <td>Tue Jun 16 02:15:09 PDT 2009</td>\n      <td>pretty_sara</td>\n      <td>At work</td>\n    </tr>\n    <tr>\n      <th>24407</th>\n      <td>0</td>\n      <td>2208369667</td>\n      <td>Wed Jun 17 09:06:49 PDT 2009</td>\n      <td>webbywebster</td>\n      <td>At work</td>\n    </tr>\n  </tbody>\n</table>\n</div>"
     },
     "execution_count": 8,
     "metadata": {},
     "output_type": "execute_result"
    }
   ],
   "source": [
    "tweets[tweets['text'] == 'At work ']"
   ],
   "metadata": {
    "collapsed": false,
    "pycharm": {
     "name": "#%%\n"
    }
   }
  },
  {
   "cell_type": "markdown",
   "source": [
    "The two *\"At work\"* tweets, have positive and negative polarity.\n",
    "Ironically, the tweets with negative polarity are written during working hours, but the positive one was written when someone was working at 2 am.\n",
    "These examples are good for learning the mapping between time of the day and the polarity, so they should be kept.\n",
    "Generally, duplicates have different timestamps, so in this dataset keep them."
   ],
   "metadata": {
    "collapsed": false,
    "pycharm": {
     "name": "#%% md\n"
    }
   }
  },
  {
   "cell_type": "code",
   "execution_count": 9,
   "outputs": [
    {
     "name": "stdout",
     "output_type": "stream",
     "text": [
      "Number of unique users: 27770\n"
     ]
    }
   ],
   "source": [
    "# Inspect users\n",
    "print(f'Number of unique users: {len(set(tweets[\"user\"]))}')"
   ],
   "metadata": {
    "collapsed": false,
    "pycharm": {
     "name": "#%%\n"
    }
   }
  },
  {
   "cell_type": "markdown",
   "source": [
    "User ID might be predictive in terms of polarity because users can display proclivity towards \"negativity\" or \"positivity\".\n",
    "Still, in this dataset there are almost as many users as tweets.\n",
    "Using the user ID here will act as overfitting.\n",
    "User ID can be good for sentiment analysis when we have a long history of user tweets.\n",
    "The weight associated with user ID then resembles a prior informing about that user's historical tendency to \"negativity\" or \"positivity\", so we can guess the next tweet polarity without seeing it."
   ],
   "metadata": {
    "collapsed": false,
    "pycharm": {
     "name": "#%% md\n"
    }
   }
  },
  {
   "cell_type": "code",
   "execution_count": 10,
   "outputs": [],
   "source": [
    "# Remove user & tweet IDs\n",
    "tweets = tweets.drop('user', axis=1)"
   ],
   "metadata": {
    "collapsed": false,
    "pycharm": {
     "name": "#%%\n"
    }
   }
  },
  {
   "cell_type": "code",
   "execution_count": 11,
   "outputs": [
    {
     "name": "stdout",
     "output_type": "stream",
     "text": [
      "The dataset spans the period:\n",
      "2009-04-06 22:21:07\n",
      "2009-06-25 10:24:32\n"
     ]
    }
   ],
   "source": [
    "# Parse the dates\n",
    "tweets['date'] = pd.to_datetime(tweets['date'], format=\"%a %b %d %H:%M:%S PDT %Y\")\n",
    "\n",
    "print('The dataset spans the period:')\n",
    "print(tweets['date'].min())\n",
    "print(tweets['date'].max())"
   ],
   "metadata": {
    "collapsed": false,
    "pycharm": {
     "name": "#%%\n"
    }
   }
  },
  {
   "cell_type": "markdown",
   "source": [
    "**Idea**\n",
    "The time of the day or the week might correlate with polarity.\n",
    "People might have higher proclivity to send angry tweets at night or be more relaxed during the weekend & send positive tweets then.\n",
    "\n",
    "Represent time with 4 values:\n",
    "- cos & sin of timestamp with a period of 24 hours to represent the time of the day\n",
    "- cos & sin of timestamp with a period of 7 days to represent the day of the week\n",
    "\n",
    "In this way, the tweets with different dates, but the same day of the week and time of the day share the time representation."
   ],
   "metadata": {
    "collapsed": false,
    "pycharm": {
     "name": "#%% md\n"
    }
   }
  },
  {
   "cell_type": "code",
   "execution_count": 12,
   "outputs": [],
   "source": [
    "tweets['timestamp'] = tweets.date.values.astype(np.int64) // 10 ** 9\n",
    "\n",
    "# Period = 2 PI / B\n",
    "# B = 2 PI / Period\n",
    "# sin(Bx) / cos(Bx)\n",
    "week_B = 2 * np.pi / (7 * 24 * 60 * 60)\n",
    "day_B = 2 * np.pi / (24 * 60 * 60)\n",
    "\n",
    "tweets['sin day'] = np.sin(tweets['timestamp'] * week_B)\n",
    "tweets['cos day'] = np.cos(tweets['timestamp'] * week_B)\n",
    "tweets['sin hour'] = np.sin(tweets['timestamp'] * day_B)\n",
    "tweets['cos hour'] = np.cos(tweets['timestamp'] * day_B)\n",
    "\n",
    "# Remove the time representations useless for ML\n",
    "tweets = tweets.drop(['date', 'timestamp'], axis=1)"
   ],
   "metadata": {
    "collapsed": false,
    "pycharm": {
     "name": "#%%\n"
    }
   }
  },
  {
   "cell_type": "code",
   "execution_count": 13,
   "outputs": [
    {
     "name": "stdout",
     "output_type": "stream",
     "text": [
      "negative: 50.2% (15049)\n",
      " neutral:  0.0% (    0)\n",
      "positive: 49.8% (14951)\n"
     ]
    },
    {
     "data": {
      "text/plain": "<Figure size 640x480 with 1 Axes>",
      "image/png": "[encoded data removed]"
     },
     "metadata": {},
     "output_type": "display_data"
    }
   ],
   "source": [
    "# Check class distributions\n",
    "sns.countplot(tweets, x='target')\n",
    "labels = {0: 'negative', 2: 'neutral', 4: 'positive'}\n",
    "\n",
    "for label_id, label in labels.items():\n",
    "    class_count = (tweets['target'] == label_id).sum()\n",
    "\n",
    "    print(f'{label:>8s}: {class_count / len(tweets) * 100:4.1f}% ({class_count:5d})')"
   ],
   "metadata": {
    "collapsed": false,
    "pycharm": {
     "name": "#%%\n"
    }
   }
  },
  {
   "cell_type": "markdown",
   "source": [
    "There are no neutral tweets, only positive & negative - binary classification.\n",
    "Classes are balanced, accuracy is a good performance measure.\n",
    "Baseline - says that every tweet is negative - has 50.2% accuracy.\n",
    "Split the dataset into train / validation and test sets. (80% / 10% / 10% split)\n",
    "Preserve class distributions in splits."
   ],
   "metadata": {
    "collapsed": false,
    "pycharm": {
     "name": "#%% md\n"
    }
   }
  },
  {
   "cell_type": "code",
   "execution_count": 14,
   "outputs": [],
   "source": [
    "# Better labels are 0 & 1 for classifier with sigmoid\n",
    "tweets['target'] = tweets['target'].apply(lambda target: 1 if target == 4 else 0)"
   ],
   "metadata": {
    "collapsed": false,
    "pycharm": {
     "name": "#%%\n"
    }
   }
  },
  {
   "cell_type": "code",
   "execution_count": 15,
   "outputs": [],
   "source": [
    "# Use the same format as fake news\n",
    "text_dict = {'tweets': {row[1]: {'text': row[2], 'input_ids': []} for row in tweets.itertuples(index=False)}}\n",
    "tweets = tweets.drop('text', axis=1)"
   ],
   "metadata": {
    "collapsed": false,
    "pycharm": {
     "name": "#%%\n"
    }
   }
  },
  {
   "cell_type": "code",
   "execution_count": 16,
   "outputs": [],
   "source": [
    "# Shuffle the dataset\n",
    "tweets = tweets.sample(frac=1, random_state=0)\n",
    "\n",
    "negatives = tweets[tweets['target'] == 0]\n",
    "positives = tweets[tweets['target'] == 1]\n",
    "\n",
    "train_negative_idx = int(len(negatives) * 0.8)\n",
    "train_positive_idx = int(len(positives) * 0.8)\n",
    "valid_negative_idx = int(len(negatives) * 0.9)\n",
    "valid_positive_idx = int(len(positives) * 0.9)\n",
    "\n",
    "train_set = pd.concat((negatives.iloc[:train_negative_idx], positives.iloc[:train_positive_idx]))\n",
    "valid_set = pd.concat((negatives.iloc[train_negative_idx:valid_negative_idx], positives.iloc[train_positive_idx:valid_positive_idx]))\n",
    "test_set = pd.concat((negatives.iloc[valid_negative_idx:], positives.iloc[valid_positive_idx:]))\n",
    "\n",
    "assert len(train_set) + len(valid_set) + len(test_set) == len(tweets)"
   ],
   "metadata": {
    "collapsed": false,
    "pycharm": {
     "name": "#%%\n"
    }
   }
  },
  {
   "cell_type": "code",
   "execution_count": 17,
   "outputs": [],
   "source": [
    "# Save the preprocessed data\n",
    "train_set.to_csv('../../preprocessed/tweets/data/train.csv', index=False)\n",
    "valid_set.to_csv('../../preprocessed/tweets/data/valid.csv', index=False)\n",
    "test_set.to_csv('../../preprocessed/tweets/data/test.csv', index=False)\n",
    "\n",
    "with open('../../preprocessed/tweets/data/text_dicts.pkl', 'wb') as file:\n",
    "    pickle.dump(text_dict, file)"
   ],
   "metadata": {
    "collapsed": false,
    "pycharm": {
     "name": "#%%\n"
    }
   }
  },
  {
   "cell_type": "code",
   "execution_count": 18,
   "outputs": [
    {
     "data": {
      "text/plain": "tokenization:   0%|          | 0/30000 [00:00<?, ?it/s]",
      "application/vnd.jupyter.widget-view+json": {
       "version_major": 2,
       "version_minor": 0,
       "model_id": "c2dde3e6f0934abe8d3362f38942a94e"
      }
     },
     "metadata": {},
     "output_type": "display_data"
    }
   ],
   "source": [
    "tokenize_texts(\n",
    "    in_file='../../preprocessed/tweets/data/text_dicts.pkl',\n",
    "    out_file='../../preprocessed/tweets/data/text_dicts.pkl',\n",
    "    verbose=True\n",
    ")"
   ],
   "metadata": {
    "collapsed": false,
    "pycharm": {
     "name": "#%%\n"
    }
   }
  },
  {
   "cell_type": "code",
   "execution_count": 19,
   "outputs": [],
   "source": [
    "with open('../../preprocessed/tweets/data/text_dicts.pkl', 'rb') as file:\n",
    "    text_dict = pickle.load(file)"
   ],
   "metadata": {
    "collapsed": false,
    "pycharm": {
     "name": "#%%\n"
    }
   }
  },
  {
   "cell_type": "code",
   "execution_count": 20,
   "outputs": [
    {
     "name": "stdout",
     "output_type": "stream",
     "text": [
      "Maximal tweet length in terms of BERT tokens: 106\n"
     ]
    },
    {
     "data": {
      "text/plain": "<Figure size 1000x500 with 1 Axes>",
      "image/png": "[encoded data removed]"
     },
     "metadata": {},
     "output_type": "display_data"
    }
   ],
   "source": [
    "# Check tweet lengths distribution\n",
    "token_lens = [len(tweet['input_ids']) for tweet in text_dict['tweets'].values()]\n",
    "\n",
    "_, ax = plt.subplots(1, 1, figsize=(10, 5))\n",
    "\n",
    "sns.histplot(token_lens, ax=ax)\n",
    "ax.set_xlabel('tweet length')\n",
    "print(f'Maximal tweet length in terms of BERT tokens: {max(token_lens)}')"
   ],
   "metadata": {
    "collapsed": false,
    "pycharm": {
     "name": "#%%\n"
    }
   }
  },
  {
   "cell_type": "code",
   "execution_count": 20,
   "outputs": [],
   "source": [],
   "metadata": {
    "collapsed": false,
    "pycharm": {
     "name": "#%%\n"
    }
   }
  }
 ],
 "metadata": {
  "kernelspec": {
   "display_name": "Python 3",
   "language": "python",
   "name": "python3"
  },
  "language_info": {
   "codemirror_mode": {
    "name": "ipython",
    "version": 2
   },
   "file_extension": ".py",
   "mimetype": "text/x-python",
   "name": "python",
   "nbconvert_exporter": "python",
   "pygments_lexer": "ipython2",
   "version": "2.7.6"
  }
 },
 "nbformat": 4,
 "nbformat_minor": 0
}