{
 "cells": [
  {
   "cell_type": "markdown",
   "source": [
    "# Tweets classifier training & evaluation\n",
    "by Marcin Rybok"
   ],
   "metadata": {
    "collapsed": false,
    "pycharm": {
     "name": "#%% md\n"
    }
   }
  },
  {
   "cell_type": "code",
   "execution_count": 1,
   "outputs": [],
   "source": [
    "import torch\n",
    "import pickle\n",
    "import transformers\n",
    "\n",
    "import numpy as np\n",
    "import seaborn as sns\n",
    "import sklearn.metrics as metrics\n",
    "import matplotlib.pyplot as plt\n",
    "\n",
    "from tqdm.notebook import tqdm\n",
    "\n",
    "from tweets.util import get_embeddings\n",
    "from tweets.util import evaluate_wrapper\n",
    "from tweets.util import train_classifier_head\n",
    "\n",
    "transformers.logging.set_verbosity_error()"
   ],
   "metadata": {
    "collapsed": false,
    "pycharm": {
     "name": "#%%\n"
    }
   }
  },
  {
   "cell_type": "code",
   "execution_count": 2,
   "outputs": [
    {
     "data": {
      "text/plain": "  0%|          | 0/3 [00:00<?, ?it/s]",
      "application/vnd.jupyter.widget-view+json": {
       "version_major": 2,
       "version_minor": 0,
       "model_id": "7f696d886c794a3e86713a4c87d15c68"
      }
     },
     "metadata": {},
     "output_type": "display_data"
    },
    {
     "data": {
      "text/plain": "BERT input preparation:   0%|          | 0/23999 [00:00<?, ?it/s]",
      "application/vnd.jupyter.widget-view+json": {
       "version_major": 2,
       "version_minor": 0,
       "model_id": "0a1de35e6fc34597bb4f02c941683607"
      }
     },
     "metadata": {},
     "output_type": "display_data"
    },
    {
     "data": {
      "text/plain": "Embedding:   0%|          | 0/375 [00:00<?, ?it/s]",
      "application/vnd.jupyter.widget-view+json": {
       "version_major": 2,
       "version_minor": 0,
       "model_id": "38870e095da743098d258c62bf5f350a"
      }
     },
     "metadata": {},
     "output_type": "display_data"
    },
    {
     "data": {
      "text/plain": "BERT input preparation:   0%|          | 0/3000 [00:00<?, ?it/s]",
      "application/vnd.jupyter.widget-view+json": {
       "version_major": 2,
       "version_minor": 0,
       "model_id": "3c4e427bd25e470fbd47059b79028925"
      }
     },
     "metadata": {},
     "output_type": "display_data"
    },
    {
     "data": {
      "text/plain": "Embedding:   0%|          | 0/47 [00:00<?, ?it/s]",
      "application/vnd.jupyter.widget-view+json": {
       "version_major": 2,
       "version_minor": 0,
       "model_id": "bc0b924eaf8d46eaa8b7faaae1591d23"
      }
     },
     "metadata": {},
     "output_type": "display_data"
    },
    {
     "data": {
      "text/plain": "BERT input preparation:   0%|          | 0/3001 [00:00<?, ?it/s]",
      "application/vnd.jupyter.widget-view+json": {
       "version_major": 2,
       "version_minor": 0,
       "model_id": "77e84470cd994411b18b12104c7aa335"
      }
     },
     "metadata": {},
     "output_type": "display_data"
    },
    {
     "data": {
      "text/plain": "Embedding:   0%|          | 0/47 [00:00<?, ?it/s]",
      "application/vnd.jupyter.widget-view+json": {
       "version_major": 2,
       "version_minor": 0,
       "model_id": "3a8950113533489d90327694910e1365"
      }
     },
     "metadata": {},
     "output_type": "display_data"
    }
   ],
   "source": [
    "splits = ['train', 'valid', 'test']\n",
    "\n",
    "for split in tqdm(splits):\n",
    "    get_embeddings(\n",
    "        tweets=f'../../preprocessed/tweets/data/{split}.csv',\n",
    "        text_dicts='../../preprocessed/tweets/data/text_dicts.pkl',\n",
    "        output_file=f\"../../preprocessed/tweets/embeddings/{split}.pkl\",\n",
    "        gpu=True,\n",
    "        batch_size=64,\n",
    "        verbose=True\n",
    "    )"
   ],
   "metadata": {
    "collapsed": false,
    "pycharm": {
     "name": "#%%\n"
    }
   }
  },
  {
   "cell_type": "code",
   "execution_count": 3,
   "outputs": [
    {
     "data": {
      "text/plain": "  0%|          | 0/200 [00:00<?, ?it/s]",
      "application/vnd.jupyter.widget-view+json": {
       "version_major": 2,
       "version_minor": 0,
       "model_id": "15eb74d6bd7842c591d0680e2313cdec"
      }
     },
     "metadata": {},
     "output_type": "display_data"
    },
    {
     "name": "stdout",
     "output_type": "stream",
     "text": [
      "Epoch:   1 | train loss: 0.648 | valid loss: 0.605 | train acc: 64.6% | valid acc: 70.5% | train f1: 64.6% | valid f1: 70.5%\n",
      "Epoch:   2 | train loss: 0.581 | valid loss: 0.557 | train acc: 72.0% | valid acc: 74.6% | train f1: 71.9% | valid f1: 74.6%\n",
      "Epoch:   3 | train loss: 0.545 | valid loss: 0.532 | train acc: 74.4% | valid acc: 76.0% | train f1: 74.4% | valid f1: 76.0%\n",
      "Epoch:   4 | train loss: 0.523 | valid loss: 0.515 | train acc: 75.5% | valid acc: 76.7% | train f1: 75.5% | valid f1: 76.7%\n",
      "Epoch:   5 | train loss: 0.509 | valid loss: 0.504 | train acc: 76.0% | valid acc: 77.1% | train f1: 76.0% | valid f1: 77.1%\n",
      "Epoch:   6 | train loss: 0.498 | valid loss: 0.496 | train acc: 76.6% | valid acc: 77.3% | train f1: 76.6% | valid f1: 77.3%\n",
      "Epoch:   7 | train loss: 0.491 | valid loss: 0.490 | train acc: 77.0% | valid acc: 77.6% | train f1: 77.0% | valid f1: 77.6%\n",
      "Epoch:   8 | train loss: 0.485 | valid loss: 0.485 | train acc: 77.2% | valid acc: 77.6% | train f1: 77.2% | valid f1: 77.5%\n",
      "Epoch:   9 | train loss: 0.479 | valid loss: 0.481 | train acc: 77.5% | valid acc: 77.9% | train f1: 77.5% | valid f1: 77.9%\n",
      "Epoch:  10 | train loss: 0.475 | valid loss: 0.478 | train acc: 77.7% | valid acc: 78.0% | train f1: 77.7% | valid f1: 78.0%\n",
      "Epoch:  11 | train loss: 0.471 | valid loss: 0.476 | train acc: 77.9% | valid acc: 78.5% | train f1: 77.9% | valid f1: 78.5%\n",
      "Epoch:  12 | train loss: 0.469 | valid loss: 0.473 | train acc: 78.2% | valid acc: 78.2% | train f1: 78.2% | valid f1: 78.2%\n",
      "Epoch:  13 | train loss: 0.466 | valid loss: 0.470 | train acc: 78.2% | valid acc: 78.4% | train f1: 78.2% | valid f1: 78.4%\n",
      "Epoch:  14 | train loss: 0.463 | valid loss: 0.470 | train acc: 78.5% | valid acc: 78.6% | train f1: 78.5% | valid f1: 78.6%\n",
      "Epoch:  15 | train loss: 0.462 | valid loss: 0.468 | train acc: 78.6% | valid acc: 78.7% | train f1: 78.6% | valid f1: 78.7%\n",
      "Epoch:  16 | train loss: 0.460 | valid loss: 0.467 | train acc: 78.6% | valid acc: 78.7% | train f1: 78.6% | valid f1: 78.7%\n",
      "Epoch:  17 | train loss: 0.460 | valid loss: 0.465 | train acc: 78.6% | valid acc: 78.8% | train f1: 78.6% | valid f1: 78.8%\n",
      "Epoch:  18 | train loss: 0.457 | valid loss: 0.465 | train acc: 78.8% | valid acc: 78.7% | train f1: 78.8% | valid f1: 78.7%\n",
      "Epoch:  19 | train loss: 0.455 | valid loss: 0.463 | train acc: 78.8% | valid acc: 79.0% | train f1: 78.8% | valid f1: 79.0%\n",
      "Epoch:  20 | train loss: 0.454 | valid loss: 0.463 | train acc: 78.9% | valid acc: 78.9% | train f1: 78.9% | valid f1: 78.9%\n",
      "Epoch:  21 | train loss: 0.453 | valid loss: 0.462 | train acc: 78.9% | valid acc: 78.9% | train f1: 78.9% | valid f1: 78.9%\n",
      "Epoch:  22 | train loss: 0.452 | valid loss: 0.462 | train acc: 79.0% | valid acc: 78.8% | train f1: 79.0% | valid f1: 78.8%\n",
      "Epoch:  23 | train loss: 0.452 | valid loss: 0.460 | train acc: 79.1% | valid acc: 78.9% | train f1: 79.1% | valid f1: 78.9%\n",
      "Epoch:  24 | train loss: 0.451 | valid loss: 0.461 | train acc: 78.9% | valid acc: 78.9% | train f1: 78.9% | valid f1: 78.9%\n",
      "Epoch:  25 | train loss: 0.449 | valid loss: 0.459 | train acc: 79.2% | valid acc: 78.9% | train f1: 79.2% | valid f1: 78.9%\n",
      "Epoch:  26 | train loss: 0.449 | valid loss: 0.461 | train acc: 79.1% | valid acc: 79.0% | train f1: 79.1% | valid f1: 79.0%\n",
      "Epoch:  27 | train loss: 0.448 | valid loss: 0.459 | train acc: 79.2% | valid acc: 78.9% | train f1: 79.2% | valid f1: 78.9%\n",
      "Epoch:  28 | train loss: 0.447 | valid loss: 0.459 | train acc: 79.3% | valid acc: 79.1% | train f1: 79.3% | valid f1: 79.1%\n",
      "Epoch:  29 | train loss: 0.446 | valid loss: 0.458 | train acc: 79.4% | valid acc: 78.9% | train f1: 79.4% | valid f1: 78.9%\n",
      "Epoch:  30 | train loss: 0.446 | valid loss: 0.458 | train acc: 79.3% | valid acc: 79.1% | train f1: 79.3% | valid f1: 79.1%\n",
      "Epoch:  31 | train loss: 0.445 | valid loss: 0.458 | train acc: 79.4% | valid acc: 79.3% | train f1: 79.4% | valid f1: 79.3%\n",
      "Epoch:  32 | train loss: 0.444 | valid loss: 0.457 | train acc: 79.4% | valid acc: 78.8% | train f1: 79.4% | valid f1: 78.8%\n",
      "Epoch:  33 | train loss: 0.445 | valid loss: 0.457 | train acc: 79.3% | valid acc: 79.4% | train f1: 79.3% | valid f1: 79.4%\n",
      "Epoch:  34 | train loss: 0.443 | valid loss: 0.456 | train acc: 79.5% | valid acc: 79.0% | train f1: 79.5% | valid f1: 79.0%\n",
      "Epoch:  35 | train loss: 0.444 | valid loss: 0.457 | train acc: 79.6% | valid acc: 79.1% | train f1: 79.6% | valid f1: 79.1%\n",
      "Epoch:  36 | train loss: 0.442 | valid loss: 0.456 | train acc: 79.6% | valid acc: 79.3% | train f1: 79.6% | valid f1: 79.3%\n",
      "Epoch:  37 | train loss: 0.442 | valid loss: 0.456 | train acc: 79.6% | valid acc: 79.0% | train f1: 79.6% | valid f1: 79.0%\n",
      "Epoch:  38 | train loss: 0.442 | valid loss: 0.456 | train acc: 79.5% | valid acc: 79.3% | train f1: 79.5% | valid f1: 79.3%\n",
      "Epoch:  39 | train loss: 0.442 | valid loss: 0.455 | train acc: 79.6% | valid acc: 78.9% | train f1: 79.6% | valid f1: 78.9%\n",
      "Epoch:  40 | train loss: 0.441 | valid loss: 0.455 | train acc: 79.7% | valid acc: 79.0% | train f1: 79.7% | valid f1: 79.0%\n",
      "Epoch:  41 | train loss: 0.440 | valid loss: 0.455 | train acc: 79.6% | valid acc: 79.1% | train f1: 79.6% | valid f1: 79.1%\n",
      "Epoch:  42 | train loss: 0.440 | valid loss: 0.457 | train acc: 79.7% | valid acc: 79.4% | train f1: 79.7% | valid f1: 79.4%\n",
      "Epoch:  43 | train loss: 0.441 | valid loss: 0.455 | train acc: 79.7% | valid acc: 79.2% | train f1: 79.7% | valid f1: 79.2%\n",
      "Epoch:  44 | train loss: 0.441 | valid loss: 0.455 | train acc: 79.8% | valid acc: 79.3% | train f1: 79.8% | valid f1: 79.3%\n",
      "Epoch:  45 | train loss: 0.439 | valid loss: 0.454 | train acc: 79.8% | valid acc: 79.1% | train f1: 79.8% | valid f1: 79.1%\n",
      "Epoch:  46 | train loss: 0.438 | valid loss: 0.457 | train acc: 79.8% | valid acc: 79.3% | train f1: 79.8% | valid f1: 79.3%\n",
      "Epoch:  47 | train loss: 0.438 | valid loss: 0.455 | train acc: 79.8% | valid acc: 79.1% | train f1: 79.8% | valid f1: 79.1%\n",
      "Epoch:  48 | train loss: 0.439 | valid loss: 0.455 | train acc: 79.9% | valid acc: 79.2% | train f1: 79.9% | valid f1: 79.2%\n",
      "Epoch:  49 | train loss: 0.438 | valid loss: 0.454 | train acc: 79.8% | valid acc: 79.1% | train f1: 79.8% | valid f1: 79.1%\n",
      "Epoch:  50 | train loss: 0.437 | valid loss: 0.455 | train acc: 79.9% | valid acc: 79.1% | train f1: 79.9% | valid f1: 79.1%\n",
      "Epoch:  51 | train loss: 0.437 | valid loss: 0.454 | train acc: 79.9% | valid acc: 79.2% | train f1: 79.9% | valid f1: 79.2%\n",
      "Epoch:  52 | train loss: 0.436 | valid loss: 0.455 | train acc: 79.9% | valid acc: 79.2% | train f1: 79.9% | valid f1: 79.2%\n",
      "Epoch:  53 | train loss: 0.438 | valid loss: 0.454 | train acc: 79.9% | valid acc: 79.1% | train f1: 79.9% | valid f1: 79.1%\n",
      "Epoch:  54 | train loss: 0.436 | valid loss: 0.454 | train acc: 80.0% | valid acc: 79.0% | train f1: 80.0% | valid f1: 79.0%\n",
      "Epoch:  55 | train loss: 0.435 | valid loss: 0.454 | train acc: 79.9% | valid acc: 79.5% | train f1: 79.9% | valid f1: 79.5%\n",
      "Epoch:  56 | train loss: 0.436 | valid loss: 0.454 | train acc: 80.0% | valid acc: 79.3% | train f1: 80.0% | valid f1: 79.3%\n",
      "Epoch:  57 | train loss: 0.436 | valid loss: 0.453 | train acc: 80.0% | valid acc: 79.3% | train f1: 80.0% | valid f1: 79.3%\n",
      "Epoch:  58 | train loss: 0.435 | valid loss: 0.453 | train acc: 79.9% | valid acc: 79.1% | train f1: 79.9% | valid f1: 79.1%\n",
      "Epoch:  59 | train loss: 0.436 | valid loss: 0.454 | train acc: 80.0% | valid acc: 79.2% | train f1: 80.0% | valid f1: 79.2%\n",
      "Epoch:  60 | train loss: 0.435 | valid loss: 0.453 | train acc: 80.0% | valid acc: 79.0% | train f1: 80.0% | valid f1: 79.0%\n",
      "Epoch:  61 | train loss: 0.436 | valid loss: 0.454 | train acc: 80.1% | valid acc: 79.0% | train f1: 80.1% | valid f1: 79.0%\n",
      "Epoch:  62 | train loss: 0.435 | valid loss: 0.454 | train acc: 80.1% | valid acc: 79.2% | train f1: 80.1% | valid f1: 79.2%\n",
      "Epoch:  63 | train loss: 0.433 | valid loss: 0.454 | train acc: 80.1% | valid acc: 79.3% | train f1: 80.1% | valid f1: 79.3%\n",
      "Epoch:  64 | train loss: 0.436 | valid loss: 0.454 | train acc: 80.1% | valid acc: 79.2% | train f1: 80.1% | valid f1: 79.2%\n",
      "Epoch:  65 | train loss: 0.435 | valid loss: 0.453 | train acc: 80.2% | valid acc: 79.3% | train f1: 80.2% | valid f1: 79.3%\n",
      "Epoch:  66 | train loss: 0.433 | valid loss: 0.453 | train acc: 80.2% | valid acc: 79.1% | train f1: 80.2% | valid f1: 79.1%\n",
      "Epoch:  67 | train loss: 0.434 | valid loss: 0.453 | train acc: 80.2% | valid acc: 79.4% | train f1: 80.2% | valid f1: 79.4%\n",
      "Epoch:  68 | train loss: 0.435 | valid loss: 0.453 | train acc: 80.2% | valid acc: 79.2% | train f1: 80.2% | valid f1: 79.2%\n",
      "Epoch:  69 | train loss: 0.433 | valid loss: 0.454 | train acc: 80.2% | valid acc: 79.3% | train f1: 80.2% | valid f1: 79.3%\n",
      "Epoch:  70 | train loss: 0.433 | valid loss: 0.453 | train acc: 80.1% | valid acc: 79.0% | train f1: 80.1% | valid f1: 79.0%\n",
      "Epoch:  71 | train loss: 0.433 | valid loss: 0.453 | train acc: 80.1% | valid acc: 79.1% | train f1: 80.1% | valid f1: 79.1%\n",
      "Epoch:  72 | train loss: 0.432 | valid loss: 0.454 | train acc: 80.2% | valid acc: 79.1% | train f1: 80.2% | valid f1: 79.1%\n",
      "Epoch:  73 | train loss: 0.434 | valid loss: 0.453 | train acc: 80.2% | valid acc: 79.3% | train f1: 80.2% | valid f1: 79.3%\n",
      "Epoch:  74 | train loss: 0.432 | valid loss: 0.454 | train acc: 80.3% | valid acc: 79.2% | train f1: 80.3% | valid f1: 79.2%\n",
      "Epoch:  75 | train loss: 0.433 | valid loss: 0.453 | train acc: 80.2% | valid acc: 79.1% | train f1: 80.2% | valid f1: 79.1%\n",
      "Epoch:  76 | train loss: 0.433 | valid loss: 0.453 | train acc: 80.2% | valid acc: 79.3% | train f1: 80.2% | valid f1: 79.3%\n",
      "Epoch:  77 | train loss: 0.432 | valid loss: 0.453 | train acc: 80.3% | valid acc: 79.2% | train f1: 80.3% | valid f1: 79.2%\n",
      "Epoch:  78 | train loss: 0.432 | valid loss: 0.453 | train acc: 80.3% | valid acc: 79.0% | train f1: 80.3% | valid f1: 79.0%\n",
      "Epoch:  79 | train loss: 0.432 | valid loss: 0.453 | train acc: 80.3% | valid acc: 79.3% | train f1: 80.3% | valid f1: 79.3%\n",
      "Epoch:  80 | train loss: 0.431 | valid loss: 0.454 | train acc: 80.3% | valid acc: 79.3% | train f1: 80.3% | valid f1: 79.3%\n",
      "Epoch:  81 | train loss: 0.431 | valid loss: 0.452 | train acc: 80.3% | valid acc: 79.3% | train f1: 80.3% | valid f1: 79.3%\n",
      "Epoch:  82 | train loss: 0.431 | valid loss: 0.453 | train acc: 80.3% | valid acc: 79.1% | train f1: 80.3% | valid f1: 79.1%\n",
      "Epoch:  83 | train loss: 0.431 | valid loss: 0.453 | train acc: 80.3% | valid acc: 79.1% | train f1: 80.3% | valid f1: 79.1%\n",
      "Epoch:  84 | train loss: 0.431 | valid loss: 0.452 | train acc: 80.3% | valid acc: 79.2% | train f1: 80.3% | valid f1: 79.2%\n",
      "Epoch:  85 | train loss: 0.431 | valid loss: 0.452 | train acc: 80.4% | valid acc: 79.2% | train f1: 80.4% | valid f1: 79.2%\n",
      "Epoch:  86 | train loss: 0.430 | valid loss: 0.453 | train acc: 80.4% | valid acc: 79.2% | train f1: 80.4% | valid f1: 79.2%\n",
      "Epoch:  87 | train loss: 0.431 | valid loss: 0.452 | train acc: 80.4% | valid acc: 79.3% | train f1: 80.4% | valid f1: 79.3%\n",
      "Epoch:  88 | train loss: 0.429 | valid loss: 0.453 | train acc: 80.4% | valid acc: 79.2% | train f1: 80.4% | valid f1: 79.2%\n",
      "Epoch:  89 | train loss: 0.431 | valid loss: 0.453 | train acc: 80.4% | valid acc: 79.1% | train f1: 80.4% | valid f1: 79.1%\n",
      "Epoch:  90 | train loss: 0.429 | valid loss: 0.452 | train acc: 80.5% | valid acc: 79.3% | train f1: 80.5% | valid f1: 79.3%\n",
      "Epoch:  91 | train loss: 0.431 | valid loss: 0.458 | train acc: 80.4% | valid acc: 79.2% | train f1: 80.4% | valid f1: 79.2%\n",
      "Epoch:  92 | train loss: 0.430 | valid loss: 0.454 | train acc: 80.4% | valid acc: 79.2% | train f1: 80.4% | valid f1: 79.2%\n",
      "Epoch:  93 | train loss: 0.431 | valid loss: 0.453 | train acc: 80.5% | valid acc: 79.2% | train f1: 80.5% | valid f1: 79.2%\n",
      "Epoch:  94 | train loss: 0.429 | valid loss: 0.453 | train acc: 80.5% | valid acc: 79.2% | train f1: 80.5% | valid f1: 79.2%\n",
      "Epoch:  95 | train loss: 0.429 | valid loss: 0.453 | train acc: 80.5% | valid acc: 79.2% | train f1: 80.5% | valid f1: 79.2%\n",
      "Epoch:  96 | train loss: 0.430 | valid loss: 0.453 | train acc: 80.4% | valid acc: 79.1% | train f1: 80.4% | valid f1: 79.1%\n",
      "Epoch:  97 | train loss: 0.430 | valid loss: 0.453 | train acc: 80.5% | valid acc: 79.1% | train f1: 80.5% | valid f1: 79.1%\n",
      "Epoch:  98 | train loss: 0.429 | valid loss: 0.453 | train acc: 80.6% | valid acc: 79.1% | train f1: 80.6% | valid f1: 79.1%\n",
      "Epoch:  99 | train loss: 0.428 | valid loss: 0.452 | train acc: 80.5% | valid acc: 79.2% | train f1: 80.5% | valid f1: 79.2%\n",
      "Epoch: 100 | train loss: 0.429 | valid loss: 0.452 | train acc: 80.5% | valid acc: 79.1% | train f1: 80.5% | valid f1: 79.1%\n",
      "Epoch: 101 | train loss: 0.428 | valid loss: 0.452 | train acc: 80.5% | valid acc: 79.3% | train f1: 80.5% | valid f1: 79.3%\n",
      "Epoch: 102 | train loss: 0.428 | valid loss: 0.452 | train acc: 80.6% | valid acc: 79.1% | train f1: 80.6% | valid f1: 79.1%\n",
      "Epoch: 103 | train loss: 0.428 | valid loss: 0.452 | train acc: 80.5% | valid acc: 79.2% | train f1: 80.5% | valid f1: 79.2%\n",
      "Epoch: 104 | train loss: 0.428 | valid loss: 0.454 | train acc: 80.5% | valid acc: 79.2% | train f1: 80.5% | valid f1: 79.2%\n",
      "Epoch: 105 | train loss: 0.429 | valid loss: 0.455 | train acc: 80.4% | valid acc: 79.3% | train f1: 80.4% | valid f1: 79.3%\n",
      "Epoch: 106 | train loss: 0.430 | valid loss: 0.452 | train acc: 80.3% | valid acc: 79.3% | train f1: 80.3% | valid f1: 79.3%\n",
      "Epoch: 107 | train loss: 0.429 | valid loss: 0.454 | train acc: 80.4% | valid acc: 79.3% | train f1: 80.4% | valid f1: 79.3%\n",
      "Epoch: 108 | train loss: 0.428 | valid loss: 0.452 | train acc: 80.5% | valid acc: 79.2% | train f1: 80.5% | valid f1: 79.2%\n",
      "Epoch: 109 | train loss: 0.428 | valid loss: 0.452 | train acc: 80.6% | valid acc: 79.3% | train f1: 80.6% | valid f1: 79.3%\n",
      "Epoch: 110 | train loss: 0.427 | valid loss: 0.453 | train acc: 80.6% | valid acc: 79.3% | train f1: 80.6% | valid f1: 79.3%\n",
      "Epoch: 111 | train loss: 0.428 | valid loss: 0.452 | train acc: 80.5% | valid acc: 79.2% | train f1: 80.5% | valid f1: 79.2%\n",
      "Epoch: 112 | train loss: 0.427 | valid loss: 0.453 | train acc: 80.6% | valid acc: 79.2% | train f1: 80.6% | valid f1: 79.2%\n",
      "Epoch: 113 | train loss: 0.428 | valid loss: 0.453 | train acc: 80.6% | valid acc: 79.2% | train f1: 80.6% | valid f1: 79.2%\n",
      "Epoch: 114 | train loss: 0.427 | valid loss: 0.452 | train acc: 80.6% | valid acc: 79.3% | train f1: 80.6% | valid f1: 79.3%\n",
      "Epoch: 115 | train loss: 0.428 | valid loss: 0.454 | train acc: 80.6% | valid acc: 79.1% | train f1: 80.6% | valid f1: 79.1%\n",
      "Epoch: 116 | train loss: 0.428 | valid loss: 0.453 | train acc: 80.7% | valid acc: 79.3% | train f1: 80.7% | valid f1: 79.3%\n",
      "Epoch: 117 | train loss: 0.426 | valid loss: 0.454 | train acc: 80.7% | valid acc: 79.3% | train f1: 80.7% | valid f1: 79.3%\n",
      "Epoch: 118 | train loss: 0.427 | valid loss: 0.454 | train acc: 80.6% | valid acc: 79.1% | train f1: 80.6% | valid f1: 79.1%\n",
      "Epoch: 119 | train loss: 0.426 | valid loss: 0.452 | train acc: 80.6% | valid acc: 79.2% | train f1: 80.6% | valid f1: 79.2%\n",
      "Epoch: 120 | train loss: 0.427 | valid loss: 0.452 | train acc: 80.5% | valid acc: 79.4% | train f1: 80.5% | valid f1: 79.4%\n",
      "Epoch: 121 | train loss: 0.427 | valid loss: 0.453 | train acc: 80.7% | valid acc: 79.2% | train f1: 80.7% | valid f1: 79.2%\n",
      "Epoch: 122 | train loss: 0.426 | valid loss: 0.453 | train acc: 80.6% | valid acc: 79.2% | train f1: 80.6% | valid f1: 79.2%\n",
      "Epoch: 123 | train loss: 0.427 | valid loss: 0.453 | train acc: 80.6% | valid acc: 79.3% | train f1: 80.6% | valid f1: 79.3%\n",
      "Epoch: 124 | train loss: 0.425 | valid loss: 0.453 | train acc: 80.7% | valid acc: 79.2% | train f1: 80.7% | valid f1: 79.2%\n",
      "Epoch: 125 | train loss: 0.426 | valid loss: 0.453 | train acc: 80.6% | valid acc: 79.2% | train f1: 80.6% | valid f1: 79.2%\n",
      "Epoch: 126 | train loss: 0.427 | valid loss: 0.454 | train acc: 80.6% | valid acc: 79.3% | train f1: 80.6% | valid f1: 79.3%\n",
      "Epoch: 127 | train loss: 0.425 | valid loss: 0.453 | train acc: 80.7% | valid acc: 79.2% | train f1: 80.7% | valid f1: 79.2%\n",
      "Epoch: 128 | train loss: 0.425 | valid loss: 0.452 | train acc: 80.7% | valid acc: 79.0% | train f1: 80.7% | valid f1: 79.0%\n",
      "Epoch: 129 | train loss: 0.427 | valid loss: 0.455 | train acc: 80.6% | valid acc: 79.4% | train f1: 80.6% | valid f1: 79.4%\n",
      "Epoch: 130 | train loss: 0.427 | valid loss: 0.453 | train acc: 80.6% | valid acc: 79.1% | train f1: 80.6% | valid f1: 79.1%\n",
      "Epoch: 131 | train loss: 0.426 | valid loss: 0.454 | train acc: 80.6% | valid acc: 79.3% | train f1: 80.6% | valid f1: 79.3%\n",
      "Epoch: 132 | train loss: 0.426 | valid loss: 0.453 | train acc: 80.7% | valid acc: 79.1% | train f1: 80.7% | valid f1: 79.1%\n",
      "Epoch: 133 | train loss: 0.426 | valid loss: 0.453 | train acc: 80.6% | valid acc: 79.1% | train f1: 80.6% | valid f1: 79.1%\n",
      "Epoch: 134 | train loss: 0.425 | valid loss: 0.453 | train acc: 80.7% | valid acc: 79.1% | train f1: 80.7% | valid f1: 79.1%\n",
      "Epoch: 135 | train loss: 0.426 | valid loss: 0.453 | train acc: 80.7% | valid acc: 79.2% | train f1: 80.7% | valid f1: 79.2%\n",
      "Epoch: 136 | train loss: 0.427 | valid loss: 0.453 | train acc: 80.6% | valid acc: 79.3% | train f1: 80.6% | valid f1: 79.3%\n",
      "Epoch: 137 | train loss: 0.425 | valid loss: 0.453 | train acc: 80.7% | valid acc: 79.0% | train f1: 80.7% | valid f1: 79.0%\n",
      "Epoch: 138 | train loss: 0.426 | valid loss: 0.454 | train acc: 80.7% | valid acc: 79.2% | train f1: 80.7% | valid f1: 79.2%\n",
      "Epoch: 139 | train loss: 0.425 | valid loss: 0.453 | train acc: 80.7% | valid acc: 79.1% | train f1: 80.7% | valid f1: 79.1%\n",
      "Epoch: 140 | train loss: 0.424 | valid loss: 0.453 | train acc: 80.6% | valid acc: 79.2% | train f1: 80.6% | valid f1: 79.2%\n",
      "Epoch: 141 | train loss: 0.425 | valid loss: 0.453 | train acc: 80.7% | valid acc: 79.0% | train f1: 80.7% | valid f1: 79.0%\n",
      "Epoch: 142 | train loss: 0.426 | valid loss: 0.453 | train acc: 80.7% | valid acc: 79.2% | train f1: 80.7% | valid f1: 79.2%\n",
      "Epoch: 143 | train loss: 0.425 | valid loss: 0.453 | train acc: 80.7% | valid acc: 79.2% | train f1: 80.7% | valid f1: 79.2%\n",
      "Epoch: 144 | train loss: 0.425 | valid loss: 0.453 | train acc: 80.7% | valid acc: 79.1% | train f1: 80.7% | valid f1: 79.1%\n",
      "Epoch: 145 | train loss: 0.425 | valid loss: 0.453 | train acc: 80.6% | valid acc: 79.2% | train f1: 80.6% | valid f1: 79.2%\n",
      "Epoch: 146 | train loss: 0.425 | valid loss: 0.453 | train acc: 80.7% | valid acc: 79.1% | train f1: 80.7% | valid f1: 79.1%\n",
      "Epoch: 147 | train loss: 0.425 | valid loss: 0.453 | train acc: 80.7% | valid acc: 79.2% | train f1: 80.7% | valid f1: 79.2%\n",
      "Epoch: 148 | train loss: 0.424 | valid loss: 0.453 | train acc: 80.7% | valid acc: 79.3% | train f1: 80.7% | valid f1: 79.3%\n",
      "Epoch: 149 | train loss: 0.425 | valid loss: 0.453 | train acc: 80.7% | valid acc: 79.3% | train f1: 80.7% | valid f1: 79.3%\n",
      "Epoch: 150 | train loss: 0.426 | valid loss: 0.455 | train acc: 80.7% | valid acc: 79.4% | train f1: 80.7% | valid f1: 79.4%\n",
      "Epoch: 151 | train loss: 0.424 | valid loss: 0.453 | train acc: 80.7% | valid acc: 79.0% | train f1: 80.7% | valid f1: 79.0%\n",
      "Epoch: 152 | train loss: 0.424 | valid loss: 0.453 | train acc: 80.8% | valid acc: 79.3% | train f1: 80.8% | valid f1: 79.3%\n",
      "Epoch: 153 | train loss: 0.425 | valid loss: 0.453 | train acc: 80.7% | valid acc: 79.2% | train f1: 80.7% | valid f1: 79.2%\n",
      "Epoch: 154 | train loss: 0.424 | valid loss: 0.453 | train acc: 80.7% | valid acc: 79.2% | train f1: 80.7% | valid f1: 79.2%\n",
      "Epoch: 155 | train loss: 0.424 | valid loss: 0.453 | train acc: 80.7% | valid acc: 79.2% | train f1: 80.7% | valid f1: 79.2%\n",
      "Epoch: 156 | train loss: 0.426 | valid loss: 0.453 | train acc: 80.7% | valid acc: 79.2% | train f1: 80.7% | valid f1: 79.2%\n",
      "Epoch: 157 | train loss: 0.424 | valid loss: 0.454 | train acc: 80.7% | valid acc: 79.1% | train f1: 80.7% | valid f1: 79.1%\n",
      "Epoch: 158 | train loss: 0.424 | valid loss: 0.454 | train acc: 80.7% | valid acc: 79.2% | train f1: 80.7% | valid f1: 79.2%\n",
      "Epoch: 159 | train loss: 0.424 | valid loss: 0.454 | train acc: 80.8% | valid acc: 79.2% | train f1: 80.8% | valid f1: 79.2%\n",
      "Epoch: 160 | train loss: 0.424 | valid loss: 0.453 | train acc: 80.7% | valid acc: 79.2% | train f1: 80.7% | valid f1: 79.2%\n",
      "Epoch: 161 | train loss: 0.424 | valid loss: 0.453 | train acc: 80.8% | valid acc: 79.0% | train f1: 80.8% | valid f1: 79.0%\n",
      "Epoch: 162 | train loss: 0.423 | valid loss: 0.454 | train acc: 80.7% | valid acc: 79.2% | train f1: 80.7% | valid f1: 79.2%\n",
      "Epoch: 163 | train loss: 0.425 | valid loss: 0.453 | train acc: 80.8% | valid acc: 79.2% | train f1: 80.8% | valid f1: 79.2%\n",
      "Epoch: 164 | train loss: 0.424 | valid loss: 0.454 | train acc: 80.7% | valid acc: 79.1% | train f1: 80.7% | valid f1: 79.1%\n",
      "Epoch: 165 | train loss: 0.424 | valid loss: 0.453 | train acc: 80.7% | valid acc: 79.2% | train f1: 80.7% | valid f1: 79.2%\n",
      "Epoch: 166 | train loss: 0.424 | valid loss: 0.454 | train acc: 80.8% | valid acc: 79.0% | train f1: 80.8% | valid f1: 79.0%\n",
      "Epoch: 167 | train loss: 0.424 | valid loss: 0.454 | train acc: 80.7% | valid acc: 79.0% | train f1: 80.7% | valid f1: 79.0%\n",
      "Epoch: 168 | train loss: 0.424 | valid loss: 0.454 | train acc: 80.8% | valid acc: 79.3% | train f1: 80.8% | valid f1: 79.3%\n",
      "Epoch: 169 | train loss: 0.425 | valid loss: 0.454 | train acc: 80.7% | valid acc: 79.0% | train f1: 80.7% | valid f1: 79.0%\n",
      "Epoch: 170 | train loss: 0.423 | valid loss: 0.455 | train acc: 80.8% | valid acc: 79.4% | train f1: 80.8% | valid f1: 79.4%\n",
      "Epoch: 171 | train loss: 0.424 | valid loss: 0.454 | train acc: 80.7% | valid acc: 79.1% | train f1: 80.7% | valid f1: 79.1%\n",
      "Epoch: 172 | train loss: 0.423 | valid loss: 0.454 | train acc: 80.8% | valid acc: 79.1% | train f1: 80.8% | valid f1: 79.1%\n",
      "Epoch: 173 | train loss: 0.425 | valid loss: 0.454 | train acc: 80.7% | valid acc: 79.1% | train f1: 80.7% | valid f1: 79.1%\n",
      "Epoch: 174 | train loss: 0.424 | valid loss: 0.454 | train acc: 80.8% | valid acc: 79.1% | train f1: 80.8% | valid f1: 79.1%\n",
      "Epoch: 175 | train loss: 0.423 | valid loss: 0.454 | train acc: 80.8% | valid acc: 79.0% | train f1: 80.8% | valid f1: 79.0%\n",
      "Epoch: 176 | train loss: 0.424 | valid loss: 0.454 | train acc: 80.8% | valid acc: 79.0% | train f1: 80.8% | valid f1: 79.0%\n",
      "Epoch: 177 | train loss: 0.423 | valid loss: 0.454 | train acc: 80.8% | valid acc: 79.2% | train f1: 80.8% | valid f1: 79.2%\n",
      "Epoch: 178 | train loss: 0.424 | valid loss: 0.455 | train acc: 80.8% | valid acc: 79.3% | train f1: 80.8% | valid f1: 79.3%\n",
      "Epoch: 179 | train loss: 0.423 | valid loss: 0.453 | train acc: 80.7% | valid acc: 79.4% | train f1: 80.7% | valid f1: 79.4%\n",
      "Epoch: 180 | train loss: 0.423 | valid loss: 0.454 | train acc: 80.8% | valid acc: 79.1% | train f1: 80.8% | valid f1: 79.1%\n",
      "Epoch: 181 | train loss: 0.423 | valid loss: 0.454 | train acc: 80.8% | valid acc: 79.1% | train f1: 80.8% | valid f1: 79.1%\n",
      "Epoch: 182 | train loss: 0.425 | valid loss: 0.455 | train acc: 80.8% | valid acc: 79.2% | train f1: 80.8% | valid f1: 79.2%\n",
      "Epoch: 183 | train loss: 0.423 | valid loss: 0.454 | train acc: 80.7% | valid acc: 79.2% | train f1: 80.7% | valid f1: 79.2%\n",
      "Epoch: 184 | train loss: 0.424 | valid loss: 0.454 | train acc: 80.7% | valid acc: 79.3% | train f1: 80.7% | valid f1: 79.3%\n",
      "Epoch: 185 | train loss: 0.423 | valid loss: 0.454 | train acc: 80.8% | valid acc: 79.1% | train f1: 80.8% | valid f1: 79.1%\n",
      "Epoch: 186 | train loss: 0.423 | valid loss: 0.455 | train acc: 80.8% | valid acc: 79.1% | train f1: 80.8% | valid f1: 79.1%\n",
      "Epoch: 187 | train loss: 0.422 | valid loss: 0.454 | train acc: 80.8% | valid acc: 79.1% | train f1: 80.8% | valid f1: 79.1%\n",
      "Epoch: 188 | train loss: 0.423 | valid loss: 0.454 | train acc: 80.8% | valid acc: 79.1% | train f1: 80.8% | valid f1: 79.1%\n",
      "Epoch: 189 | train loss: 0.423 | valid loss: 0.454 | train acc: 80.7% | valid acc: 79.2% | train f1: 80.7% | valid f1: 79.2%\n",
      "Epoch: 190 | train loss: 0.424 | valid loss: 0.455 | train acc: 80.9% | valid acc: 79.2% | train f1: 80.9% | valid f1: 79.2%\n",
      "Epoch: 191 | train loss: 0.422 | valid loss: 0.454 | train acc: 80.9% | valid acc: 79.1% | train f1: 80.9% | valid f1: 79.1%\n",
      "Epoch: 192 | train loss: 0.422 | valid loss: 0.456 | train acc: 80.8% | valid acc: 79.2% | train f1: 80.8% | valid f1: 79.2%\n",
      "Epoch: 193 | train loss: 0.423 | valid loss: 0.454 | train acc: 80.8% | valid acc: 79.1% | train f1: 80.8% | valid f1: 79.1%\n",
      "Epoch: 194 | train loss: 0.423 | valid loss: 0.454 | train acc: 80.7% | valid acc: 79.4% | train f1: 80.7% | valid f1: 79.4%\n",
      "Epoch: 195 | train loss: 0.423 | valid loss: 0.456 | train acc: 80.9% | valid acc: 79.2% | train f1: 80.9% | valid f1: 79.2%\n",
      "Epoch: 196 | train loss: 0.422 | valid loss: 0.455 | train acc: 80.9% | valid acc: 79.3% | train f1: 80.9% | valid f1: 79.3%\n",
      "Epoch: 197 | train loss: 0.423 | valid loss: 0.454 | train acc: 80.9% | valid acc: 79.2% | train f1: 80.9% | valid f1: 79.2%\n",
      "Epoch: 198 | train loss: 0.422 | valid loss: 0.454 | train acc: 81.0% | valid acc: 79.2% | train f1: 81.0% | valid f1: 79.2%\n",
      "Epoch: 199 | train loss: 0.423 | valid loss: 0.455 | train acc: 80.8% | valid acc: 79.1% | train f1: 80.8% | valid f1: 79.1%\n",
      "Epoch: 200 | train loss: 0.421 | valid loss: 0.455 | train acc: 80.9% | valid acc: 79.2% | train f1: 80.9% | valid f1: 79.2%\n"
     ]
    }
   ],
   "source": [
    "epochs = 200\n",
    "\n",
    "_, history = train_classifier_head(\n",
    "    train_set='../../preprocessed/tweets/embeddings/train.pkl',\n",
    "    experiment_dir='../../results/run_train',\n",
    "    valid_set='../../preprocessed/tweets/embeddings/valid.pkl',\n",
    "    batch_size=1024,\n",
    "    epochs=epochs,\n",
    "    gpu=True\n",
    ")"
   ],
   "metadata": {
    "collapsed": false,
    "pycharm": {
     "name": "#%%\n"
    }
   }
  },
  {
   "cell_type": "code",
   "execution_count": 4,
   "outputs": [
    {
     "name": "stdout",
     "output_type": "stream",
     "text": [
      "Min valid loss at epoch: 81\n"
     ]
    },
    {
     "data": {
      "text/plain": "<Figure size 1000x500 with 2 Axes>",
      "image/png": "[encoded data removed]"
     },
     "metadata": {},
     "output_type": "display_data"
    }
   ],
   "source": [
    "_, ax = plt.subplots(1, 2, figsize=(10, 5))\n",
    "\n",
    "sns.lineplot(x=np.arange(epochs), y=history['train']['loss'], ax=ax[0])\n",
    "sns.lineplot(x=np.arange(epochs), y=history['valid']['loss'], ax=ax[1])\n",
    "\n",
    "ax[0].set_title('train loss')\n",
    "ax[1].set_title('valid loss')\n",
    "ax[0].get_yaxis().set_visible(False)\n",
    "ax[1].get_yaxis().set_visible(False)\n",
    "plt.tight_layout()\n",
    "\n",
    "early_stopping = np.argmin(history['valid']['loss']) + 1\n",
    "\n",
    "print(f'Min valid loss at epoch: {early_stopping}')"
   ],
   "metadata": {
    "collapsed": false,
    "pycharm": {
     "name": "#%%\n"
    }
   }
  },
  {
   "cell_type": "markdown",
   "source": [
    "Compare performance on the validation set when time representations are not used."
   ],
   "metadata": {
    "collapsed": false,
    "pycharm": {
     "name": "#%% md\n"
    }
   }
  },
  {
   "cell_type": "code",
   "execution_count": 5,
   "outputs": [
    {
     "data": {
      "text/plain": "  0%|          | 0/200 [00:00<?, ?it/s]",
      "application/vnd.jupyter.widget-view+json": {
       "version_major": 2,
       "version_minor": 0,
       "model_id": "26c5d10449164a69b1025cdeeba2e10b"
      }
     },
     "metadata": {},
     "output_type": "display_data"
    },
    {
     "name": "stdout",
     "output_type": "stream",
     "text": [
      "Epoch:   1 | train loss: 0.655 | valid loss: 0.613 | train acc: 62.6% | valid acc: 69.0% | train f1: 62.6% | valid f1: 68.9%\n",
      "Epoch:   2 | train loss: 0.592 | valid loss: 0.569 | train acc: 70.9% | valid acc: 73.5% | train f1: 70.9% | valid f1: 73.5%\n",
      "Epoch:   3 | train loss: 0.557 | valid loss: 0.542 | train acc: 73.6% | valid acc: 75.1% | train f1: 73.6% | valid f1: 75.1%\n",
      "Epoch:   4 | train loss: 0.534 | valid loss: 0.525 | train acc: 74.6% | valid acc: 75.9% | train f1: 74.6% | valid f1: 75.9%\n",
      "Epoch:   5 | train loss: 0.521 | valid loss: 0.514 | train acc: 75.2% | valid acc: 76.2% | train f1: 75.2% | valid f1: 76.2%\n",
      "Epoch:   6 | train loss: 0.510 | valid loss: 0.506 | train acc: 75.8% | valid acc: 76.8% | train f1: 75.8% | valid f1: 76.8%\n",
      "Epoch:   7 | train loss: 0.502 | valid loss: 0.499 | train acc: 76.1% | valid acc: 76.9% | train f1: 76.1% | valid f1: 76.9%\n",
      "Epoch:   8 | train loss: 0.496 | valid loss: 0.495 | train acc: 76.6% | valid acc: 77.0% | train f1: 76.6% | valid f1: 77.0%\n",
      "Epoch:   9 | train loss: 0.491 | valid loss: 0.490 | train acc: 76.8% | valid acc: 77.5% | train f1: 76.8% | valid f1: 77.5%\n",
      "Epoch:  10 | train loss: 0.486 | valid loss: 0.487 | train acc: 77.0% | valid acc: 77.7% | train f1: 77.0% | valid f1: 77.7%\n",
      "Epoch:  11 | train loss: 0.482 | valid loss: 0.484 | train acc: 77.1% | valid acc: 77.8% | train f1: 77.1% | valid f1: 77.7%\n",
      "Epoch:  12 | train loss: 0.479 | valid loss: 0.482 | train acc: 77.4% | valid acc: 78.2% | train f1: 77.4% | valid f1: 78.2%\n",
      "Epoch:  13 | train loss: 0.477 | valid loss: 0.480 | train acc: 77.6% | valid acc: 77.7% | train f1: 77.6% | valid f1: 77.7%\n",
      "Epoch:  14 | train loss: 0.475 | valid loss: 0.478 | train acc: 77.7% | valid acc: 78.3% | train f1: 77.7% | valid f1: 78.3%\n",
      "Epoch:  15 | train loss: 0.473 | valid loss: 0.477 | train acc: 77.8% | valid acc: 78.1% | train f1: 77.8% | valid f1: 78.1%\n",
      "Epoch:  16 | train loss: 0.472 | valid loss: 0.476 | train acc: 78.1% | valid acc: 78.4% | train f1: 78.1% | valid f1: 78.4%\n",
      "Epoch:  17 | train loss: 0.470 | valid loss: 0.474 | train acc: 78.1% | valid acc: 78.4% | train f1: 78.1% | valid f1: 78.4%\n",
      "Epoch:  18 | train loss: 0.469 | valid loss: 0.473 | train acc: 78.2% | valid acc: 78.4% | train f1: 78.2% | valid f1: 78.4%\n",
      "Epoch:  19 | train loss: 0.468 | valid loss: 0.472 | train acc: 78.2% | valid acc: 78.4% | train f1: 78.2% | valid f1: 78.4%\n",
      "Epoch:  20 | train loss: 0.465 | valid loss: 0.474 | train acc: 78.2% | valid acc: 78.4% | train f1: 78.2% | valid f1: 78.4%\n",
      "Epoch:  21 | train loss: 0.466 | valid loss: 0.471 | train acc: 78.4% | valid acc: 78.4% | train f1: 78.4% | valid f1: 78.4%\n",
      "Epoch:  22 | train loss: 0.464 | valid loss: 0.471 | train acc: 78.4% | valid acc: 78.5% | train f1: 78.4% | valid f1: 78.5%\n",
      "Epoch:  23 | train loss: 0.463 | valid loss: 0.470 | train acc: 78.5% | valid acc: 78.7% | train f1: 78.5% | valid f1: 78.7%\n",
      "Epoch:  24 | train loss: 0.464 | valid loss: 0.470 | train acc: 78.5% | valid acc: 78.9% | train f1: 78.5% | valid f1: 78.9%\n",
      "Epoch:  25 | train loss: 0.461 | valid loss: 0.469 | train acc: 78.7% | valid acc: 78.7% | train f1: 78.7% | valid f1: 78.7%\n",
      "Epoch:  26 | train loss: 0.460 | valid loss: 0.468 | train acc: 78.7% | valid acc: 78.8% | train f1: 78.7% | valid f1: 78.8%\n",
      "Epoch:  27 | train loss: 0.461 | valid loss: 0.468 | train acc: 78.6% | valid acc: 78.8% | train f1: 78.6% | valid f1: 78.8%\n",
      "Epoch:  28 | train loss: 0.459 | valid loss: 0.468 | train acc: 78.7% | valid acc: 78.8% | train f1: 78.7% | valid f1: 78.8%\n",
      "Epoch:  29 | train loss: 0.458 | valid loss: 0.467 | train acc: 78.7% | valid acc: 78.6% | train f1: 78.7% | valid f1: 78.6%\n",
      "Epoch:  30 | train loss: 0.459 | valid loss: 0.468 | train acc: 78.8% | valid acc: 78.6% | train f1: 78.8% | valid f1: 78.6%\n",
      "Epoch:  31 | train loss: 0.458 | valid loss: 0.466 | train acc: 78.9% | valid acc: 78.6% | train f1: 78.9% | valid f1: 78.6%\n",
      "Epoch:  32 | train loss: 0.457 | valid loss: 0.466 | train acc: 78.9% | valid acc: 78.8% | train f1: 78.9% | valid f1: 78.8%\n",
      "Epoch:  33 | train loss: 0.455 | valid loss: 0.468 | train acc: 78.8% | valid acc: 78.5% | train f1: 78.8% | valid f1: 78.5%\n",
      "Epoch:  34 | train loss: 0.457 | valid loss: 0.466 | train acc: 78.9% | valid acc: 78.6% | train f1: 78.9% | valid f1: 78.6%\n",
      "Epoch:  35 | train loss: 0.456 | valid loss: 0.466 | train acc: 78.8% | valid acc: 78.7% | train f1: 78.8% | valid f1: 78.7%\n",
      "Epoch:  36 | train loss: 0.455 | valid loss: 0.466 | train acc: 78.9% | valid acc: 78.7% | train f1: 78.9% | valid f1: 78.7%\n",
      "Epoch:  37 | train loss: 0.454 | valid loss: 0.466 | train acc: 79.0% | valid acc: 78.8% | train f1: 79.0% | valid f1: 78.8%\n",
      "Epoch:  38 | train loss: 0.454 | valid loss: 0.465 | train acc: 78.9% | valid acc: 78.6% | train f1: 78.9% | valid f1: 78.6%\n",
      "Epoch:  39 | train loss: 0.454 | valid loss: 0.464 | train acc: 79.0% | valid acc: 78.6% | train f1: 79.0% | valid f1: 78.6%\n",
      "Epoch:  40 | train loss: 0.453 | valid loss: 0.464 | train acc: 79.0% | valid acc: 78.6% | train f1: 79.0% | valid f1: 78.6%\n",
      "Epoch:  41 | train loss: 0.453 | valid loss: 0.464 | train acc: 79.1% | valid acc: 78.7% | train f1: 79.1% | valid f1: 78.7%\n",
      "Epoch:  42 | train loss: 0.453 | valid loss: 0.465 | train acc: 78.9% | valid acc: 78.8% | train f1: 78.9% | valid f1: 78.8%\n",
      "Epoch:  43 | train loss: 0.452 | valid loss: 0.466 | train acc: 79.1% | valid acc: 78.7% | train f1: 79.1% | valid f1: 78.7%\n",
      "Epoch:  44 | train loss: 0.451 | valid loss: 0.464 | train acc: 79.1% | valid acc: 78.8% | train f1: 79.1% | valid f1: 78.8%\n",
      "Epoch:  45 | train loss: 0.452 | valid loss: 0.463 | train acc: 79.0% | valid acc: 78.7% | train f1: 79.0% | valid f1: 78.7%\n",
      "Epoch:  46 | train loss: 0.450 | valid loss: 0.463 | train acc: 79.0% | valid acc: 78.7% | train f1: 79.0% | valid f1: 78.7%\n",
      "Epoch:  47 | train loss: 0.451 | valid loss: 0.463 | train acc: 79.1% | valid acc: 78.6% | train f1: 79.1% | valid f1: 78.6%\n",
      "Epoch:  48 | train loss: 0.451 | valid loss: 0.463 | train acc: 79.1% | valid acc: 78.6% | train f1: 79.1% | valid f1: 78.6%\n",
      "Epoch:  49 | train loss: 0.450 | valid loss: 0.463 | train acc: 79.2% | valid acc: 78.7% | train f1: 79.2% | valid f1: 78.7%\n",
      "Epoch:  50 | train loss: 0.450 | valid loss: 0.463 | train acc: 79.2% | valid acc: 78.6% | train f1: 79.2% | valid f1: 78.6%\n",
      "Epoch:  51 | train loss: 0.450 | valid loss: 0.465 | train acc: 79.1% | valid acc: 78.6% | train f1: 79.1% | valid f1: 78.6%\n",
      "Epoch:  52 | train loss: 0.449 | valid loss: 0.463 | train acc: 79.2% | valid acc: 78.6% | train f1: 79.2% | valid f1: 78.6%\n",
      "Epoch:  53 | train loss: 0.450 | valid loss: 0.463 | train acc: 79.2% | valid acc: 78.7% | train f1: 79.2% | valid f1: 78.7%\n",
      "Epoch:  54 | train loss: 0.448 | valid loss: 0.463 | train acc: 79.2% | valid acc: 78.6% | train f1: 79.2% | valid f1: 78.6%\n",
      "Epoch:  55 | train loss: 0.448 | valid loss: 0.463 | train acc: 79.3% | valid acc: 78.6% | train f1: 79.3% | valid f1: 78.6%\n",
      "Epoch:  56 | train loss: 0.449 | valid loss: 0.463 | train acc: 79.3% | valid acc: 78.5% | train f1: 79.3% | valid f1: 78.5%\n",
      "Epoch:  57 | train loss: 0.448 | valid loss: 0.462 | train acc: 79.3% | valid acc: 78.6% | train f1: 79.3% | valid f1: 78.6%\n",
      "Epoch:  58 | train loss: 0.448 | valid loss: 0.462 | train acc: 79.2% | valid acc: 78.7% | train f1: 79.2% | valid f1: 78.7%\n",
      "Epoch:  59 | train loss: 0.447 | valid loss: 0.462 | train acc: 79.2% | valid acc: 78.4% | train f1: 79.2% | valid f1: 78.4%\n",
      "Epoch:  60 | train loss: 0.447 | valid loss: 0.462 | train acc: 79.3% | valid acc: 78.6% | train f1: 79.3% | valid f1: 78.6%\n",
      "Epoch:  61 | train loss: 0.448 | valid loss: 0.462 | train acc: 79.3% | valid acc: 78.4% | train f1: 79.3% | valid f1: 78.4%\n",
      "Epoch:  62 | train loss: 0.448 | valid loss: 0.462 | train acc: 79.2% | valid acc: 78.5% | train f1: 79.2% | valid f1: 78.5%\n",
      "Epoch:  63 | train loss: 0.447 | valid loss: 0.464 | train acc: 79.5% | valid acc: 78.6% | train f1: 79.5% | valid f1: 78.6%\n",
      "Epoch:  64 | train loss: 0.447 | valid loss: 0.463 | train acc: 79.4% | valid acc: 78.4% | train f1: 79.4% | valid f1: 78.4%\n",
      "Epoch:  65 | train loss: 0.446 | valid loss: 0.462 | train acc: 79.4% | valid acc: 78.4% | train f1: 79.4% | valid f1: 78.4%\n",
      "Epoch:  66 | train loss: 0.446 | valid loss: 0.462 | train acc: 79.4% | valid acc: 78.7% | train f1: 79.4% | valid f1: 78.7%\n",
      "Epoch:  67 | train loss: 0.446 | valid loss: 0.462 | train acc: 79.4% | valid acc: 78.3% | train f1: 79.4% | valid f1: 78.3%\n",
      "Epoch:  68 | train loss: 0.445 | valid loss: 0.463 | train acc: 79.4% | valid acc: 78.4% | train f1: 79.4% | valid f1: 78.3%\n",
      "Epoch:  69 | train loss: 0.445 | valid loss: 0.462 | train acc: 79.4% | valid acc: 78.3% | train f1: 79.4% | valid f1: 78.3%\n",
      "Epoch:  70 | train loss: 0.446 | valid loss: 0.461 | train acc: 79.5% | valid acc: 78.6% | train f1: 79.5% | valid f1: 78.6%\n",
      "Epoch:  71 | train loss: 0.446 | valid loss: 0.461 | train acc: 79.4% | valid acc: 78.3% | train f1: 79.4% | valid f1: 78.3%\n",
      "Epoch:  72 | train loss: 0.444 | valid loss: 0.461 | train acc: 79.3% | valid acc: 78.5% | train f1: 79.3% | valid f1: 78.5%\n",
      "Epoch:  73 | train loss: 0.444 | valid loss: 0.462 | train acc: 79.5% | valid acc: 78.2% | train f1: 79.5% | valid f1: 78.2%\n",
      "Epoch:  74 | train loss: 0.443 | valid loss: 0.461 | train acc: 79.4% | valid acc: 78.4% | train f1: 79.4% | valid f1: 78.4%\n",
      "Epoch:  75 | train loss: 0.444 | valid loss: 0.461 | train acc: 79.5% | valid acc: 78.6% | train f1: 79.5% | valid f1: 78.6%\n",
      "Epoch:  76 | train loss: 0.444 | valid loss: 0.464 | train acc: 79.4% | valid acc: 78.2% | train f1: 79.4% | valid f1: 78.2%\n",
      "Epoch:  77 | train loss: 0.447 | valid loss: 0.462 | train acc: 79.3% | valid acc: 78.5% | train f1: 79.3% | valid f1: 78.5%\n",
      "Epoch:  78 | train loss: 0.445 | valid loss: 0.464 | train acc: 79.5% | valid acc: 78.2% | train f1: 79.5% | valid f1: 78.2%\n",
      "Epoch:  79 | train loss: 0.444 | valid loss: 0.461 | train acc: 79.4% | valid acc: 78.4% | train f1: 79.4% | valid f1: 78.4%\n",
      "Epoch:  80 | train loss: 0.444 | valid loss: 0.461 | train acc: 79.7% | valid acc: 78.4% | train f1: 79.7% | valid f1: 78.4%\n",
      "Epoch:  81 | train loss: 0.444 | valid loss: 0.461 | train acc: 79.5% | valid acc: 78.3% | train f1: 79.5% | valid f1: 78.3%\n",
      "Epoch:  82 | train loss: 0.443 | valid loss: 0.461 | train acc: 79.6% | valid acc: 78.4% | train f1: 79.6% | valid f1: 78.4%\n",
      "Epoch:  83 | train loss: 0.442 | valid loss: 0.463 | train acc: 79.6% | valid acc: 78.1% | train f1: 79.6% | valid f1: 78.1%\n",
      "Epoch:  84 | train loss: 0.443 | valid loss: 0.461 | train acc: 79.5% | valid acc: 78.4% | train f1: 79.5% | valid f1: 78.4%\n",
      "Epoch:  85 | train loss: 0.443 | valid loss: 0.461 | train acc: 79.7% | valid acc: 78.4% | train f1: 79.7% | valid f1: 78.4%\n",
      "Epoch:  86 | train loss: 0.442 | valid loss: 0.461 | train acc: 79.6% | valid acc: 78.4% | train f1: 79.6% | valid f1: 78.4%\n",
      "Epoch:  87 | train loss: 0.444 | valid loss: 0.461 | train acc: 79.6% | valid acc: 78.4% | train f1: 79.6% | valid f1: 78.4%\n",
      "Epoch:  88 | train loss: 0.443 | valid loss: 0.462 | train acc: 79.7% | valid acc: 78.2% | train f1: 79.7% | valid f1: 78.2%\n",
      "Epoch:  89 | train loss: 0.442 | valid loss: 0.461 | train acc: 79.7% | valid acc: 78.1% | train f1: 79.7% | valid f1: 78.1%\n",
      "Epoch:  90 | train loss: 0.443 | valid loss: 0.461 | train acc: 79.7% | valid acc: 78.4% | train f1: 79.7% | valid f1: 78.4%\n",
      "Epoch:  91 | train loss: 0.443 | valid loss: 0.462 | train acc: 79.5% | valid acc: 78.1% | train f1: 79.5% | valid f1: 78.1%\n",
      "Epoch:  92 | train loss: 0.442 | valid loss: 0.461 | train acc: 79.7% | valid acc: 78.4% | train f1: 79.7% | valid f1: 78.4%\n",
      "Epoch:  93 | train loss: 0.441 | valid loss: 0.462 | train acc: 79.6% | valid acc: 78.2% | train f1: 79.6% | valid f1: 78.2%\n",
      "Epoch:  94 | train loss: 0.442 | valid loss: 0.462 | train acc: 79.7% | valid acc: 78.0% | train f1: 79.7% | valid f1: 78.0%\n",
      "Epoch:  95 | train loss: 0.441 | valid loss: 0.461 | train acc: 79.8% | valid acc: 78.3% | train f1: 79.8% | valid f1: 78.3%\n",
      "Epoch:  96 | train loss: 0.441 | valid loss: 0.461 | train acc: 79.7% | valid acc: 78.4% | train f1: 79.7% | valid f1: 78.4%\n",
      "Epoch:  97 | train loss: 0.441 | valid loss: 0.461 | train acc: 79.7% | valid acc: 78.4% | train f1: 79.7% | valid f1: 78.4%\n",
      "Epoch:  98 | train loss: 0.441 | valid loss: 0.464 | train acc: 79.8% | valid acc: 78.1% | train f1: 79.8% | valid f1: 78.1%\n",
      "Epoch:  99 | train loss: 0.441 | valid loss: 0.461 | train acc: 79.8% | valid acc: 78.4% | train f1: 79.8% | valid f1: 78.4%\n",
      "Epoch: 100 | train loss: 0.441 | valid loss: 0.461 | train acc: 79.7% | valid acc: 78.0% | train f1: 79.7% | valid f1: 78.0%\n",
      "Epoch: 101 | train loss: 0.442 | valid loss: 0.461 | train acc: 79.7% | valid acc: 78.3% | train f1: 79.7% | valid f1: 78.3%\n",
      "Epoch: 102 | train loss: 0.441 | valid loss: 0.463 | train acc: 79.8% | valid acc: 78.4% | train f1: 79.8% | valid f1: 78.4%\n",
      "Epoch: 103 | train loss: 0.440 | valid loss: 0.461 | train acc: 79.8% | valid acc: 78.4% | train f1: 79.8% | valid f1: 78.4%\n",
      "Epoch: 104 | train loss: 0.441 | valid loss: 0.461 | train acc: 79.7% | valid acc: 78.4% | train f1: 79.7% | valid f1: 78.3%\n",
      "Epoch: 105 | train loss: 0.440 | valid loss: 0.461 | train acc: 79.8% | valid acc: 78.3% | train f1: 79.8% | valid f1: 78.3%\n",
      "Epoch: 106 | train loss: 0.440 | valid loss: 0.462 | train acc: 79.7% | valid acc: 78.2% | train f1: 79.7% | valid f1: 78.2%\n",
      "Epoch: 107 | train loss: 0.441 | valid loss: 0.461 | train acc: 79.8% | valid acc: 78.5% | train f1: 79.8% | valid f1: 78.4%\n",
      "Epoch: 108 | train loss: 0.441 | valid loss: 0.461 | train acc: 79.8% | valid acc: 78.2% | train f1: 79.8% | valid f1: 78.2%\n",
      "Epoch: 109 | train loss: 0.440 | valid loss: 0.461 | train acc: 79.8% | valid acc: 78.2% | train f1: 79.8% | valid f1: 78.2%\n",
      "Epoch: 110 | train loss: 0.439 | valid loss: 0.463 | train acc: 79.8% | valid acc: 78.4% | train f1: 79.8% | valid f1: 78.4%\n",
      "Epoch: 111 | train loss: 0.440 | valid loss: 0.461 | train acc: 79.8% | valid acc: 78.4% | train f1: 79.8% | valid f1: 78.4%\n",
      "Epoch: 112 | train loss: 0.440 | valid loss: 0.461 | train acc: 79.8% | valid acc: 78.4% | train f1: 79.8% | valid f1: 78.4%\n",
      "Epoch: 113 | train loss: 0.439 | valid loss: 0.462 | train acc: 79.8% | valid acc: 78.2% | train f1: 79.8% | valid f1: 78.2%\n",
      "Epoch: 114 | train loss: 0.439 | valid loss: 0.461 | train acc: 79.8% | valid acc: 78.2% | train f1: 79.8% | valid f1: 78.2%\n",
      "Epoch: 115 | train loss: 0.439 | valid loss: 0.461 | train acc: 79.8% | valid acc: 78.4% | train f1: 79.8% | valid f1: 78.4%\n",
      "Epoch: 116 | train loss: 0.439 | valid loss: 0.462 | train acc: 79.8% | valid acc: 78.3% | train f1: 79.8% | valid f1: 78.3%\n",
      "Epoch: 117 | train loss: 0.438 | valid loss: 0.463 | train acc: 79.9% | valid acc: 78.2% | train f1: 79.9% | valid f1: 78.2%\n",
      "Epoch: 118 | train loss: 0.440 | valid loss: 0.461 | train acc: 79.9% | valid acc: 78.3% | train f1: 79.9% | valid f1: 78.3%\n",
      "Epoch: 119 | train loss: 0.440 | valid loss: 0.462 | train acc: 79.8% | valid acc: 78.4% | train f1: 79.8% | valid f1: 78.4%\n",
      "Epoch: 120 | train loss: 0.439 | valid loss: 0.463 | train acc: 79.6% | valid acc: 78.2% | train f1: 79.6% | valid f1: 78.2%\n",
      "Epoch: 121 | train loss: 0.440 | valid loss: 0.461 | train acc: 79.9% | valid acc: 78.3% | train f1: 79.9% | valid f1: 78.3%\n",
      "Epoch: 122 | train loss: 0.438 | valid loss: 0.462 | train acc: 79.8% | valid acc: 78.3% | train f1: 79.8% | valid f1: 78.3%\n",
      "Epoch: 123 | train loss: 0.438 | valid loss: 0.461 | train acc: 79.8% | valid acc: 78.3% | train f1: 79.8% | valid f1: 78.3%\n",
      "Epoch: 124 | train loss: 0.439 | valid loss: 0.461 | train acc: 79.8% | valid acc: 78.3% | train f1: 79.8% | valid f1: 78.3%\n",
      "Epoch: 125 | train loss: 0.439 | valid loss: 0.462 | train acc: 79.9% | valid acc: 78.3% | train f1: 79.9% | valid f1: 78.3%\n",
      "Epoch: 126 | train loss: 0.438 | valid loss: 0.462 | train acc: 79.8% | valid acc: 78.3% | train f1: 79.8% | valid f1: 78.3%\n",
      "Epoch: 127 | train loss: 0.439 | valid loss: 0.461 | train acc: 79.8% | valid acc: 78.5% | train f1: 79.8% | valid f1: 78.5%\n",
      "Epoch: 128 | train loss: 0.438 | valid loss: 0.462 | train acc: 80.0% | valid acc: 78.1% | train f1: 80.0% | valid f1: 78.1%\n",
      "Epoch: 129 | train loss: 0.438 | valid loss: 0.461 | train acc: 79.9% | valid acc: 78.2% | train f1: 79.9% | valid f1: 78.2%\n",
      "Epoch: 130 | train loss: 0.438 | valid loss: 0.461 | train acc: 79.9% | valid acc: 78.4% | train f1: 79.9% | valid f1: 78.4%\n",
      "Epoch: 131 | train loss: 0.438 | valid loss: 0.463 | train acc: 79.8% | valid acc: 78.0% | train f1: 79.8% | valid f1: 78.0%\n",
      "Epoch: 132 | train loss: 0.438 | valid loss: 0.462 | train acc: 79.9% | valid acc: 78.3% | train f1: 79.9% | valid f1: 78.3%\n",
      "Epoch: 133 | train loss: 0.438 | valid loss: 0.461 | train acc: 79.7% | valid acc: 78.3% | train f1: 79.7% | valid f1: 78.3%\n",
      "Epoch: 134 | train loss: 0.439 | valid loss: 0.462 | train acc: 80.0% | valid acc: 78.2% | train f1: 80.0% | valid f1: 78.2%\n",
      "Epoch: 135 | train loss: 0.438 | valid loss: 0.461 | train acc: 79.8% | valid acc: 78.5% | train f1: 79.8% | valid f1: 78.5%\n",
      "Epoch: 136 | train loss: 0.438 | valid loss: 0.462 | train acc: 79.9% | valid acc: 78.2% | train f1: 79.9% | valid f1: 78.2%\n",
      "Epoch: 137 | train loss: 0.438 | valid loss: 0.462 | train acc: 80.0% | valid acc: 78.4% | train f1: 80.0% | valid f1: 78.4%\n",
      "Epoch: 138 | train loss: 0.437 | valid loss: 0.462 | train acc: 79.8% | valid acc: 78.1% | train f1: 79.8% | valid f1: 78.1%\n",
      "Epoch: 139 | train loss: 0.437 | valid loss: 0.462 | train acc: 79.9% | valid acc: 78.4% | train f1: 79.9% | valid f1: 78.4%\n",
      "Epoch: 140 | train loss: 0.437 | valid loss: 0.462 | train acc: 80.0% | valid acc: 78.3% | train f1: 80.0% | valid f1: 78.3%\n",
      "Epoch: 141 | train loss: 0.438 | valid loss: 0.462 | train acc: 80.0% | valid acc: 78.4% | train f1: 80.0% | valid f1: 78.4%\n",
      "Epoch: 142 | train loss: 0.437 | valid loss: 0.462 | train acc: 80.1% | valid acc: 78.4% | train f1: 80.1% | valid f1: 78.4%\n",
      "Epoch: 143 | train loss: 0.437 | valid loss: 0.462 | train acc: 79.9% | valid acc: 78.3% | train f1: 79.9% | valid f1: 78.3%\n",
      "Epoch: 144 | train loss: 0.438 | valid loss: 0.462 | train acc: 79.9% | valid acc: 78.4% | train f1: 79.9% | valid f1: 78.4%\n",
      "Epoch: 145 | train loss: 0.436 | valid loss: 0.462 | train acc: 80.1% | valid acc: 78.4% | train f1: 80.1% | valid f1: 78.4%\n",
      "Epoch: 146 | train loss: 0.438 | valid loss: 0.462 | train acc: 79.9% | valid acc: 78.2% | train f1: 79.9% | valid f1: 78.2%\n",
      "Epoch: 147 | train loss: 0.437 | valid loss: 0.465 | train acc: 79.9% | valid acc: 78.2% | train f1: 79.9% | valid f1: 78.2%\n",
      "Epoch: 148 | train loss: 0.437 | valid loss: 0.462 | train acc: 79.8% | valid acc: 78.4% | train f1: 79.8% | valid f1: 78.4%\n",
      "Epoch: 149 | train loss: 0.437 | valid loss: 0.462 | train acc: 79.9% | valid acc: 78.3% | train f1: 79.9% | valid f1: 78.3%\n",
      "Epoch: 150 | train loss: 0.437 | valid loss: 0.462 | train acc: 80.0% | valid acc: 78.3% | train f1: 80.0% | valid f1: 78.2%\n",
      "Epoch: 151 | train loss: 0.437 | valid loss: 0.462 | train acc: 79.9% | valid acc: 78.3% | train f1: 79.9% | valid f1: 78.3%\n",
      "Epoch: 152 | train loss: 0.436 | valid loss: 0.462 | train acc: 80.0% | valid acc: 78.1% | train f1: 80.0% | valid f1: 78.1%\n",
      "Epoch: 153 | train loss: 0.438 | valid loss: 0.462 | train acc: 80.0% | valid acc: 78.4% | train f1: 80.0% | valid f1: 78.4%\n",
      "Epoch: 154 | train loss: 0.436 | valid loss: 0.462 | train acc: 80.1% | valid acc: 78.5% | train f1: 80.1% | valid f1: 78.5%\n",
      "Epoch: 155 | train loss: 0.438 | valid loss: 0.462 | train acc: 80.0% | valid acc: 78.2% | train f1: 80.0% | valid f1: 78.2%\n",
      "Epoch: 156 | train loss: 0.437 | valid loss: 0.462 | train acc: 80.0% | valid acc: 78.2% | train f1: 80.0% | valid f1: 78.2%\n",
      "Epoch: 157 | train loss: 0.436 | valid loss: 0.462 | train acc: 80.0% | valid acc: 78.3% | train f1: 80.0% | valid f1: 78.3%\n",
      "Epoch: 158 | train loss: 0.438 | valid loss: 0.462 | train acc: 80.1% | valid acc: 78.3% | train f1: 80.1% | valid f1: 78.3%\n",
      "Epoch: 159 | train loss: 0.436 | valid loss: 0.463 | train acc: 80.0% | valid acc: 78.1% | train f1: 80.0% | valid f1: 78.1%\n",
      "Epoch: 160 | train loss: 0.437 | valid loss: 0.462 | train acc: 80.0% | valid acc: 78.4% | train f1: 80.0% | valid f1: 78.4%\n",
      "Epoch: 161 | train loss: 0.436 | valid loss: 0.462 | train acc: 80.0% | valid acc: 78.4% | train f1: 80.0% | valid f1: 78.4%\n",
      "Epoch: 162 | train loss: 0.436 | valid loss: 0.462 | train acc: 80.0% | valid acc: 78.2% | train f1: 80.0% | valid f1: 78.2%\n",
      "Epoch: 163 | train loss: 0.436 | valid loss: 0.462 | train acc: 80.0% | valid acc: 78.4% | train f1: 80.0% | valid f1: 78.4%\n",
      "Epoch: 164 | train loss: 0.436 | valid loss: 0.462 | train acc: 80.0% | valid acc: 78.4% | train f1: 80.0% | valid f1: 78.4%\n",
      "Epoch: 165 | train loss: 0.436 | valid loss: 0.464 | train acc: 80.1% | valid acc: 78.1% | train f1: 80.1% | valid f1: 78.1%\n",
      "Epoch: 166 | train loss: 0.437 | valid loss: 0.462 | train acc: 80.0% | valid acc: 78.2% | train f1: 80.0% | valid f1: 78.2%\n",
      "Epoch: 167 | train loss: 0.436 | valid loss: 0.462 | train acc: 80.0% | valid acc: 78.3% | train f1: 80.0% | valid f1: 78.3%\n",
      "Epoch: 168 | train loss: 0.437 | valid loss: 0.464 | train acc: 79.9% | valid acc: 78.2% | train f1: 79.9% | valid f1: 78.2%\n",
      "Epoch: 169 | train loss: 0.435 | valid loss: 0.462 | train acc: 80.1% | valid acc: 78.5% | train f1: 80.1% | valid f1: 78.5%\n",
      "Epoch: 170 | train loss: 0.436 | valid loss: 0.462 | train acc: 79.9% | valid acc: 78.3% | train f1: 79.9% | valid f1: 78.3%\n",
      "Epoch: 171 | train loss: 0.436 | valid loss: 0.462 | train acc: 80.0% | valid acc: 78.2% | train f1: 80.0% | valid f1: 78.2%\n",
      "Epoch: 172 | train loss: 0.436 | valid loss: 0.462 | train acc: 80.0% | valid acc: 78.2% | train f1: 80.0% | valid f1: 78.2%\n",
      "Epoch: 173 | train loss: 0.437 | valid loss: 0.463 | train acc: 80.0% | valid acc: 78.2% | train f1: 80.0% | valid f1: 78.1%\n",
      "Epoch: 174 | train loss: 0.436 | valid loss: 0.463 | train acc: 79.9% | valid acc: 78.2% | train f1: 79.9% | valid f1: 78.2%\n",
      "Epoch: 175 | train loss: 0.436 | valid loss: 0.462 | train acc: 80.1% | valid acc: 78.4% | train f1: 80.1% | valid f1: 78.4%\n",
      "Epoch: 176 | train loss: 0.437 | valid loss: 0.463 | train acc: 80.0% | valid acc: 78.2% | train f1: 80.0% | valid f1: 78.2%\n",
      "Epoch: 177 | train loss: 0.435 | valid loss: 0.462 | train acc: 80.0% | valid acc: 78.3% | train f1: 80.0% | valid f1: 78.3%\n",
      "Epoch: 178 | train loss: 0.435 | valid loss: 0.463 | train acc: 80.1% | valid acc: 78.1% | train f1: 80.1% | valid f1: 78.1%\n",
      "Epoch: 179 | train loss: 0.435 | valid loss: 0.462 | train acc: 80.2% | valid acc: 78.5% | train f1: 80.2% | valid f1: 78.5%\n",
      "Epoch: 180 | train loss: 0.435 | valid loss: 0.464 | train acc: 80.1% | valid acc: 78.2% | train f1: 80.1% | valid f1: 78.2%\n",
      "Epoch: 181 | train loss: 0.436 | valid loss: 0.462 | train acc: 80.1% | valid acc: 78.5% | train f1: 80.1% | valid f1: 78.5%\n",
      "Epoch: 182 | train loss: 0.436 | valid loss: 0.462 | train acc: 80.1% | valid acc: 78.6% | train f1: 80.1% | valid f1: 78.6%\n",
      "Epoch: 183 | train loss: 0.436 | valid loss: 0.462 | train acc: 80.0% | valid acc: 78.4% | train f1: 80.0% | valid f1: 78.4%\n",
      "Epoch: 184 | train loss: 0.434 | valid loss: 0.462 | train acc: 80.1% | valid acc: 78.3% | train f1: 80.1% | valid f1: 78.3%\n",
      "Epoch: 185 | train loss: 0.435 | valid loss: 0.463 | train acc: 80.1% | valid acc: 78.2% | train f1: 80.1% | valid f1: 78.2%\n",
      "Epoch: 186 | train loss: 0.436 | valid loss: 0.462 | train acc: 80.1% | valid acc: 78.4% | train f1: 80.1% | valid f1: 78.4%\n",
      "Epoch: 187 | train loss: 0.434 | valid loss: 0.465 | train acc: 80.1% | valid acc: 78.4% | train f1: 80.1% | valid f1: 78.4%\n",
      "Epoch: 188 | train loss: 0.435 | valid loss: 0.462 | train acc: 80.1% | valid acc: 78.5% | train f1: 80.1% | valid f1: 78.5%\n",
      "Epoch: 189 | train loss: 0.434 | valid loss: 0.462 | train acc: 80.2% | valid acc: 78.4% | train f1: 80.2% | valid f1: 78.4%\n",
      "Epoch: 190 | train loss: 0.435 | valid loss: 0.463 | train acc: 80.1% | valid acc: 78.2% | train f1: 80.1% | valid f1: 78.2%\n",
      "Epoch: 191 | train loss: 0.435 | valid loss: 0.463 | train acc: 80.1% | valid acc: 78.2% | train f1: 80.1% | valid f1: 78.2%\n",
      "Epoch: 192 | train loss: 0.435 | valid loss: 0.462 | train acc: 80.1% | valid acc: 78.3% | train f1: 80.1% | valid f1: 78.3%\n",
      "Epoch: 193 | train loss: 0.434 | valid loss: 0.464 | train acc: 80.1% | valid acc: 78.2% | train f1: 80.1% | valid f1: 78.2%\n",
      "Epoch: 194 | train loss: 0.435 | valid loss: 0.462 | train acc: 80.1% | valid acc: 78.1% | train f1: 80.1% | valid f1: 78.1%\n",
      "Epoch: 195 | train loss: 0.435 | valid loss: 0.462 | train acc: 80.1% | valid acc: 78.5% | train f1: 80.1% | valid f1: 78.5%\n",
      "Epoch: 196 | train loss: 0.434 | valid loss: 0.462 | train acc: 80.1% | valid acc: 78.4% | train f1: 80.1% | valid f1: 78.4%\n",
      "Epoch: 197 | train loss: 0.435 | valid loss: 0.463 | train acc: 80.2% | valid acc: 78.1% | train f1: 80.2% | valid f1: 78.1%\n",
      "Epoch: 198 | train loss: 0.434 | valid loss: 0.464 | train acc: 80.2% | valid acc: 78.3% | train f1: 80.2% | valid f1: 78.3%\n",
      "Epoch: 199 | train loss: 0.435 | valid loss: 0.464 | train acc: 80.0% | valid acc: 78.1% | train f1: 80.0% | valid f1: 78.1%\n",
      "Epoch: 200 | train loss: 0.434 | valid loss: 0.463 | train acc: 80.1% | valid acc: 78.1% | train f1: 80.1% | valid f1: 78.1%\n"
     ]
    }
   ],
   "source": [
    "epochs = 200\n",
    "\n",
    "_, history_no_time = train_classifier_head(\n",
    "    train_set='../../preprocessed/tweets/embeddings/train.pkl',\n",
    "    experiment_dir='../../results/run_no_time',\n",
    "    valid_set='../../preprocessed/tweets/embeddings/valid.pkl',\n",
    "    batch_size=1024,\n",
    "    epochs=epochs,\n",
    "    gpu=True,\n",
    "    use_time_rep=False\n",
    ")"
   ],
   "metadata": {
    "collapsed": false,
    "pycharm": {
     "name": "#%%\n"
    }
   }
  },
  {
   "cell_type": "code",
   "execution_count": 6,
   "outputs": [
    {
     "name": "stdout",
     "output_type": "stream",
     "text": [
      "Min validation loss without using time representation:     0.461\n",
      "Min validation loss with time representation:              0.452\n",
      "Max validation accuracy without using time representation: 78.93\n",
      "Max validation accuracy with time representation:          79.47\n"
     ]
    }
   ],
   "source": [
    "print(f'Min validation loss without using time representation:     {min(history_no_time[\"valid\"][\"loss\"]):.3f}')\n",
    "print(f'Min validation loss with time representation:              {min(history[\"valid\"][\"loss\"]):.3f}')\n",
    "print(f'Max validation accuracy without using time representation: {max(history_no_time[\"valid\"][\"acc\"]):.2f}')\n",
    "print(f'Max validation accuracy with time representation:          {max(history[\"valid\"][\"acc\"]):.2f}')"
   ],
   "metadata": {
    "collapsed": false,
    "pycharm": {
     "name": "#%%\n"
    }
   }
  },
  {
   "cell_type": "markdown",
   "source": [
    "Retrain the model on the train + valid set using the better version that uses the time encodings."
   ],
   "metadata": {
    "collapsed": false,
    "pycharm": {
     "name": "#%% md\n"
    }
   }
  },
  {
   "cell_type": "code",
   "execution_count": 7,
   "outputs": [],
   "source": [
    "# Retrain the model on train and valid set until an early stopping criterion\n",
    "all_embeddings = {'X': [], 'y': []}\n",
    "\n",
    "for split in ['train', 'valid']:\n",
    "    with open(f'../../preprocessed/tweets/embeddings/{split}.pkl', 'rb') as file:\n",
    "        data = pickle.load(file)\n",
    "\n",
    "    all_embeddings['X'] += [data['X']]\n",
    "    all_embeddings['y'] += [data['y']]\n",
    "\n",
    "all_embeddings['X'] = torch.cat(all_embeddings['X'])\n",
    "all_embeddings['y'] = torch.cat(all_embeddings['y'])\n",
    "\n",
    "with open(f'../../preprocessed/tweets/embeddings/all.pkl', 'wb') as file:\n",
    "    pickle.dump(all_embeddings, file)"
   ],
   "metadata": {
    "collapsed": false,
    "pycharm": {
     "name": "#%%\n"
    }
   }
  },
  {
   "cell_type": "code",
   "execution_count": 8,
   "outputs": [
    {
     "data": {
      "text/plain": "  0%|          | 0/81 [00:00<?, ?it/s]",
      "application/vnd.jupyter.widget-view+json": {
       "version_major": 2,
       "version_minor": 0,
       "model_id": "a147948b3cb447d28b181413248f1525"
      }
     },
     "metadata": {},
     "output_type": "display_data"
    },
    {
     "name": "stdout",
     "output_type": "stream",
     "text": [
      "Epoch:   1 | train loss: 0.646 | train acc: 64.4% | train f1: 64.4% | \n",
      "Epoch:   2 | train loss: 0.577 | train acc: 72.3% | train f1: 72.3% | \n",
      "Epoch:   3 | train loss: 0.542 | train acc: 74.7% | train f1: 74.7% | \n",
      "Epoch:   4 | train loss: 0.520 | train acc: 75.7% | train f1: 75.7% | \n",
      "Epoch:   5 | train loss: 0.506 | train acc: 76.3% | train f1: 76.3% | \n",
      "Epoch:   6 | train loss: 0.496 | train acc: 76.8% | train f1: 76.8% | \n",
      "Epoch:   7 | train loss: 0.488 | train acc: 77.2% | train f1: 77.2% | \n",
      "Epoch:   8 | train loss: 0.482 | train acc: 77.5% | train f1: 77.5% | \n",
      "Epoch:   9 | train loss: 0.477 | train acc: 77.7% | train f1: 77.7% | \n",
      "Epoch:  10 | train loss: 0.473 | train acc: 77.9% | train f1: 77.9% | \n",
      "Epoch:  11 | train loss: 0.471 | train acc: 78.1% | train f1: 78.1% | \n",
      "Epoch:  12 | train loss: 0.467 | train acc: 78.3% | train f1: 78.3% | \n",
      "Epoch:  13 | train loss: 0.464 | train acc: 78.4% | train f1: 78.4% | \n",
      "Epoch:  14 | train loss: 0.462 | train acc: 78.6% | train f1: 78.6% | \n",
      "Epoch:  15 | train loss: 0.461 | train acc: 78.6% | train f1: 78.5% | \n",
      "Epoch:  16 | train loss: 0.459 | train acc: 78.7% | train f1: 78.7% | \n",
      "Epoch:  17 | train loss: 0.457 | train acc: 78.8% | train f1: 78.8% | \n",
      "Epoch:  18 | train loss: 0.455 | train acc: 78.9% | train f1: 78.9% | \n",
      "Epoch:  19 | train loss: 0.454 | train acc: 78.9% | train f1: 78.9% | \n",
      "Epoch:  20 | train loss: 0.453 | train acc: 78.9% | train f1: 78.9% | \n",
      "Epoch:  21 | train loss: 0.452 | train acc: 79.0% | train f1: 79.0% | \n",
      "Epoch:  22 | train loss: 0.451 | train acc: 79.1% | train f1: 79.1% | \n",
      "Epoch:  23 | train loss: 0.450 | train acc: 79.2% | train f1: 79.2% | \n",
      "Epoch:  24 | train loss: 0.449 | train acc: 79.2% | train f1: 79.2% | \n",
      "Epoch:  25 | train loss: 0.448 | train acc: 79.3% | train f1: 79.3% | \n",
      "Epoch:  26 | train loss: 0.447 | train acc: 79.3% | train f1: 79.3% | \n",
      "Epoch:  27 | train loss: 0.447 | train acc: 79.4% | train f1: 79.4% | \n",
      "Epoch:  28 | train loss: 0.447 | train acc: 79.4% | train f1: 79.4% | \n",
      "Epoch:  29 | train loss: 0.446 | train acc: 79.4% | train f1: 79.4% | \n",
      "Epoch:  30 | train loss: 0.447 | train acc: 79.4% | train f1: 79.4% | \n",
      "Epoch:  31 | train loss: 0.445 | train acc: 79.5% | train f1: 79.5% | \n",
      "Epoch:  32 | train loss: 0.444 | train acc: 79.5% | train f1: 79.5% | \n",
      "Epoch:  33 | train loss: 0.443 | train acc: 79.6% | train f1: 79.6% | \n",
      "Epoch:  34 | train loss: 0.443 | train acc: 79.7% | train f1: 79.7% | \n",
      "Epoch:  35 | train loss: 0.443 | train acc: 79.6% | train f1: 79.6% | \n",
      "Epoch:  36 | train loss: 0.443 | train acc: 79.7% | train f1: 79.7% | \n",
      "Epoch:  37 | train loss: 0.443 | train acc: 79.7% | train f1: 79.7% | \n",
      "Epoch:  38 | train loss: 0.440 | train acc: 79.8% | train f1: 79.8% | \n",
      "Epoch:  39 | train loss: 0.442 | train acc: 79.7% | train f1: 79.7% | \n",
      "Epoch:  40 | train loss: 0.442 | train acc: 79.8% | train f1: 79.8% | \n",
      "Epoch:  41 | train loss: 0.439 | train acc: 79.8% | train f1: 79.8% | \n",
      "Epoch:  42 | train loss: 0.440 | train acc: 79.9% | train f1: 79.9% | \n",
      "Epoch:  43 | train loss: 0.440 | train acc: 79.9% | train f1: 79.9% | \n",
      "Epoch:  44 | train loss: 0.439 | train acc: 79.8% | train f1: 79.8% | \n",
      "Epoch:  45 | train loss: 0.439 | train acc: 79.8% | train f1: 79.8% | \n",
      "Epoch:  46 | train loss: 0.438 | train acc: 79.9% | train f1: 79.9% | \n",
      "Epoch:  47 | train loss: 0.439 | train acc: 79.9% | train f1: 79.9% | \n",
      "Epoch:  48 | train loss: 0.439 | train acc: 79.9% | train f1: 79.9% | \n",
      "Epoch:  49 | train loss: 0.439 | train acc: 79.9% | train f1: 79.9% | \n",
      "Epoch:  50 | train loss: 0.438 | train acc: 79.9% | train f1: 79.9% | \n",
      "Epoch:  51 | train loss: 0.438 | train acc: 79.9% | train f1: 79.9% | \n",
      "Epoch:  52 | train loss: 0.437 | train acc: 80.0% | train f1: 80.0% | \n",
      "Epoch:  53 | train loss: 0.439 | train acc: 80.0% | train f1: 80.0% | \n",
      "Epoch:  54 | train loss: 0.439 | train acc: 79.9% | train f1: 79.9% | \n",
      "Epoch:  55 | train loss: 0.437 | train acc: 80.0% | train f1: 80.0% | \n",
      "Epoch:  56 | train loss: 0.437 | train acc: 79.9% | train f1: 79.9% | \n",
      "Epoch:  57 | train loss: 0.437 | train acc: 80.1% | train f1: 80.1% | \n",
      "Epoch:  58 | train loss: 0.436 | train acc: 80.1% | train f1: 80.1% | \n",
      "Epoch:  59 | train loss: 0.436 | train acc: 80.1% | train f1: 80.1% | \n",
      "Epoch:  60 | train loss: 0.434 | train acc: 80.0% | train f1: 80.0% | \n",
      "Epoch:  61 | train loss: 0.435 | train acc: 80.2% | train f1: 80.2% | \n",
      "Epoch:  62 | train loss: 0.435 | train acc: 80.2% | train f1: 80.2% | \n",
      "Epoch:  63 | train loss: 0.435 | train acc: 80.1% | train f1: 80.1% | \n",
      "Epoch:  64 | train loss: 0.435 | train acc: 80.2% | train f1: 80.2% | \n",
      "Epoch:  65 | train loss: 0.434 | train acc: 80.2% | train f1: 80.2% | \n",
      "Epoch:  66 | train loss: 0.434 | train acc: 80.2% | train f1: 80.2% | \n",
      "Epoch:  67 | train loss: 0.434 | train acc: 80.3% | train f1: 80.3% | \n",
      "Epoch:  68 | train loss: 0.434 | train acc: 80.2% | train f1: 80.2% | \n",
      "Epoch:  69 | train loss: 0.434 | train acc: 80.2% | train f1: 80.2% | \n",
      "Epoch:  70 | train loss: 0.433 | train acc: 80.1% | train f1: 80.1% | \n",
      "Epoch:  71 | train loss: 0.433 | train acc: 80.2% | train f1: 80.2% | \n",
      "Epoch:  72 | train loss: 0.433 | train acc: 80.2% | train f1: 80.2% | \n",
      "Epoch:  73 | train loss: 0.433 | train acc: 80.3% | train f1: 80.3% | \n",
      "Epoch:  74 | train loss: 0.433 | train acc: 80.2% | train f1: 80.2% | \n",
      "Epoch:  75 | train loss: 0.434 | train acc: 80.3% | train f1: 80.3% | \n",
      "Epoch:  76 | train loss: 0.432 | train acc: 80.3% | train f1: 80.3% | \n",
      "Epoch:  77 | train loss: 0.433 | train acc: 80.3% | train f1: 80.3% | \n",
      "Epoch:  78 | train loss: 0.431 | train acc: 80.3% | train f1: 80.3% | \n",
      "Epoch:  79 | train loss: 0.433 | train acc: 80.4% | train f1: 80.4% | \n",
      "Epoch:  80 | train loss: 0.431 | train acc: 80.5% | train f1: 80.5% | \n",
      "Epoch:  81 | train loss: 0.432 | train acc: 80.3% | train f1: 80.3% | \n"
     ]
    }
   ],
   "source": [
    "model, _ = train_classifier_head(\n",
    "    train_set='../../preprocessed/tweets/embeddings/all.pkl',\n",
    "    experiment_dir='../../results/run_all',\n",
    "    batch_size=1024,\n",
    "    epochs=early_stopping,\n",
    "    gpu=True\n",
    ")\n",
    "\n",
    "torch.save(model.head, '../../models/tweets/tweets_classifier.pth')"
   ],
   "metadata": {
    "collapsed": false,
    "pycharm": {
     "name": "#%%\n"
    }
   }
  },
  {
   "cell_type": "code",
   "execution_count": 9,
   "outputs": [],
   "source": [
    "model_path = '../../models/tweets/tweets_classifier.pth'\n",
    "train_dataset = '../../preprocessed/tweets/embeddings/all.pkl'\n",
    "test_dataset = '../../preprocessed/tweets/embeddings/test.pkl'\n",
    "\n",
    "_, y_true_train, y_pred_train = evaluate_wrapper(model_path, train_dataset, batch_size=1024, gpu=True)\n",
    "_, y_true_test, y_pred_test = evaluate_wrapper(model_path, test_dataset, batch_size=1024, gpu=True)"
   ],
   "metadata": {
    "collapsed": false,
    "pycharm": {
     "name": "#%%\n"
    }
   }
  },
  {
   "cell_type": "code",
   "execution_count": 10,
   "outputs": [
    {
     "name": "stdout",
     "output_type": "stream",
     "text": [
      "              precision    recall  f1-score   support\n",
      "\n",
      "    negative       0.50      1.00      0.67      1505\n",
      "    positive       0.00      0.00      0.00      1496\n",
      "\n",
      "    accuracy                           0.50      3001\n",
      "   macro avg       0.25      0.50      0.33      3001\n",
      "weighted avg       0.25      0.50      0.34      3001\n",
      "\n"
     ]
    },
    {
     "name": "stderr",
     "output_type": "stream",
     "text": [
      "C:\\Users\\Marcin\\miniconda3\\envs\\sages\\lib\\site-packages\\sklearn\\metrics\\_classification.py:1334: UndefinedMetricWarning: Precision and F-score are ill-defined and being set to 0.0 in labels with no predicted samples. Use `zero_division` parameter to control this behavior.\n",
      "  _warn_prf(average, modifier, msg_start, len(result))\n",
      "C:\\Users\\Marcin\\miniconda3\\envs\\sages\\lib\\site-packages\\sklearn\\metrics\\_classification.py:1334: UndefinedMetricWarning: Precision and F-score are ill-defined and being set to 0.0 in labels with no predicted samples. Use `zero_division` parameter to control this behavior.\n",
      "  _warn_prf(average, modifier, msg_start, len(result))\n",
      "C:\\Users\\Marcin\\miniconda3\\envs\\sages\\lib\\site-packages\\sklearn\\metrics\\_classification.py:1334: UndefinedMetricWarning: Precision and F-score are ill-defined and being set to 0.0 in labels with no predicted samples. Use `zero_division` parameter to control this behavior.\n",
      "  _warn_prf(average, modifier, msg_start, len(result))\n"
     ]
    }
   ],
   "source": [
    "dummy_pred = [0] * len(y_true_test)\n",
    "\n",
    "print(metrics.classification_report(y_true_test, dummy_pred, target_names=['negative', 'positive']))"
   ],
   "metadata": {
    "collapsed": false,
    "pycharm": {
     "name": "#%%\n"
    }
   }
  },
  {
   "cell_type": "code",
   "execution_count": 11,
   "outputs": [
    {
     "name": "stdout",
     "output_type": "stream",
     "text": [
      "              precision    recall  f1-score   support\n",
      "\n",
      "    negative       0.81      0.79      0.80     13544\n",
      "    positive       0.79      0.82      0.81     13455\n",
      "\n",
      "    accuracy                           0.80     26999\n",
      "   macro avg       0.80      0.80      0.80     26999\n",
      "weighted avg       0.80      0.80      0.80     26999\n",
      "\n"
     ]
    },
    {
     "data": {
      "text/plain": "<Figure size 640x480 with 1 Axes>",
      "image/png": "[encoded data removed]"
     },
     "metadata": {},
     "output_type": "display_data"
    }
   ],
   "source": [
    "labels = ['negative', 'positive']\n",
    "\n",
    "# Train set performance\n",
    "print(metrics.classification_report(y_true_train, y_pred_train, target_names=labels))\n",
    "\n",
    "cm = metrics.confusion_matrix(y_true_train, y_pred_train, normalize='true')\n",
    "annot = np.round(cm * 100, 1)\n",
    "ax = sns.heatmap(cm, cbar=False, annot=annot, xticklabels=labels, yticklabels=labels)\n",
    "\n",
    "ax.set_xlabel('pred')\n",
    "ax.set_ylabel('true');"
   ],
   "metadata": {
    "collapsed": false,
    "pycharm": {
     "name": "#%%\n"
    }
   }
  },
  {
   "cell_type": "code",
   "execution_count": 12,
   "outputs": [
    {
     "name": "stdout",
     "output_type": "stream",
     "text": [
      "              precision    recall  f1-score   support\n",
      "\n",
      "    negative       0.82      0.78      0.80      1505\n",
      "    positive       0.79      0.83      0.81      1496\n",
      "\n",
      "    accuracy                           0.80      3001\n",
      "   macro avg       0.80      0.80      0.80      3001\n",
      "weighted avg       0.80      0.80      0.80      3001\n",
      "\n"
     ]
    },
    {
     "data": {
      "text/plain": "<Figure size 640x480 with 1 Axes>",
      "image/png": "[encoded data removed]"
     },
     "metadata": {},
     "output_type": "display_data"
    }
   ],
   "source": [
    "# Test set performance\n",
    "print(metrics.classification_report(y_true_test, y_pred_test, target_names=labels))\n",
    "\n",
    "cm = metrics.confusion_matrix(y_true_test, y_pred_test, normalize='true')\n",
    "annot = np.round(cm * 100, 1)\n",
    "ax = sns.heatmap(cm, cbar=False, annot=annot, xticklabels=labels, yticklabels=labels)\n",
    "\n",
    "ax.set_xlabel('pred')\n",
    "ax.set_ylabel('true');"
   ],
   "metadata": {
    "collapsed": false,
    "pycharm": {
     "name": "#%%\n"
    }
   }
  },
  {
   "cell_type": "code",
   "execution_count": 12,
   "outputs": [],
   "source": [],
   "metadata": {
    "collapsed": false,
    "pycharm": {
     "name": "#%%\n"
    }
   }
  }
 ],
 "metadata": {
  "kernelspec": {
   "display_name": "Python 3",
   "language": "python",
   "name": "python3"
  },
  "language_info": {
   "codemirror_mode": {
    "name": "ipython",
    "version": 2
   },
   "file_extension": ".py",
   "mimetype": "text/x-python",
   "name": "python",
   "nbconvert_exporter": "python",
   "pygments_lexer": "ipython2",
   "version": "2.7.6"
  }
 },
 "nbformat": 4,
 "nbformat_minor": 0
}