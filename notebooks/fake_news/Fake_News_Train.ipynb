{
 "cells": [
  {
   "cell_type": "markdown",
   "source": [
    "# Fake News classifier training & evaluation\n",
    "by Marcin Rybok"
   ],
   "metadata": {
    "collapsed": false,
    "pycharm": {
     "name": "#%% md\n"
    }
   }
  },
  {
   "cell_type": "code",
   "execution_count": 1,
   "outputs": [],
   "source": [
    "import torch\n",
    "import pickle\n",
    "import transformers\n",
    "\n",
    "import numpy as np\n",
    "import seaborn as sns\n",
    "import sklearn.metrics as metrics\n",
    "import matplotlib.pyplot as plt\n",
    "\n",
    "from fake_news.util import train_classifier_head\n",
    "from fake_news.util import evaluate_wrapper\n",
    "from fake_news.defaults import LABELS\n",
    "\n",
    "transformers.logging.set_verbosity_error()"
   ],
   "metadata": {
    "collapsed": false,
    "pycharm": {
     "name": "#%%\n"
    }
   }
  },
  {
   "cell_type": "code",
   "execution_count": 2,
   "outputs": [
    {
     "data": {
      "text/plain": "  0%|          | 0/200 [00:00<?, ?it/s]",
      "application/vnd.jupyter.widget-view+json": {
       "version_major": 2,
       "version_minor": 0,
       "model_id": "4325faf0c72e41e68eeec524d57a471f"
      }
     },
     "metadata": {},
     "output_type": "display_data"
    },
    {
     "name": "stdout",
     "output_type": "stream",
     "text": [
      "Epoch:   1 | train loss: 0.479 | valid loss: 0.342 | train acc: 84.6% | valid acc: 87.3% | train f1: 43.3% | valid f1: 43.2%\n",
      "Epoch:   2 | train loss: 0.291 | valid loss: 0.314 | train acc: 88.7% | valid acc: 87.8% | train f1: 46.8% | valid f1: 46.8%\n",
      "Epoch:   3 | train loss: 0.273 | valid loss: 0.301 | train acc: 89.5% | valid acc: 89.2% | train f1: 51.9% | valid f1: 54.5%\n",
      "Epoch:   4 | train loss: 0.263 | valid loss: 0.293 | train acc: 90.1% | valid acc: 89.4% | train f1: 54.2% | valid f1: 55.5%\n",
      "Epoch:   5 | train loss: 0.253 | valid loss: 0.285 | train acc: 90.6% | valid acc: 89.3% | train f1: 56.3% | valid f1: 55.3%\n",
      "Epoch:   6 | train loss: 0.247 | valid loss: 0.282 | train acc: 90.9% | valid acc: 89.9% | train f1: 57.0% | valid f1: 57.7%\n",
      "Epoch:   7 | train loss: 0.241 | valid loss: 0.277 | train acc: 91.1% | valid acc: 90.0% | train f1: 57.9% | valid f1: 57.8%\n",
      "Epoch:   8 | train loss: 0.235 | valid loss: 0.271 | train acc: 91.2% | valid acc: 90.4% | train f1: 58.3% | valid f1: 58.7%\n",
      "Epoch:   9 | train loss: 0.231 | valid loss: 0.271 | train acc: 91.4% | valid acc: 90.6% | train f1: 58.7% | valid f1: 59.4%\n",
      "Epoch:  10 | train loss: 0.227 | valid loss: 0.269 | train acc: 91.5% | valid acc: 90.4% | train f1: 59.2% | valid f1: 58.9%\n",
      "Epoch:  11 | train loss: 0.223 | valid loss: 0.264 | train acc: 91.6% | valid acc: 90.1% | train f1: 59.5% | valid f1: 58.0%\n",
      "Epoch:  12 | train loss: 0.221 | valid loss: 0.262 | train acc: 91.7% | valid acc: 90.4% | train f1: 59.9% | valid f1: 58.9%\n",
      "Epoch:  13 | train loss: 0.218 | valid loss: 0.262 | train acc: 91.8% | valid acc: 90.5% | train f1: 60.2% | valid f1: 59.1%\n",
      "Epoch:  14 | train loss: 0.215 | valid loss: 0.259 | train acc: 91.8% | valid acc: 90.3% | train f1: 60.0% | valid f1: 58.5%\n",
      "Epoch:  15 | train loss: 0.212 | valid loss: 0.260 | train acc: 91.9% | valid acc: 90.6% | train f1: 61.0% | valid f1: 59.5%\n",
      "Epoch:  16 | train loss: 0.210 | valid loss: 0.257 | train acc: 92.0% | valid acc: 90.8% | train f1: 60.9% | valid f1: 59.7%\n",
      "Epoch:  17 | train loss: 0.207 | valid loss: 0.254 | train acc: 92.0% | valid acc: 90.8% | train f1: 61.0% | valid f1: 59.7%\n",
      "Epoch:  18 | train loss: 0.205 | valid loss: 0.256 | train acc: 92.1% | valid acc: 90.4% | train f1: 61.3% | valid f1: 58.4%\n",
      "Epoch:  19 | train loss: 0.205 | valid loss: 0.257 | train acc: 92.1% | valid acc: 90.5% | train f1: 61.6% | valid f1: 59.6%\n",
      "Epoch:  20 | train loss: 0.202 | valid loss: 0.254 | train acc: 92.2% | valid acc: 90.7% | train f1: 62.0% | valid f1: 59.4%\n",
      "Epoch:  21 | train loss: 0.201 | valid loss: 0.252 | train acc: 92.3% | valid acc: 90.4% | train f1: 62.4% | valid f1: 58.6%\n",
      "Epoch:  22 | train loss: 0.199 | valid loss: 0.248 | train acc: 92.4% | valid acc: 90.8% | train f1: 62.7% | valid f1: 59.3%\n",
      "Epoch:  23 | train loss: 0.199 | valid loss: 0.248 | train acc: 92.4% | valid acc: 90.6% | train f1: 63.4% | valid f1: 59.2%\n",
      "Epoch:  24 | train loss: 0.196 | valid loss: 0.250 | train acc: 92.6% | valid acc: 90.8% | train f1: 64.2% | valid f1: 59.7%\n",
      "Epoch:  25 | train loss: 0.194 | valid loss: 0.247 | train acc: 92.6% | valid acc: 90.3% | train f1: 63.5% | valid f1: 58.2%\n",
      "Epoch:  26 | train loss: 0.193 | valid loss: 0.246 | train acc: 92.7% | valid acc: 90.6% | train f1: 64.6% | valid f1: 59.6%\n",
      "Epoch:  27 | train loss: 0.192 | valid loss: 0.248 | train acc: 92.6% | valid acc: 91.0% | train f1: 64.7% | valid f1: 61.1%\n",
      "Epoch:  28 | train loss: 0.192 | valid loss: 0.246 | train acc: 92.7% | valid acc: 90.6% | train f1: 64.7% | valid f1: 59.1%\n",
      "Epoch:  29 | train loss: 0.189 | valid loss: 0.246 | train acc: 92.8% | valid acc: 90.7% | train f1: 65.2% | valid f1: 59.3%\n",
      "Epoch:  30 | train loss: 0.188 | valid loss: 0.248 | train acc: 92.8% | valid acc: 91.0% | train f1: 66.4% | valid f1: 60.2%\n",
      "Epoch:  31 | train loss: 0.187 | valid loss: 0.246 | train acc: 92.9% | valid acc: 90.6% | train f1: 66.1% | valid f1: 59.2%\n",
      "Epoch:  32 | train loss: 0.186 | valid loss: 0.245 | train acc: 92.9% | valid acc: 91.2% | train f1: 65.9% | valid f1: 62.0%\n",
      "Epoch:  33 | train loss: 0.186 | valid loss: 0.243 | train acc: 92.9% | valid acc: 91.0% | train f1: 65.8% | valid f1: 61.5%\n",
      "Epoch:  34 | train loss: 0.184 | valid loss: 0.244 | train acc: 93.0% | valid acc: 90.6% | train f1: 66.8% | valid f1: 59.8%\n",
      "Epoch:  35 | train loss: 0.183 | valid loss: 0.244 | train acc: 93.0% | valid acc: 90.5% | train f1: 66.9% | valid f1: 59.2%\n",
      "Epoch:  36 | train loss: 0.182 | valid loss: 0.241 | train acc: 93.1% | valid acc: 90.5% | train f1: 67.3% | valid f1: 62.1%\n",
      "Epoch:  37 | train loss: 0.182 | valid loss: 0.240 | train acc: 93.1% | valid acc: 90.6% | train f1: 67.1% | valid f1: 62.9%\n",
      "Epoch:  38 | train loss: 0.181 | valid loss: 0.241 | train acc: 93.2% | valid acc: 91.0% | train f1: 68.1% | valid f1: 64.2%\n",
      "Epoch:  39 | train loss: 0.179 | valid loss: 0.244 | train acc: 93.2% | valid acc: 90.8% | train f1: 68.4% | valid f1: 61.6%\n",
      "Epoch:  40 | train loss: 0.178 | valid loss: 0.241 | train acc: 93.1% | valid acc: 91.0% | train f1: 67.7% | valid f1: 62.2%\n",
      "Epoch:  41 | train loss: 0.178 | valid loss: 0.241 | train acc: 93.3% | valid acc: 90.5% | train f1: 68.4% | valid f1: 60.9%\n",
      "Epoch:  42 | train loss: 0.178 | valid loss: 0.239 | train acc: 93.2% | valid acc: 91.2% | train f1: 67.9% | valid f1: 64.5%\n",
      "Epoch:  43 | train loss: 0.177 | valid loss: 0.242 | train acc: 93.3% | valid acc: 91.0% | train f1: 68.6% | valid f1: 61.2%\n",
      "Epoch:  44 | train loss: 0.176 | valid loss: 0.239 | train acc: 93.3% | valid acc: 91.0% | train f1: 68.6% | valid f1: 64.1%\n",
      "Epoch:  45 | train loss: 0.176 | valid loss: 0.241 | train acc: 93.3% | valid acc: 91.0% | train f1: 69.0% | valid f1: 61.3%\n",
      "Epoch:  46 | train loss: 0.174 | valid loss: 0.239 | train acc: 93.4% | valid acc: 90.9% | train f1: 68.6% | valid f1: 62.5%\n",
      "Epoch:  47 | train loss: 0.174 | valid loss: 0.239 | train acc: 93.3% | valid acc: 90.8% | train f1: 68.5% | valid f1: 61.8%\n",
      "Epoch:  48 | train loss: 0.173 | valid loss: 0.240 | train acc: 93.4% | valid acc: 90.8% | train f1: 69.2% | valid f1: 62.4%\n",
      "Epoch:  49 | train loss: 0.172 | valid loss: 0.238 | train acc: 93.5% | valid acc: 90.8% | train f1: 69.3% | valid f1: 62.4%\n",
      "Epoch:  50 | train loss: 0.172 | valid loss: 0.240 | train acc: 93.5% | valid acc: 90.7% | train f1: 69.6% | valid f1: 61.5%\n",
      "Epoch:  51 | train loss: 0.170 | valid loss: 0.244 | train acc: 93.5% | valid acc: 90.6% | train f1: 70.1% | valid f1: 61.1%\n",
      "Epoch:  52 | train loss: 0.172 | valid loss: 0.239 | train acc: 93.4% | valid acc: 90.6% | train f1: 69.4% | valid f1: 62.8%\n",
      "Epoch:  53 | train loss: 0.171 | valid loss: 0.240 | train acc: 93.5% | valid acc: 90.9% | train f1: 70.0% | valid f1: 61.3%\n",
      "Epoch:  54 | train loss: 0.170 | valid loss: 0.241 | train acc: 93.6% | valid acc: 90.7% | train f1: 70.1% | valid f1: 60.5%\n",
      "Epoch:  55 | train loss: 0.169 | valid loss: 0.237 | train acc: 93.5% | valid acc: 91.0% | train f1: 69.3% | valid f1: 63.3%\n",
      "Epoch:  56 | train loss: 0.168 | valid loss: 0.238 | train acc: 93.6% | valid acc: 90.8% | train f1: 70.6% | valid f1: 63.0%\n",
      "Epoch:  57 | train loss: 0.168 | valid loss: 0.237 | train acc: 93.6% | valid acc: 90.9% | train f1: 70.0% | valid f1: 63.0%\n",
      "Epoch:  58 | train loss: 0.168 | valid loss: 0.240 | train acc: 93.6% | valid acc: 90.6% | train f1: 70.5% | valid f1: 60.4%\n",
      "Epoch:  59 | train loss: 0.167 | valid loss: 0.239 | train acc: 93.7% | valid acc: 90.7% | train f1: 70.7% | valid f1: 62.4%\n",
      "Epoch:  60 | train loss: 0.166 | valid loss: 0.237 | train acc: 93.7% | valid acc: 90.9% | train f1: 70.6% | valid f1: 61.0%\n",
      "Epoch:  61 | train loss: 0.166 | valid loss: 0.240 | train acc: 93.7% | valid acc: 90.9% | train f1: 70.7% | valid f1: 62.0%\n",
      "Epoch:  62 | train loss: 0.165 | valid loss: 0.241 | train acc: 93.7% | valid acc: 90.5% | train f1: 71.0% | valid f1: 60.1%\n",
      "Epoch:  63 | train loss: 0.165 | valid loss: 0.237 | train acc: 93.7% | valid acc: 90.8% | train f1: 70.9% | valid f1: 62.6%\n",
      "Epoch:  64 | train loss: 0.164 | valid loss: 0.241 | train acc: 93.8% | valid acc: 90.6% | train f1: 71.1% | valid f1: 62.0%\n",
      "Epoch:  65 | train loss: 0.165 | valid loss: 0.241 | train acc: 93.8% | valid acc: 90.9% | train f1: 71.5% | valid f1: 62.2%\n",
      "Epoch:  66 | train loss: 0.164 | valid loss: 0.240 | train acc: 93.7% | valid acc: 90.6% | train f1: 71.2% | valid f1: 60.2%\n",
      "Epoch:  67 | train loss: 0.164 | valid loss: 0.239 | train acc: 93.7% | valid acc: 90.9% | train f1: 70.9% | valid f1: 61.0%\n",
      "Epoch:  68 | train loss: 0.162 | valid loss: 0.238 | train acc: 93.8% | valid acc: 90.7% | train f1: 71.3% | valid f1: 61.6%\n",
      "Epoch:  69 | train loss: 0.162 | valid loss: 0.238 | train acc: 93.8% | valid acc: 90.6% | train f1: 71.6% | valid f1: 62.5%\n",
      "Epoch:  70 | train loss: 0.161 | valid loss: 0.237 | train acc: 93.9% | valid acc: 90.7% | train f1: 71.8% | valid f1: 62.4%\n",
      "Epoch:  71 | train loss: 0.161 | valid loss: 0.239 | train acc: 93.9% | valid acc: 90.9% | train f1: 72.1% | valid f1: 61.1%\n",
      "Epoch:  72 | train loss: 0.161 | valid loss: 0.236 | train acc: 93.9% | valid acc: 90.8% | train f1: 72.1% | valid f1: 63.3%\n",
      "Epoch:  73 | train loss: 0.160 | valid loss: 0.240 | train acc: 93.9% | valid acc: 91.0% | train f1: 72.3% | valid f1: 61.2%\n",
      "Epoch:  74 | train loss: 0.160 | valid loss: 0.236 | train acc: 93.9% | valid acc: 90.9% | train f1: 72.6% | valid f1: 62.8%\n",
      "Epoch:  75 | train loss: 0.160 | valid loss: 0.236 | train acc: 93.9% | valid acc: 91.1% | train f1: 71.9% | valid f1: 63.9%\n",
      "Epoch:  76 | train loss: 0.160 | valid loss: 0.242 | train acc: 93.9% | valid acc: 90.6% | train f1: 72.3% | valid f1: 60.2%\n",
      "Epoch:  77 | train loss: 0.158 | valid loss: 0.238 | train acc: 94.1% | valid acc: 90.9% | train f1: 72.9% | valid f1: 61.1%\n",
      "Epoch:  78 | train loss: 0.159 | valid loss: 0.235 | train acc: 93.9% | valid acc: 91.0% | train f1: 72.3% | valid f1: 64.2%\n",
      "Epoch:  79 | train loss: 0.159 | valid loss: 0.239 | train acc: 94.0% | valid acc: 90.8% | train f1: 72.7% | valid f1: 62.4%\n",
      "Epoch:  80 | train loss: 0.157 | valid loss: 0.239 | train acc: 94.0% | valid acc: 90.8% | train f1: 73.2% | valid f1: 60.7%\n",
      "Epoch:  81 | train loss: 0.157 | valid loss: 0.237 | train acc: 94.0% | valid acc: 90.8% | train f1: 72.0% | valid f1: 62.7%\n",
      "Epoch:  82 | train loss: 0.156 | valid loss: 0.237 | train acc: 94.0% | valid acc: 90.8% | train f1: 73.1% | valid f1: 62.6%\n",
      "Epoch:  83 | train loss: 0.157 | valid loss: 0.236 | train acc: 94.0% | valid acc: 91.1% | train f1: 73.0% | valid f1: 62.7%\n",
      "Epoch:  84 | train loss: 0.157 | valid loss: 0.236 | train acc: 94.1% | valid acc: 90.8% | train f1: 73.5% | valid f1: 63.1%\n",
      "Epoch:  85 | train loss: 0.155 | valid loss: 0.236 | train acc: 94.1% | valid acc: 90.9% | train f1: 73.3% | valid f1: 63.4%\n",
      "Epoch:  86 | train loss: 0.155 | valid loss: 0.236 | train acc: 94.1% | valid acc: 90.8% | train f1: 73.3% | valid f1: 63.2%\n",
      "Epoch:  87 | train loss: 0.156 | valid loss: 0.237 | train acc: 94.2% | valid acc: 90.7% | train f1: 74.1% | valid f1: 60.8%\n",
      "Epoch:  88 | train loss: 0.155 | valid loss: 0.235 | train acc: 94.2% | valid acc: 91.0% | train f1: 74.0% | valid f1: 64.6%\n",
      "Epoch:  89 | train loss: 0.154 | valid loss: 0.236 | train acc: 94.1% | valid acc: 91.0% | train f1: 73.8% | valid f1: 63.6%\n",
      "Epoch:  90 | train loss: 0.155 | valid loss: 0.236 | train acc: 94.1% | valid acc: 91.1% | train f1: 73.0% | valid f1: 64.0%\n",
      "Epoch:  91 | train loss: 0.153 | valid loss: 0.236 | train acc: 94.2% | valid acc: 91.0% | train f1: 73.9% | valid f1: 63.6%\n",
      "Epoch:  92 | train loss: 0.153 | valid loss: 0.240 | train acc: 94.2% | valid acc: 90.6% | train f1: 73.5% | valid f1: 60.1%\n",
      "Epoch:  93 | train loss: 0.154 | valid loss: 0.237 | train acc: 94.1% | valid acc: 90.9% | train f1: 73.9% | valid f1: 63.2%\n",
      "Epoch:  94 | train loss: 0.152 | valid loss: 0.239 | train acc: 94.2% | valid acc: 90.8% | train f1: 73.8% | valid f1: 61.0%\n",
      "Epoch:  95 | train loss: 0.153 | valid loss: 0.242 | train acc: 94.2% | valid acc: 91.0% | train f1: 73.6% | valid f1: 61.2%\n",
      "Epoch:  96 | train loss: 0.153 | valid loss: 0.238 | train acc: 94.1% | valid acc: 90.7% | train f1: 73.3% | valid f1: 63.0%\n",
      "Epoch:  97 | train loss: 0.152 | valid loss: 0.237 | train acc: 94.3% | valid acc: 91.0% | train f1: 74.5% | valid f1: 61.9%\n",
      "Epoch:  98 | train loss: 0.151 | valid loss: 0.236 | train acc: 94.3% | valid acc: 91.0% | train f1: 73.7% | valid f1: 63.4%\n",
      "Epoch:  99 | train loss: 0.152 | valid loss: 0.236 | train acc: 94.2% | valid acc: 90.9% | train f1: 73.9% | valid f1: 64.5%\n",
      "Epoch: 100 | train loss: 0.151 | valid loss: 0.236 | train acc: 94.2% | valid acc: 91.0% | train f1: 74.3% | valid f1: 64.5%\n",
      "Epoch: 101 | train loss: 0.151 | valid loss: 0.237 | train acc: 94.3% | valid acc: 91.0% | train f1: 74.5% | valid f1: 63.9%\n",
      "Epoch: 102 | train loss: 0.151 | valid loss: 0.239 | train acc: 94.4% | valid acc: 90.9% | train f1: 74.7% | valid f1: 61.1%\n",
      "Epoch: 103 | train loss: 0.151 | valid loss: 0.241 | train acc: 94.3% | valid acc: 90.8% | train f1: 74.7% | valid f1: 61.0%\n",
      "Epoch: 104 | train loss: 0.150 | valid loss: 0.235 | train acc: 94.3% | valid acc: 90.9% | train f1: 74.6% | valid f1: 63.8%\n",
      "Epoch: 105 | train loss: 0.150 | valid loss: 0.236 | train acc: 94.3% | valid acc: 90.9% | train f1: 74.6% | valid f1: 63.1%\n",
      "Epoch: 106 | train loss: 0.149 | valid loss: 0.237 | train acc: 94.4% | valid acc: 91.1% | train f1: 75.2% | valid f1: 63.8%\n",
      "Epoch: 107 | train loss: 0.149 | valid loss: 0.236 | train acc: 94.4% | valid acc: 91.0% | train f1: 75.2% | valid f1: 65.0%\n",
      "Epoch: 108 | train loss: 0.149 | valid loss: 0.235 | train acc: 94.4% | valid acc: 91.0% | train f1: 74.8% | valid f1: 64.9%\n",
      "Epoch: 109 | train loss: 0.149 | valid loss: 0.236 | train acc: 94.3% | valid acc: 91.1% | train f1: 74.6% | valid f1: 64.3%\n",
      "Epoch: 110 | train loss: 0.148 | valid loss: 0.239 | train acc: 94.4% | valid acc: 90.9% | train f1: 75.4% | valid f1: 61.0%\n",
      "Epoch: 111 | train loss: 0.150 | valid loss: 0.237 | train acc: 94.3% | valid acc: 90.9% | train f1: 74.5% | valid f1: 64.2%\n",
      "Epoch: 112 | train loss: 0.147 | valid loss: 0.237 | train acc: 94.4% | valid acc: 91.1% | train f1: 75.0% | valid f1: 63.1%\n",
      "Epoch: 113 | train loss: 0.148 | valid loss: 0.240 | train acc: 94.3% | valid acc: 90.8% | train f1: 75.2% | valid f1: 62.0%\n",
      "Epoch: 114 | train loss: 0.148 | valid loss: 0.237 | train acc: 94.4% | valid acc: 91.1% | train f1: 74.8% | valid f1: 63.6%\n",
      "Epoch: 115 | train loss: 0.147 | valid loss: 0.238 | train acc: 94.5% | valid acc: 90.9% | train f1: 75.6% | valid f1: 61.7%\n",
      "Epoch: 116 | train loss: 0.148 | valid loss: 0.237 | train acc: 94.4% | valid acc: 91.1% | train f1: 75.3% | valid f1: 63.6%\n",
      "Epoch: 117 | train loss: 0.148 | valid loss: 0.238 | train acc: 94.3% | valid acc: 90.9% | train f1: 74.6% | valid f1: 63.6%\n",
      "Epoch: 118 | train loss: 0.148 | valid loss: 0.238 | train acc: 94.4% | valid acc: 90.9% | train f1: 75.1% | valid f1: 62.2%\n",
      "Epoch: 119 | train loss: 0.146 | valid loss: 0.236 | train acc: 94.5% | valid acc: 91.1% | train f1: 75.7% | valid f1: 64.4%\n",
      "Epoch: 120 | train loss: 0.146 | valid loss: 0.236 | train acc: 94.5% | valid acc: 91.1% | train f1: 75.8% | valid f1: 64.7%\n",
      "Epoch: 121 | train loss: 0.146 | valid loss: 0.239 | train acc: 94.5% | valid acc: 91.0% | train f1: 75.8% | valid f1: 63.6%\n",
      "Epoch: 122 | train loss: 0.145 | valid loss: 0.237 | train acc: 94.5% | valid acc: 91.0% | train f1: 75.5% | valid f1: 63.5%\n",
      "Epoch: 123 | train loss: 0.145 | valid loss: 0.238 | train acc: 94.5% | valid acc: 91.1% | train f1: 75.9% | valid f1: 63.1%\n",
      "Epoch: 124 | train loss: 0.146 | valid loss: 0.241 | train acc: 94.5% | valid acc: 90.7% | train f1: 75.7% | valid f1: 62.1%\n",
      "Epoch: 125 | train loss: 0.145 | valid loss: 0.239 | train acc: 94.5% | valid acc: 90.9% | train f1: 75.6% | valid f1: 62.8%\n",
      "Epoch: 126 | train loss: 0.144 | valid loss: 0.239 | train acc: 94.6% | valid acc: 90.9% | train f1: 75.9% | valid f1: 61.4%\n",
      "Epoch: 127 | train loss: 0.144 | valid loss: 0.238 | train acc: 94.5% | valid acc: 90.9% | train f1: 75.6% | valid f1: 65.0%\n",
      "Epoch: 128 | train loss: 0.144 | valid loss: 0.241 | train acc: 94.6% | valid acc: 90.8% | train f1: 76.4% | valid f1: 60.6%\n",
      "Epoch: 129 | train loss: 0.144 | valid loss: 0.238 | train acc: 94.6% | valid acc: 90.9% | train f1: 76.3% | valid f1: 63.6%\n",
      "Epoch: 130 | train loss: 0.143 | valid loss: 0.239 | train acc: 94.6% | valid acc: 90.9% | train f1: 76.3% | valid f1: 61.8%\n",
      "Epoch: 131 | train loss: 0.143 | valid loss: 0.236 | train acc: 94.7% | valid acc: 91.0% | train f1: 76.4% | valid f1: 64.7%\n",
      "Epoch: 132 | train loss: 0.144 | valid loss: 0.237 | train acc: 94.6% | valid acc: 90.9% | train f1: 76.2% | valid f1: 64.6%\n",
      "Epoch: 133 | train loss: 0.144 | valid loss: 0.238 | train acc: 94.6% | valid acc: 91.2% | train f1: 75.7% | valid f1: 65.9%\n",
      "Epoch: 134 | train loss: 0.143 | valid loss: 0.239 | train acc: 94.5% | valid acc: 90.9% | train f1: 76.0% | valid f1: 64.0%\n",
      "Epoch: 135 | train loss: 0.142 | valid loss: 0.237 | train acc: 94.6% | valid acc: 90.8% | train f1: 76.0% | valid f1: 64.5%\n",
      "Epoch: 136 | train loss: 0.142 | valid loss: 0.241 | train acc: 94.6% | valid acc: 90.7% | train f1: 76.0% | valid f1: 63.2%\n",
      "Epoch: 137 | train loss: 0.142 | valid loss: 0.237 | train acc: 94.7% | valid acc: 91.0% | train f1: 76.6% | valid f1: 64.6%\n",
      "Epoch: 138 | train loss: 0.142 | valid loss: 0.237 | train acc: 94.6% | valid acc: 91.0% | train f1: 76.4% | valid f1: 63.8%\n",
      "Epoch: 139 | train loss: 0.143 | valid loss: 0.241 | train acc: 94.7% | valid acc: 90.9% | train f1: 76.6% | valid f1: 61.4%\n",
      "Epoch: 140 | train loss: 0.142 | valid loss: 0.239 | train acc: 94.6% | valid acc: 90.9% | train f1: 76.2% | valid f1: 62.3%\n",
      "Epoch: 141 | train loss: 0.142 | valid loss: 0.238 | train acc: 94.6% | valid acc: 91.0% | train f1: 76.2% | valid f1: 63.0%\n",
      "Epoch: 142 | train loss: 0.141 | valid loss: 0.241 | train acc: 94.6% | valid acc: 90.8% | train f1: 76.6% | valid f1: 63.7%\n",
      "Epoch: 143 | train loss: 0.141 | valid loss: 0.238 | train acc: 94.6% | valid acc: 91.0% | train f1: 76.3% | valid f1: 64.0%\n",
      "Epoch: 144 | train loss: 0.141 | valid loss: 0.239 | train acc: 94.7% | valid acc: 90.9% | train f1: 76.7% | valid f1: 63.1%\n",
      "Epoch: 145 | train loss: 0.141 | valid loss: 0.236 | train acc: 94.6% | valid acc: 91.0% | train f1: 76.1% | valid f1: 66.0%\n",
      "Epoch: 146 | train loss: 0.141 | valid loss: 0.238 | train acc: 94.7% | valid acc: 91.2% | train f1: 77.1% | valid f1: 65.7%\n",
      "Epoch: 147 | train loss: 0.141 | valid loss: 0.242 | train acc: 94.7% | valid acc: 91.0% | train f1: 76.9% | valid f1: 62.1%\n",
      "Epoch: 148 | train loss: 0.141 | valid loss: 0.241 | train acc: 94.7% | valid acc: 90.7% | train f1: 76.4% | valid f1: 63.1%\n",
      "Epoch: 149 | train loss: 0.141 | valid loss: 0.238 | train acc: 94.7% | valid acc: 91.0% | train f1: 76.6% | valid f1: 65.2%\n",
      "Epoch: 150 | train loss: 0.140 | valid loss: 0.238 | train acc: 94.7% | valid acc: 91.0% | train f1: 76.9% | valid f1: 65.4%\n",
      "Epoch: 151 | train loss: 0.139 | valid loss: 0.241 | train acc: 94.7% | valid acc: 90.7% | train f1: 76.9% | valid f1: 61.8%\n",
      "Epoch: 152 | train loss: 0.139 | valid loss: 0.238 | train acc: 94.7% | valid acc: 90.8% | train f1: 76.9% | valid f1: 64.6%\n",
      "Epoch: 153 | train loss: 0.140 | valid loss: 0.238 | train acc: 94.7% | valid acc: 90.9% | train f1: 76.5% | valid f1: 63.8%\n",
      "Epoch: 154 | train loss: 0.139 | valid loss: 0.240 | train acc: 94.7% | valid acc: 90.8% | train f1: 77.2% | valid f1: 63.6%\n",
      "Epoch: 155 | train loss: 0.139 | valid loss: 0.240 | train acc: 94.7% | valid acc: 90.8% | train f1: 76.8% | valid f1: 63.6%\n",
      "Epoch: 156 | train loss: 0.139 | valid loss: 0.240 | train acc: 94.8% | valid acc: 91.2% | train f1: 77.0% | valid f1: 64.4%\n",
      "Epoch: 157 | train loss: 0.138 | valid loss: 0.240 | train acc: 94.7% | valid acc: 91.0% | train f1: 76.5% | valid f1: 63.8%\n",
      "Epoch: 158 | train loss: 0.139 | valid loss: 0.242 | train acc: 94.8% | valid acc: 90.8% | train f1: 77.3% | valid f1: 61.9%\n",
      "Epoch: 159 | train loss: 0.138 | valid loss: 0.239 | train acc: 94.7% | valid acc: 90.8% | train f1: 77.2% | valid f1: 66.0%\n",
      "Epoch: 160 | train loss: 0.138 | valid loss: 0.241 | train acc: 94.7% | valid acc: 90.9% | train f1: 77.1% | valid f1: 63.3%\n",
      "Epoch: 161 | train loss: 0.137 | valid loss: 0.239 | train acc: 94.8% | valid acc: 91.1% | train f1: 77.1% | valid f1: 66.0%\n",
      "Epoch: 162 | train loss: 0.138 | valid loss: 0.240 | train acc: 94.8% | valid acc: 90.9% | train f1: 77.2% | valid f1: 63.0%\n",
      "Epoch: 163 | train loss: 0.138 | valid loss: 0.238 | train acc: 94.8% | valid acc: 90.9% | train f1: 76.4% | valid f1: 65.8%\n",
      "Epoch: 164 | train loss: 0.137 | valid loss: 0.240 | train acc: 94.7% | valid acc: 90.8% | train f1: 77.2% | valid f1: 62.8%\n",
      "Epoch: 165 | train loss: 0.137 | valid loss: 0.238 | train acc: 94.9% | valid acc: 90.8% | train f1: 77.8% | valid f1: 65.6%\n",
      "Epoch: 166 | train loss: 0.138 | valid loss: 0.241 | train acc: 94.8% | valid acc: 90.7% | train f1: 77.0% | valid f1: 62.9%\n",
      "Epoch: 167 | train loss: 0.138 | valid loss: 0.242 | train acc: 94.8% | valid acc: 90.8% | train f1: 77.4% | valid f1: 61.8%\n",
      "Epoch: 168 | train loss: 0.137 | valid loss: 0.240 | train acc: 94.8% | valid acc: 91.0% | train f1: 77.2% | valid f1: 65.5%\n",
      "Epoch: 169 | train loss: 0.137 | valid loss: 0.241 | train acc: 94.8% | valid acc: 90.7% | train f1: 77.4% | valid f1: 63.3%\n",
      "Epoch: 170 | train loss: 0.136 | valid loss: 0.240 | train acc: 94.8% | valid acc: 90.7% | train f1: 77.1% | valid f1: 63.3%\n",
      "Epoch: 171 | train loss: 0.136 | valid loss: 0.240 | train acc: 94.8% | valid acc: 91.0% | train f1: 76.9% | valid f1: 66.0%\n",
      "Epoch: 172 | train loss: 0.136 | valid loss: 0.241 | train acc: 94.8% | valid acc: 90.7% | train f1: 77.3% | valid f1: 63.3%\n",
      "Epoch: 173 | train loss: 0.136 | valid loss: 0.243 | train acc: 94.8% | valid acc: 90.8% | train f1: 77.7% | valid f1: 63.9%\n",
      "Epoch: 174 | train loss: 0.137 | valid loss: 0.239 | train acc: 94.8% | valid acc: 90.9% | train f1: 77.2% | valid f1: 65.6%\n",
      "Epoch: 175 | train loss: 0.136 | valid loss: 0.244 | train acc: 94.7% | valid acc: 90.9% | train f1: 77.0% | valid f1: 63.3%\n",
      "Epoch: 176 | train loss: 0.136 | valid loss: 0.241 | train acc: 94.8% | valid acc: 90.9% | train f1: 77.3% | valid f1: 65.8%\n",
      "Epoch: 177 | train loss: 0.136 | valid loss: 0.243 | train acc: 94.8% | valid acc: 90.8% | train f1: 77.6% | valid f1: 62.9%\n",
      "Epoch: 178 | train loss: 0.135 | valid loss: 0.243 | train acc: 94.8% | valid acc: 90.9% | train f1: 77.4% | valid f1: 61.8%\n",
      "Epoch: 179 | train loss: 0.135 | valid loss: 0.243 | train acc: 94.9% | valid acc: 91.1% | train f1: 78.0% | valid f1: 65.4%\n",
      "Epoch: 180 | train loss: 0.135 | valid loss: 0.242 | train acc: 94.9% | valid acc: 90.7% | train f1: 78.0% | valid f1: 63.4%\n",
      "Epoch: 181 | train loss: 0.135 | valid loss: 0.242 | train acc: 94.9% | valid acc: 90.7% | train f1: 77.3% | valid f1: 63.4%\n",
      "Epoch: 182 | train loss: 0.134 | valid loss: 0.241 | train acc: 94.8% | valid acc: 90.9% | train f1: 77.4% | valid f1: 65.8%\n",
      "Epoch: 183 | train loss: 0.134 | valid loss: 0.241 | train acc: 94.8% | valid acc: 91.0% | train f1: 77.3% | valid f1: 65.8%\n",
      "Epoch: 184 | train loss: 0.135 | valid loss: 0.242 | train acc: 94.8% | valid acc: 90.6% | train f1: 78.0% | valid f1: 64.2%\n",
      "Epoch: 185 | train loss: 0.134 | valid loss: 0.244 | train acc: 94.9% | valid acc: 90.8% | train f1: 78.1% | valid f1: 61.4%\n",
      "Epoch: 186 | train loss: 0.134 | valid loss: 0.240 | train acc: 94.9% | valid acc: 90.9% | train f1: 77.9% | valid f1: 64.7%\n",
      "Epoch: 187 | train loss: 0.135 | valid loss: 0.243 | train acc: 94.9% | valid acc: 90.5% | train f1: 78.0% | valid f1: 63.2%\n",
      "Epoch: 188 | train loss: 0.134 | valid loss: 0.243 | train acc: 94.9% | valid acc: 90.6% | train f1: 78.1% | valid f1: 63.7%\n",
      "Epoch: 189 | train loss: 0.134 | valid loss: 0.242 | train acc: 94.9% | valid acc: 90.9% | train f1: 77.9% | valid f1: 63.5%\n",
      "Epoch: 190 | train loss: 0.134 | valid loss: 0.245 | train acc: 94.9% | valid acc: 90.7% | train f1: 77.4% | valid f1: 65.7%\n",
      "Epoch: 191 | train loss: 0.133 | valid loss: 0.244 | train acc: 94.9% | valid acc: 90.6% | train f1: 78.2% | valid f1: 61.5%\n",
      "Epoch: 192 | train loss: 0.133 | valid loss: 0.242 | train acc: 94.9% | valid acc: 91.1% | train f1: 77.8% | valid f1: 65.6%\n",
      "Epoch: 193 | train loss: 0.134 | valid loss: 0.244 | train acc: 95.0% | valid acc: 90.6% | train f1: 78.4% | valid f1: 64.8%\n",
      "Epoch: 194 | train loss: 0.133 | valid loss: 0.242 | train acc: 94.8% | valid acc: 91.1% | train f1: 77.9% | valid f1: 63.3%\n",
      "Epoch: 195 | train loss: 0.133 | valid loss: 0.242 | train acc: 94.9% | valid acc: 91.0% | train f1: 77.8% | valid f1: 66.0%\n",
      "Epoch: 196 | train loss: 0.133 | valid loss: 0.245 | train acc: 95.0% | valid acc: 90.7% | train f1: 78.4% | valid f1: 61.3%\n",
      "Epoch: 197 | train loss: 0.132 | valid loss: 0.243 | train acc: 95.0% | valid acc: 90.6% | train f1: 78.3% | valid f1: 65.6%\n",
      "Epoch: 198 | train loss: 0.132 | valid loss: 0.244 | train acc: 94.9% | valid acc: 90.7% | train f1: 78.3% | valid f1: 61.6%\n",
      "Epoch: 199 | train loss: 0.132 | valid loss: 0.243 | train acc: 94.9% | valid acc: 90.8% | train f1: 78.2% | valid f1: 63.8%\n",
      "Epoch: 200 | train loss: 0.133 | valid loss: 0.246 | train acc: 94.9% | valid acc: 90.8% | train f1: 77.9% | valid f1: 61.8%\n"
     ]
    }
   ],
   "source": [
    "epochs = 200\n",
    "\n",
    "_, history = train_classifier_head(\n",
    "    train_set='../../preprocessed/fake_news/embeddings/train.pkl',\n",
    "    experiment_dir='../../results/run_train',\n",
    "    valid_set='../../preprocessed/fake_news/embeddings/valid.pkl',\n",
    "    batch_size=1024,\n",
    "    epochs=epochs,\n",
    "    gpu=True\n",
    ")"
   ],
   "metadata": {
    "collapsed": false,
    "pycharm": {
     "name": "#%%\n"
    }
   }
  },
  {
   "cell_type": "code",
   "execution_count": 3,
   "outputs": [
    {
     "name": "stdout",
     "output_type": "stream",
     "text": [
      "Min valid loss at epoch: 108\n"
     ]
    },
    {
     "data": {
      "text/plain": "<Figure size 1000x500 with 2 Axes>",
      "image/png": "[encoded data removed]"
     },
     "metadata": {},
     "output_type": "display_data"
    }
   ],
   "source": [
    "_, ax = plt.subplots(1, 2, figsize=(10, 5))\n",
    "\n",
    "sns.lineplot(x=np.arange(epochs), y=history['train']['loss'], ax=ax[0])\n",
    "sns.lineplot(x=np.arange(epochs), y=history['valid']['loss'], ax=ax[1])\n",
    "\n",
    "ax[0].set_title('train loss')\n",
    "ax[1].set_title('valid loss')\n",
    "ax[0].get_yaxis().set_visible(False)\n",
    "ax[1].get_yaxis().set_visible(False)\n",
    "plt.tight_layout()\n",
    "\n",
    "early_stopping = np.argmin(history['valid']['loss']) + 1\n",
    "\n",
    "print(f'Min valid loss at epoch: {early_stopping}')"
   ],
   "metadata": {
    "collapsed": false,
    "pycharm": {
     "name": "#%%\n"
    }
   }
  },
  {
   "cell_type": "code",
   "execution_count": 4,
   "outputs": [],
   "source": [
    "# Retrain the model on train, valid & none set until an early stopping criterion\n",
    "all_embeddings = {'X': [], 'y': []}\n",
    "\n",
    "for split in ['train', 'valid', 'none']:\n",
    "    with open(f'../../preprocessed/fake_news/embeddings/{split}.pkl', 'rb') as file:\n",
    "        data = pickle.load(file)\n",
    "\n",
    "    all_embeddings['X'] += [data['X']]\n",
    "    all_embeddings['y'] += [data['y']]\n",
    "\n",
    "all_embeddings['X'] = torch.cat(all_embeddings['X'])\n",
    "all_embeddings['y'] = torch.cat(all_embeddings['y'])\n",
    "\n",
    "with open(f'../../preprocessed/fake_news/embeddings/all.pkl', 'wb') as file:\n",
    "    pickle.dump(all_embeddings, file)"
   ],
   "metadata": {
    "collapsed": false,
    "pycharm": {
     "name": "#%%\n"
    }
   }
  },
  {
   "cell_type": "code",
   "execution_count": 5,
   "outputs": [
    {
     "data": {
      "text/plain": "  0%|          | 0/108 [00:00<?, ?it/s]",
      "application/vnd.jupyter.widget-view+json": {
       "version_major": 2,
       "version_minor": 0,
       "model_id": "e371810e33094c149934f87be7770a19"
      }
     },
     "metadata": {},
     "output_type": "display_data"
    },
    {
     "name": "stdout",
     "output_type": "stream",
     "text": [
      "Epoch:   1 | train loss: 0.416 | train acc: 85.9% | train f1: 43.2% | \n",
      "Epoch:   2 | train loss: 0.279 | train acc: 89.3% | train f1: 49.7% | \n",
      "Epoch:   3 | train loss: 0.263 | train acc: 90.0% | train f1: 53.7% | \n",
      "Epoch:   4 | train loss: 0.251 | train acc: 90.6% | train f1: 56.2% | \n",
      "Epoch:   5 | train loss: 0.243 | train acc: 90.9% | train f1: 57.1% | \n",
      "Epoch:   6 | train loss: 0.237 | train acc: 91.1% | train f1: 57.8% | \n",
      "Epoch:   7 | train loss: 0.231 | train acc: 91.2% | train f1: 58.3% | \n",
      "Epoch:   8 | train loss: 0.226 | train acc: 91.4% | train f1: 58.9% | \n",
      "Epoch:   9 | train loss: 0.223 | train acc: 91.5% | train f1: 59.4% | \n",
      "Epoch:  10 | train loss: 0.219 | train acc: 91.6% | train f1: 59.9% | \n",
      "Epoch:  11 | train loss: 0.216 | train acc: 91.8% | train f1: 60.7% | \n",
      "Epoch:  12 | train loss: 0.213 | train acc: 91.9% | train f1: 61.7% | \n",
      "Epoch:  13 | train loss: 0.209 | train acc: 91.9% | train f1: 61.4% | \n",
      "Epoch:  14 | train loss: 0.206 | train acc: 92.1% | train f1: 62.5% | \n",
      "Epoch:  15 | train loss: 0.205 | train acc: 92.2% | train f1: 62.9% | \n",
      "Epoch:  16 | train loss: 0.202 | train acc: 92.3% | train f1: 63.3% | \n",
      "Epoch:  17 | train loss: 0.201 | train acc: 92.4% | train f1: 64.2% | \n",
      "Epoch:  18 | train loss: 0.199 | train acc: 92.4% | train f1: 64.7% | \n",
      "Epoch:  19 | train loss: 0.197 | train acc: 92.6% | train f1: 65.4% | \n",
      "Epoch:  20 | train loss: 0.195 | train acc: 92.6% | train f1: 65.8% | \n",
      "Epoch:  21 | train loss: 0.195 | train acc: 92.6% | train f1: 65.8% | \n",
      "Epoch:  22 | train loss: 0.193 | train acc: 92.6% | train f1: 66.4% | \n",
      "Epoch:  23 | train loss: 0.193 | train acc: 92.7% | train f1: 66.2% | \n",
      "Epoch:  24 | train loss: 0.190 | train acc: 92.8% | train f1: 67.2% | \n",
      "Epoch:  25 | train loss: 0.189 | train acc: 92.8% | train f1: 67.0% | \n",
      "Epoch:  26 | train loss: 0.188 | train acc: 92.9% | train f1: 67.5% | \n",
      "Epoch:  27 | train loss: 0.187 | train acc: 93.0% | train f1: 67.3% | \n",
      "Epoch:  28 | train loss: 0.186 | train acc: 93.0% | train f1: 68.0% | \n",
      "Epoch:  29 | train loss: 0.184 | train acc: 93.1% | train f1: 68.5% | \n",
      "Epoch:  30 | train loss: 0.183 | train acc: 93.1% | train f1: 68.8% | \n",
      "Epoch:  31 | train loss: 0.183 | train acc: 93.2% | train f1: 69.1% | \n",
      "Epoch:  32 | train loss: 0.183 | train acc: 93.0% | train f1: 68.5% | \n",
      "Epoch:  33 | train loss: 0.181 | train acc: 93.2% | train f1: 68.7% | \n",
      "Epoch:  34 | train loss: 0.180 | train acc: 93.2% | train f1: 69.0% | \n",
      "Epoch:  35 | train loss: 0.180 | train acc: 93.3% | train f1: 69.9% | \n",
      "Epoch:  36 | train loss: 0.178 | train acc: 93.3% | train f1: 69.7% | \n",
      "Epoch:  37 | train loss: 0.178 | train acc: 93.3% | train f1: 69.7% | \n",
      "Epoch:  38 | train loss: 0.177 | train acc: 93.4% | train f1: 70.3% | \n",
      "Epoch:  39 | train loss: 0.176 | train acc: 93.4% | train f1: 70.4% | \n",
      "Epoch:  40 | train loss: 0.176 | train acc: 93.4% | train f1: 69.8% | \n",
      "Epoch:  41 | train loss: 0.175 | train acc: 93.5% | train f1: 70.8% | \n",
      "Epoch:  42 | train loss: 0.175 | train acc: 93.4% | train f1: 70.4% | \n",
      "Epoch:  43 | train loss: 0.175 | train acc: 93.5% | train f1: 71.0% | \n",
      "Epoch:  44 | train loss: 0.173 | train acc: 93.5% | train f1: 71.2% | \n",
      "Epoch:  45 | train loss: 0.172 | train acc: 93.5% | train f1: 71.0% | \n",
      "Epoch:  46 | train loss: 0.172 | train acc: 93.6% | train f1: 71.3% | \n",
      "Epoch:  47 | train loss: 0.172 | train acc: 93.6% | train f1: 71.3% | \n",
      "Epoch:  48 | train loss: 0.170 | train acc: 93.6% | train f1: 71.6% | \n",
      "Epoch:  49 | train loss: 0.170 | train acc: 93.7% | train f1: 71.9% | \n",
      "Epoch:  50 | train loss: 0.170 | train acc: 93.6% | train f1: 71.3% | \n",
      "Epoch:  51 | train loss: 0.169 | train acc: 93.7% | train f1: 71.7% | \n",
      "Epoch:  52 | train loss: 0.168 | train acc: 93.7% | train f1: 72.0% | \n",
      "Epoch:  53 | train loss: 0.168 | train acc: 93.7% | train f1: 72.0% | \n",
      "Epoch:  54 | train loss: 0.167 | train acc: 93.7% | train f1: 71.9% | \n",
      "Epoch:  55 | train loss: 0.167 | train acc: 93.7% | train f1: 72.3% | \n",
      "Epoch:  56 | train loss: 0.168 | train acc: 93.7% | train f1: 72.0% | \n",
      "Epoch:  57 | train loss: 0.166 | train acc: 93.8% | train f1: 72.0% | \n",
      "Epoch:  58 | train loss: 0.166 | train acc: 93.8% | train f1: 72.2% | \n",
      "Epoch:  59 | train loss: 0.165 | train acc: 93.8% | train f1: 72.9% | \n",
      "Epoch:  60 | train loss: 0.164 | train acc: 93.8% | train f1: 72.4% | \n",
      "Epoch:  61 | train loss: 0.164 | train acc: 93.8% | train f1: 72.9% | \n",
      "Epoch:  62 | train loss: 0.165 | train acc: 93.8% | train f1: 72.6% | \n",
      "Epoch:  63 | train loss: 0.164 | train acc: 93.8% | train f1: 72.7% | \n",
      "Epoch:  64 | train loss: 0.162 | train acc: 93.9% | train f1: 72.9% | \n",
      "Epoch:  65 | train loss: 0.162 | train acc: 93.9% | train f1: 73.3% | \n",
      "Epoch:  66 | train loss: 0.161 | train acc: 93.9% | train f1: 73.5% | \n",
      "Epoch:  67 | train loss: 0.162 | train acc: 94.0% | train f1: 73.7% | \n",
      "Epoch:  68 | train loss: 0.161 | train acc: 94.0% | train f1: 73.7% | \n",
      "Epoch:  69 | train loss: 0.162 | train acc: 94.0% | train f1: 73.6% | \n",
      "Epoch:  70 | train loss: 0.161 | train acc: 93.9% | train f1: 73.0% | \n",
      "Epoch:  71 | train loss: 0.160 | train acc: 94.0% | train f1: 73.9% | \n",
      "Epoch:  72 | train loss: 0.160 | train acc: 94.0% | train f1: 73.5% | \n",
      "Epoch:  73 | train loss: 0.160 | train acc: 94.0% | train f1: 73.7% | \n",
      "Epoch:  74 | train loss: 0.159 | train acc: 94.1% | train f1: 73.8% | \n",
      "Epoch:  75 | train loss: 0.160 | train acc: 94.0% | train f1: 73.4% | \n",
      "Epoch:  76 | train loss: 0.159 | train acc: 94.0% | train f1: 73.7% | \n",
      "Epoch:  77 | train loss: 0.159 | train acc: 94.0% | train f1: 73.8% | \n",
      "Epoch:  78 | train loss: 0.158 | train acc: 94.0% | train f1: 73.7% | \n",
      "Epoch:  79 | train loss: 0.158 | train acc: 94.1% | train f1: 74.1% | \n",
      "Epoch:  80 | train loss: 0.157 | train acc: 94.1% | train f1: 74.1% | \n",
      "Epoch:  81 | train loss: 0.157 | train acc: 94.1% | train f1: 74.3% | \n",
      "Epoch:  82 | train loss: 0.156 | train acc: 94.1% | train f1: 74.2% | \n",
      "Epoch:  83 | train loss: 0.157 | train acc: 94.1% | train f1: 74.2% | \n",
      "Epoch:  84 | train loss: 0.156 | train acc: 94.1% | train f1: 74.2% | \n",
      "Epoch:  85 | train loss: 0.157 | train acc: 94.1% | train f1: 74.3% | \n",
      "Epoch:  86 | train loss: 0.155 | train acc: 94.1% | train f1: 74.5% | \n",
      "Epoch:  87 | train loss: 0.155 | train acc: 94.2% | train f1: 74.9% | \n",
      "Epoch:  88 | train loss: 0.156 | train acc: 94.1% | train f1: 74.3% | \n",
      "Epoch:  89 | train loss: 0.154 | train acc: 94.2% | train f1: 74.6% | \n",
      "Epoch:  90 | train loss: 0.154 | train acc: 94.2% | train f1: 74.6% | \n",
      "Epoch:  91 | train loss: 0.153 | train acc: 94.2% | train f1: 75.0% | \n",
      "Epoch:  92 | train loss: 0.153 | train acc: 94.2% | train f1: 75.0% | \n",
      "Epoch:  93 | train loss: 0.154 | train acc: 94.2% | train f1: 74.6% | \n",
      "Epoch:  94 | train loss: 0.153 | train acc: 94.2% | train f1: 75.1% | \n",
      "Epoch:  95 | train loss: 0.154 | train acc: 94.2% | train f1: 75.2% | \n",
      "Epoch:  96 | train loss: 0.153 | train acc: 94.1% | train f1: 74.6% | \n",
      "Epoch:  97 | train loss: 0.152 | train acc: 94.2% | train f1: 75.1% | \n",
      "Epoch:  98 | train loss: 0.152 | train acc: 94.2% | train f1: 75.0% | \n",
      "Epoch:  99 | train loss: 0.152 | train acc: 94.2% | train f1: 75.1% | \n",
      "Epoch: 100 | train loss: 0.152 | train acc: 94.2% | train f1: 75.0% | \n",
      "Epoch: 101 | train loss: 0.151 | train acc: 94.3% | train f1: 75.5% | \n",
      "Epoch: 102 | train loss: 0.152 | train acc: 94.2% | train f1: 74.9% | \n",
      "Epoch: 103 | train loss: 0.152 | train acc: 94.3% | train f1: 75.9% | \n",
      "Epoch: 104 | train loss: 0.150 | train acc: 94.3% | train f1: 75.3% | \n",
      "Epoch: 105 | train loss: 0.150 | train acc: 94.3% | train f1: 75.4% | \n",
      "Epoch: 106 | train loss: 0.150 | train acc: 94.3% | train f1: 75.3% | \n",
      "Epoch: 107 | train loss: 0.151 | train acc: 94.3% | train f1: 75.5% | \n",
      "Epoch: 108 | train loss: 0.150 | train acc: 94.3% | train f1: 75.2% | \n"
     ]
    }
   ],
   "source": [
    "model, _ = train_classifier_head(\n",
    "    train_set='../../preprocessed/fake_news/embeddings/all.pkl',\n",
    "    experiment_dir='../../results/run_all',\n",
    "    batch_size=1024,\n",
    "    epochs=early_stopping,\n",
    "    gpu=True\n",
    ")\n",
    "\n",
    "torch.save(model.head, '../../models/fake_news/fake_news_classifier.pth')"
   ],
   "metadata": {
    "collapsed": false,
    "pycharm": {
     "name": "#%%\n"
    }
   }
  },
  {
   "cell_type": "markdown",
   "source": [
    "# Evaluation"
   ],
   "metadata": {
    "collapsed": false,
    "pycharm": {
     "name": "#%% md\n"
    }
   }
  },
  {
   "cell_type": "code",
   "execution_count": 6,
   "outputs": [],
   "source": [
    "model_path = '../../models/fake_news/fake_news_classifier.pth'\n",
    "train_dataset = '../../preprocessed/fake_news/embeddings/all.pkl'\n",
    "test_dataset = '../../preprocessed/fake_news/embeddings/test.pkl'\n",
    "batch_size = 1024\n",
    "\n",
    "_, y_true_train, y_pred_train = evaluate_wrapper(model_path, train_dataset, batch_size=1024, gpu=True)\n",
    "_, y_true_test, y_pred_test = evaluate_wrapper(model_path, test_dataset, batch_size=1024, gpu=True)"
   ],
   "metadata": {
    "collapsed": false,
    "pycharm": {
     "name": "#%%\n"
    }
   }
  },
  {
   "cell_type": "markdown",
   "source": [
    "**Dummy Baseline**\n",
    "- always return unrelated"
   ],
   "metadata": {
    "collapsed": false,
    "pycharm": {
     "name": "#%% md\n"
    }
   }
  },
  {
   "cell_type": "code",
   "execution_count": 7,
   "outputs": [
    {
     "name": "stdout",
     "output_type": "stream",
     "text": [
      "              precision    recall  f1-score   support\n",
      "\n",
      "   unrelated       0.72      1.00      0.84     17856\n",
      "       agree       0.00      0.00      0.00      1863\n",
      "    disagree       0.00      0.00      0.00       696\n",
      "     discuss       0.00      0.00      0.00      4363\n",
      "\n",
      "    accuracy                           0.72     24778\n",
      "   macro avg       0.18      0.25      0.21     24778\n",
      "weighted avg       0.52      0.72      0.60     24778\n",
      "\n"
     ]
    },
    {
     "name": "stderr",
     "output_type": "stream",
     "text": [
      "C:\\Users\\Marcin\\miniconda3\\envs\\sages\\lib\\site-packages\\sklearn\\metrics\\_classification.py:1334: UndefinedMetricWarning: Precision and F-score are ill-defined and being set to 0.0 in labels with no predicted samples. Use `zero_division` parameter to control this behavior.\n",
      "  _warn_prf(average, modifier, msg_start, len(result))\n",
      "C:\\Users\\Marcin\\miniconda3\\envs\\sages\\lib\\site-packages\\sklearn\\metrics\\_classification.py:1334: UndefinedMetricWarning: Precision and F-score are ill-defined and being set to 0.0 in labels with no predicted samples. Use `zero_division` parameter to control this behavior.\n",
      "  _warn_prf(average, modifier, msg_start, len(result))\n",
      "C:\\Users\\Marcin\\miniconda3\\envs\\sages\\lib\\site-packages\\sklearn\\metrics\\_classification.py:1334: UndefinedMetricWarning: Precision and F-score are ill-defined and being set to 0.0 in labels with no predicted samples. Use `zero_division` parameter to control this behavior.\n",
      "  _warn_prf(average, modifier, msg_start, len(result))\n"
     ]
    }
   ],
   "source": [
    "dummy_pred = [0] * len(y_true_test)\n",
    "\n",
    "print(metrics.classification_report(y_true_test, dummy_pred, target_names=LABELS))"
   ],
   "metadata": {
    "collapsed": false,
    "pycharm": {
     "name": "#%%\n"
    }
   }
  },
  {
   "cell_type": "code",
   "execution_count": 8,
   "outputs": [
    {
     "name": "stdout",
     "output_type": "stream",
     "text": [
      "              precision    recall  f1-score   support\n",
      "\n",
      "   unrelated       0.99      0.99      0.99     36262\n",
      "       agree       0.78      0.62      0.69      3643\n",
      "    disagree       0.65      0.36      0.47       829\n",
      "     discuss       0.82      0.92      0.87      8804\n",
      "\n",
      "    accuracy                           0.94     49538\n",
      "   macro avg       0.81      0.72      0.75     49538\n",
      "weighted avg       0.94      0.94      0.94     49538\n",
      "\n"
     ]
    },
    {
     "data": {
      "text/plain": "<Figure size 640x480 with 1 Axes>",
      "image/png": "[encoded data removed]"
     },
     "metadata": {},
     "output_type": "display_data"
    }
   ],
   "source": [
    "# Train set performance\n",
    "print(metrics.classification_report(y_true_train, y_pred_train, target_names=LABELS))\n",
    "\n",
    "cm = metrics.confusion_matrix(y_true_train, y_pred_train, normalize='true')\n",
    "annot = np.round(cm * 100, 1)\n",
    "ax = sns.heatmap(cm, cbar=False, annot=annot, xticklabels=LABELS, yticklabels=LABELS)\n",
    "\n",
    "ax.set_xlabel('pred')\n",
    "ax.set_ylabel('true');"
   ],
   "metadata": {
    "collapsed": false,
    "pycharm": {
     "name": "#%%\n"
    }
   }
  },
  {
   "cell_type": "code",
   "execution_count": 9,
   "outputs": [
    {
     "name": "stdout",
     "output_type": "stream",
     "text": [
      "              precision    recall  f1-score   support\n",
      "\n",
      "   unrelated       0.98      0.98      0.98     17856\n",
      "       agree       0.47      0.53      0.50      1863\n",
      "    disagree       0.20      0.05      0.08       696\n",
      "     discuss       0.72      0.77      0.74      4363\n",
      "\n",
      "    accuracy                           0.89     24778\n",
      "   macro avg       0.59      0.58      0.58     24778\n",
      "weighted avg       0.88      0.89      0.88     24778\n",
      "\n"
     ]
    },
    {
     "data": {
      "text/plain": "<Figure size 640x480 with 1 Axes>",
      "image/png": "[encoded data removed]"
     },
     "metadata": {},
     "output_type": "display_data"
    }
   ],
   "source": [
    "# Test set performance\n",
    "print(metrics.classification_report(y_true_test, y_pred_test, target_names=LABELS))\n",
    "\n",
    "cm = metrics.confusion_matrix(y_true_test, y_pred_test, normalize='true')\n",
    "annot = np.round(cm * 100, 1)\n",
    "ax = sns.heatmap(cm, cbar=False, annot=annot, xticklabels=LABELS, yticklabels=LABELS)\n",
    "\n",
    "ax.set_xlabel('pred')\n",
    "ax.set_ylabel('true');"
   ],
   "metadata": {
    "collapsed": false,
    "pycharm": {
     "name": "#%%\n"
    }
   }
  },
  {
   "cell_type": "markdown",
   "source": [
    "### Ideas\n",
    "- Using ensemble of classifiers selecting their most common prediction would improve performance."
   ],
   "metadata": {
    "collapsed": false,
    "pycharm": {
     "name": "#%% md\n"
    }
   }
  },
  {
   "cell_type": "code",
   "execution_count": 9,
   "outputs": [],
   "source": [],
   "metadata": {
    "collapsed": false,
    "pycharm": {
     "name": "#%%\n"
    }
   }
  }
 ],
 "metadata": {
  "kernelspec": {
   "display_name": "Python 3",
   "language": "python",
   "name": "python3"
  },
  "language_info": {
   "codemirror_mode": {
    "name": "ipython",
    "version": 2
   },
   "file_extension": ".py",
   "mimetype": "text/x-python",
   "name": "python",
   "nbconvert_exporter": "python",
   "pygments_lexer": "ipython2",
   "version": "2.7.6"
  }
 },
 "nbformat": 4,
 "nbformat_minor": 0
}