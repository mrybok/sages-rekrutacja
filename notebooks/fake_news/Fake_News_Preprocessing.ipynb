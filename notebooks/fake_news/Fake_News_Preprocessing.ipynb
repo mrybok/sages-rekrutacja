{
 "cells": [
  {
   "cell_type": "markdown",
   "source": [
    "# Fake News dataset exploration & preprocessing\n",
    "by Marcin Rybok"
   ],
   "metadata": {
    "collapsed": false,
    "pycharm": {
     "name": "#%% md\n"
    }
   }
  },
  {
   "cell_type": "code",
   "execution_count": 1,
   "outputs": [],
   "source": [
    "import pickle\n",
    "import pandas as pd\n",
    "import seaborn as sns\n",
    "\n",
    "from collections import Counter"
   ],
   "metadata": {
    "collapsed": false,
    "pycharm": {
     "name": "#%%\n"
    }
   }
  },
  {
   "cell_type": "code",
   "execution_count": 2,
   "outputs": [],
   "source": [
    "bodies  = pd.read_csv('../../data/fake_news/bodies.csv')\n",
    "stances = pd.read_csv('../../data/fake_news/stances.csv')\n",
    "test_bodies = pd.read_csv('../../data/fake_news/competition_test_bodies.csv')\n",
    "\n",
    "bodies = pd.concat((bodies, test_bodies))"
   ],
   "metadata": {
    "collapsed": false,
    "pycharm": {
     "name": "#%%\n"
    }
   }
  },
  {
   "cell_type": "code",
   "execution_count": 3,
   "outputs": [
    {
     "name": "stdout",
     "output_type": "stream",
     "text": [
      "<class 'pandas.core.frame.DataFrame'>\n",
      "Int64Index: 2587 entries, 0 to 903\n",
      "Data columns (total 2 columns):\n",
      " #   Column       Non-Null Count  Dtype \n",
      "---  ------       --------------  ----- \n",
      " 0   Body ID      2587 non-null   int64 \n",
      " 1   articleBody  2587 non-null   object\n",
      "dtypes: int64(1), object(1)\n",
      "memory usage: 60.6+ KB\n"
     ]
    }
   ],
   "source": [
    "# Check for null values\n",
    "bodies.info()"
   ],
   "metadata": {
    "collapsed": false,
    "pycharm": {
     "name": "#%%\n"
    }
   }
  },
  {
   "cell_type": "code",
   "execution_count": 4,
   "outputs": [
    {
     "name": "stdout",
     "output_type": "stream",
     "text": [
      "<class 'pandas.core.frame.DataFrame'>\n",
      "RangeIndex: 49972 entries, 0 to 49971\n",
      "Data columns (total 3 columns):\n",
      " #   Column    Non-Null Count  Dtype \n",
      "---  ------    --------------  ----- \n",
      " 0   Headline  49972 non-null  object\n",
      " 1   Body ID   49972 non-null  int64 \n",
      " 2   Stance    49972 non-null  object\n",
      "dtypes: int64(1), object(2)\n",
      "memory usage: 1.1+ MB\n"
     ]
    }
   ],
   "source": [
    "stances.info()"
   ],
   "metadata": {
    "collapsed": false,
    "pycharm": {
     "name": "#%%\n"
    }
   }
  },
  {
   "cell_type": "code",
   "execution_count": 5,
   "outputs": [
    {
     "name": "stdout",
     "output_type": "stream",
     "text": [
      "Number of body duplicates: 28\n"
     ]
    }
   ],
   "source": [
    "# Check for duplicates\n",
    "unique_count = bodies.groupby('articleBody').agg(['unique', 'nunique'])\n",
    "duplicates = unique_count[unique_count['Body ID']['nunique'] > 1]['Body ID']['unique'].tolist()\n",
    "\n",
    "print(f'Number of body duplicates: {len(duplicates)}')"
   ],
   "metadata": {
    "collapsed": false,
    "pycharm": {
     "name": "#%%\n"
    }
   }
  },
  {
   "cell_type": "code",
   "execution_count": 6,
   "outputs": [
    {
     "name": "stdout",
     "output_type": "stream",
     "text": [
      "Removed 28 duplicates\n",
      "Number of bodies after duplicate removal: 2559\n"
     ]
    }
   ],
   "source": [
    "# Map second duplicate in a pair to ID of the first Body\n",
    "duplicates = {non_first_duplicate: ids[0] for ids in duplicates for non_first_duplicate in ids[1:]}\n",
    "\n",
    "# Remove duplicates\n",
    "old_len = len(bodies)\n",
    "bodies = bodies.drop_duplicates(subset='articleBody', keep='first')\n",
    "\n",
    "print(f'Removed {old_len - len(bodies)} duplicates')\n",
    "print(f'Number of bodies after duplicate removal: {len(bodies)}')"
   ],
   "metadata": {
    "collapsed": false,
    "pycharm": {
     "name": "#%%\n"
    }
   }
  },
  {
   "cell_type": "code",
   "execution_count": 7,
   "outputs": [
    {
     "name": "stdout",
     "output_type": "stream",
     "text": [
      "Removed 434 duplicates\n",
      "Number of headline-body pairs after duplicate removal: 49538\n"
     ]
    }
   ],
   "source": [
    "# Fix the Body IDs of removed duplicate bodies in the Stances table\n",
    "stances['Body ID'] = stances['Body ID'].apply(lambda body_id: duplicates[body_id] if body_id in duplicates else body_id)\n",
    "\n",
    "# Remove duplicated Headline - Body pairs\n",
    "old_len = len(stances)\n",
    "stances = stances.drop_duplicates(subset=['Headline', 'Body ID'], keep='first')\n",
    "\n",
    "print(f'Removed {old_len - len(stances)} duplicates')\n",
    "print(f'Number of headline-body pairs after duplicate removal: {len(stances)}')"
   ],
   "metadata": {
    "collapsed": false,
    "pycharm": {
     "name": "#%%\n"
    }
   }
  },
  {
   "cell_type": "code",
   "execution_count": 8,
   "outputs": [
    {
     "name": "stdout",
     "output_type": "stream",
     "text": [
      "Number of unique headlines: 1648\n"
     ]
    }
   ],
   "source": [
    "unique_heads = set(stances[\"Headline\"])\n",
    "\n",
    "print(f'Number of unique headlines: {len(unique_heads)}')"
   ],
   "metadata": {
    "collapsed": false,
    "pycharm": {
     "name": "#%%\n"
    }
   }
  },
  {
   "cell_type": "code",
   "execution_count": 9,
   "outputs": [],
   "source": [
    "# Replace Headline by ID in Stances table\n",
    "# Useful later for faster tokenizing (1,500 instead of 50,000 headlines)\n",
    "max_body_id = max(stances['Body ID']) + 1\n",
    "head_to_id = {headline: idx + max_body_id for idx, headline in enumerate(unique_heads)}\n",
    "\n",
    "stances['Headline'] = stances['Headline'].apply(lambda headline: head_to_id[headline])\n",
    "\n",
    "stances = stances.rename(lambda column: 'Headline ID' if column == 'Headline' else column, axis=1)"
   ],
   "metadata": {
    "collapsed": false,
    "pycharm": {
     "name": "#%%\n"
    }
   }
  },
  {
   "cell_type": "code",
   "execution_count": 10,
   "outputs": [
    {
     "name": "stdout",
     "output_type": "stream",
     "text": [
      "Num conflicting data points: 0\n"
     ]
    }
   ],
   "source": [
    "# Check for data points with conflicting labels\n",
    "num_conflicts = (stances.groupby(['Headline ID', 'Body ID']).agg('nunique') > 1)['Stance'].sum()\n",
    "\n",
    "print(f'Num conflicting data points: {num_conflicts}')"
   ],
   "metadata": {
    "collapsed": false,
    "pycharm": {
     "name": "#%%\n"
    }
   }
  },
  {
   "cell_type": "code",
   "execution_count": 11,
   "outputs": [
    {
     "name": "stdout",
     "output_type": "stream",
     "text": [
      "Dataset size: 49538\n",
      "\n",
      "Class distribution:\n",
      "    disagree :  1.67%, (  829)\n",
      "    agree    :  7.35%, ( 3643)\n",
      "    discuss  : 17.77%, ( 8804)\n",
      "    unrelated: 73.20%, (36262)\n"
     ]
    }
   ],
   "source": [
    "# Check class distribution\n",
    "dist = sorted(Counter(stances['Stance']).items(), key=lambda x: x[1])\n",
    "\n",
    "print(f'Dataset size: {len(stances)}\\n')\n",
    "print('Class distribution:')\n",
    "\n",
    "for label, count in dist:\n",
    "    print(f'    {label:<9s}: {count * 100 / len(stances):>5.2f}%, ({count:>5d})')"
   ],
   "metadata": {
    "collapsed": false,
    "pycharm": {
     "name": "#%%\n"
    }
   }
  },
  {
   "cell_type": "markdown",
   "source": [
    "## Dataset partitioning problem\n",
    "\n",
    "For ML we need to split the dataset into train / validation / test sets.\n",
    "The project [GitHub repository](https://github.com/FakeNewsChallenge/fnc-1) offers a ready test set, so I am going to use it.\n",
    "I need to split the available dataset to train and validation only.\n",
    "\n",
    "Splitting aims:\n",
    "- Maintain original class distribution in train & valid set\n",
    "- The splits are mutually exclusive"
   ],
   "metadata": {
    "collapsed": false,
    "pycharm": {
     "name": "#%% md\n"
    }
   }
  },
  {
   "cell_type": "markdown",
   "source": [
    "**Problem**:\n",
    "The mapping between headlines and bodies is many-to-many.\n",
    "We cannot have a headline that occurs both in train set and validation set pair.\n",
    "Otherwise, we have data leakage from train to the validation set.\n",
    "Validation set will produce over-optimistic estimates in hyperparameter tunning.\n",
    "\n",
    "We need to assign each headline and body either to train or validation dataset.\n",
    "Then remove the Stance pairings in which headline and body are not in the same set.\n",
    "*(The removal is temporary for hyperparameter tunning only. After finding good hyperparameters we retrain on the entire dataset.)*\n",
    "There are $2^{N}$ possible splits to consider ($N$ being number of bodies and headlines).\n",
    "Combinatorial problem - too costly to consider all splits.\n",
    "The problem is a graph clustering one so use graph search similar to breadth-first search (BFS) to find a suboptimal split.\n",
    "\n",
    "New splitting aims:\n",
    "- Maintain original class distribution in train & valid set\n",
    "- The pairing splits are mutually exclusive\n",
    "- Each Headline and Body is assigned to train or valid set only.\n",
    "- Minimize the number of inter-split Body-Headline connections, to maximize the number of training examples.\n",
    "\n",
    "The implementation is in `fake_news.util.split_data` function."
   ],
   "metadata": {
    "collapsed": false,
    "pycharm": {
     "name": "#%% md\n"
    }
   }
  },
  {
   "cell_type": "code",
   "execution_count": 12,
   "outputs": [],
   "source": [
    "from fake_news.util import split_data"
   ],
   "metadata": {
    "collapsed": false,
    "pycharm": {
     "name": "#%%\n"
    }
   }
  },
  {
   "cell_type": "code",
   "execution_count": 13,
   "outputs": [
    {
     "data": {
      "text/plain": "  0%|          | 0/2476 [00:00<?, ?it/s]",
      "application/vnd.jupyter.widget-view+json": {
       "version_major": 2,
       "version_minor": 0,
       "model_id": "24a999e745704299a61ee6e7a1f55d7e"
      }
     },
     "metadata": {},
     "output_type": "display_data"
    }
   ],
   "source": [
    "stances = split_data(stances, valid_size=0.05, seed=6)"
   ],
   "metadata": {
    "collapsed": false,
    "pycharm": {
     "name": "#%%\n"
    }
   }
  },
  {
   "cell_type": "code",
   "execution_count": 14,
   "outputs": [
    {
     "name": "stdout",
     "output_type": "stream",
     "text": [
      "<class 'pandas.core.frame.DataFrame'>\n",
      "RangeIndex: 25413 entries, 0 to 25412\n",
      "Data columns (total 3 columns):\n",
      " #   Column    Non-Null Count  Dtype \n",
      "---  ------    --------------  ----- \n",
      " 0   Headline  25413 non-null  object\n",
      " 1   Body ID   25413 non-null  int64 \n",
      " 2   Stance    25413 non-null  object\n",
      "dtypes: int64(1), object(2)\n",
      "memory usage: 595.7+ KB\n"
     ]
    }
   ],
   "source": [
    "# Test set preprocessing\n",
    "test_stances = pd.read_csv('../../data/fake_news/competition_test_stances.csv')\n",
    "\n",
    "test_stances.info()"
   ],
   "metadata": {
    "collapsed": false,
    "pycharm": {
     "name": "#%%\n"
    }
   }
  },
  {
   "cell_type": "code",
   "execution_count": 15,
   "outputs": [
    {
     "name": "stdout",
     "output_type": "stream",
     "text": [
      "Original test set size: 25413\n",
      "Removed 265 duplicates from test set\n",
      "Removed 370 test set examples occurring also in train or validation set\n",
      "Preprocessed test set size: 24778\n"
     ]
    }
   ],
   "source": [
    "old_len = len(test_stances)\n",
    "print(f'Original test set size: {old_len}')\n",
    "\n",
    "# Fix the Body IDs of removed duplicate bodies in the test stances table\n",
    "test_stances['Body ID'] = test_stances['Body ID'].apply(lambda body_id: duplicates[body_id] if body_id in duplicates else body_id)\n",
    "\n",
    "# Remove duplicated Headline - Body pairs\n",
    "test_stances = test_stances.drop_duplicates(subset=['Headline', 'Body ID'], keep='first')\n",
    "\n",
    "print(f'Removed {old_len - len(test_stances)} duplicates from test set')\n",
    "\n",
    "old_len = len(test_stances)\n",
    "\n",
    "# Remove any test set example, of which body or headline occurs in train or validation\n",
    "old_bodies = set(pd.read_csv('../../data/fake_news/bodies.csv')['Body ID'])\n",
    "logical_idx = test_stances.apply(lambda row: row['Headline'] not in head_to_id and row['Body ID'] not in old_bodies, axis=1)\n",
    "test_stances = test_stances[logical_idx]\n",
    "\n",
    "print(f'Removed {old_len - len(test_stances)} test set examples occurring also in train or validation set')\n",
    "\n",
    "test_stances['Split'] = ['test'] * len(test_stances)\n",
    "max_head_id = max(head_to_id.values()) + 1\n",
    "\n",
    "for idx, head in enumerate(set(test_stances['Headline'])):\n",
    "    head_to_id[head] = idx + max_head_id\n",
    "\n",
    "test_stances['Headline'] = test_stances['Headline'].apply(lambda head: head_to_id[head])\n",
    "\n",
    "test_stances = test_stances.rename(lambda column: 'Headline ID' if column == 'Headline' else column, axis=1)\n",
    "\n",
    "print(f'Preprocessed test set size: {len(test_stances)}')\n",
    "\n",
    "stances = pd.concat((stances, test_stances))"
   ],
   "metadata": {
    "collapsed": false,
    "pycharm": {
     "name": "#%%\n"
    }
   }
  },
  {
   "cell_type": "code",
   "execution_count": 16,
   "outputs": [
    {
     "data": {
      "text/plain": "<Figure size 581x500 with 1 Axes>",
      "image/png": "[encoded data removed]"
     },
     "metadata": {},
     "output_type": "display_data"
    }
   ],
   "source": [
    "split_display = stances.groupby('Split')['Stance'].value_counts(normalize=True).mul(100).rename('percent')\n",
    "\n",
    "split_display.reset_index().pipe((sns.catplot, 'data'), x='Stance', y='percent', hue='Split', kind='bar');"
   ],
   "metadata": {
    "collapsed": false,
    "pycharm": {
     "name": "#%%\n"
    }
   }
  },
  {
   "cell_type": "code",
   "execution_count": 17,
   "outputs": [
    {
     "name": "stdout",
     "output_type": "stream",
     "text": [
      "      | total | data % | unrelated |    agree | disagree |  discuss\n",
      "-------------------------------------------------------------------\n",
      "train | 31161 | 62.90% |    73.40% |    7.80% |    1.52% |   17.27%\n",
      "valid |  2501 |  5.05% |    72.49% |    7.52% |    2.36% |   17.63%\n",
      "none  | 15876 | 32.05% |    72.92% |    6.45% |    1.86% |   18.77%\n"
     ]
    }
   ],
   "source": [
    "labels = {'unrelated': 0, 'agree': 1, 'disagree': 2, 'discuss': 3}\n",
    "\n",
    "print(f'{\" \":<5s} | total | data % | unrelated | {\"agree\":>8s} | disagree | {\"discuss\":>8s}')\n",
    "print(\"-------------------------------------------------------------------\")\n",
    "\n",
    "for split in ['train', 'valid', 'none']:\n",
    "    filtered = stances[stances['Split'] == split]\n",
    "    n = len(filtered)\n",
    "    total = sum(stances['Split'] != 'test')\n",
    "\n",
    "    aux = lambda label: f'{((filtered[\"Stance\"] == label).sum() * 100 / n):>8.2f}%'\n",
    "    str_rep = \" |\".join([aux(label) for label in labels])\n",
    "\n",
    "    print(f'{split:<5s} | {n:5d} | {(n * 100 / total):>5.2f}% |', str_rep)"
   ],
   "metadata": {
    "collapsed": false,
    "pycharm": {
     "name": "#%%\n"
    }
   }
  },
  {
   "cell_type": "markdown",
   "source": [
    "The algorithm I have used for data splitting produces well-balanced splits in terms of classes.\n",
    "Drawback: many examples must be rejected.\n",
    "I have tried different expansion method, that selected the least connected nodes for expansion in graph search.\n",
    "The previous method rejected significantly less inter-split connections, but split class distributions varied significantly.\n",
    "*(3 times lower proportion of \"agree\" examples in a train set compared to validation)*\n",
    "There are no free-lunches :("
   ],
   "metadata": {
    "collapsed": false,
    "pycharm": {
     "name": "#%% md\n"
    }
   }
  },
  {
   "cell_type": "markdown",
   "source": [
    "**Finally, I use 5% of Headline-Body pairings as the validation set. 63% pairs are left for training. The remaining 32% of data must be left out from the hyper-parameter tunning process, to prevent same examples in training and validation sets.**\n",
    "*(percentages do not consider the test set examples)*\n",
    "*(I use 5% of data in validation set because when I have tried 10% the train set had only 40% of examples)*"
   ],
   "metadata": {
    "collapsed": false,
    "pycharm": {
     "name": "#%% md\n"
    }
   }
  },
  {
   "cell_type": "markdown",
   "source": [
    "#### Baseline\n",
    "Baseline simply predicts the most common *\"unrelated\"* class, yielding 72.49% accuracy on the validation set.\n",
    "The classes are unbalanced, so accuracy is not a good performance metric.\n",
    "F1-score should be used instead."
   ],
   "metadata": {
    "collapsed": false,
    "pycharm": {
     "name": "#%% md\n"
    }
   }
  },
  {
   "cell_type": "markdown",
   "source": [
    "### Digression\n",
    "Creating more *\"unrelated\"* pairings by randomly assigning more headlines to bodies is a good data augmentation method.\n",
    "Its unlikely that such random assignment would produce a *\"related\"* pair.\n",
    "However, most of the pairings are already *\"unrelated\"*.\n",
    "Headlines are paired with multiple bodies.\n",
    "The method was probably already used in the dataset creation."
   ],
   "metadata": {
    "collapsed": false,
    "pycharm": {
     "name": "#%% md\n"
    }
   }
  },
  {
   "cell_type": "markdown",
   "source": [
    "### Task & solution\n",
    "The task is to determine whether Headline matches the article Body.\n",
    "It is very similar to sentence entailment.\n",
    "BERT is pre-trained to predict whether one sentence supersedes another, so it is naturally suited for the task.\n",
    "I am going to represent each Headline-Body pair as:\n",
    "\\<CLS\\> Headline \\<SEP\\> Body \\<SEP\\>\n",
    "So I will tokenize each Headline and Body.\n",
    "Then I will feed the above representation to BERT.\n",
    "From BERT's output, I will extract the last hidden state representation for the \\<CLS\\> token only.\n",
    "Then I will feed the BERT-produced contextualized embeddings to a simple classifier head.\n",
    "I will train the classifier head only, as I have no time to fine-tune BERT.\n",
    "Hence, the BERT embedding for each Headline-Body pair will be produced once and stored."
   ],
   "metadata": {
    "collapsed": false,
    "pycharm": {
     "name": "#%% md\n"
    }
   }
  },
  {
   "cell_type": "markdown",
   "source": [
    "### Caveats\n",
    "The task is different from entailment in that the article Bodies are quite long.\n",
    "Bodies often have lengths in thousands of tokens.\n",
    "BERT accepts a sequence of length max 512.\n",
    "Hence, I am going to always use the full tokenized Headline, but I will truncate the Body, so that together the:\n",
    "\\<CLS\\> Headline \\<SEP\\> truncated-Body \\<SEP\\>\n",
    "representation matches the maximum 512 tokens.\n",
    "I will use only the initial Body tokens.\n",
    "This will downgrade the performance."
   ],
   "metadata": {
    "collapsed": false,
    "pycharm": {
     "name": "#%% md\n"
    }
   }
  },
  {
   "cell_type": "markdown",
   "source": [
    "### Alternatives:\n",
    "- Instead of using the initial part of the Body, try using middle or random part. Might have a higher chance of containing key info for classification.\n",
    "- Use multiple Body parts *(for example, start, middle and end)*: encode each as before, feed each representation separately into BERT. From each BERT output extract \\<CLS\\> token embedding, concatenate such embeddings together and feed them into classifier. Covers more article body text, but it is more computationally expensive. I have tried using end part also, but it took too long for my Nvidia RTX 2060 to compute the embeddings.\n",
    "- **Update** - concatenation would be bad if in train set the differentiating info always occurs in the last sentence the classifier will completely neglect the \\<CLS\\> token representation of the first sentence. If then in a test body, the differentiating info is in the first sentence, the classifier does not know how to handle this. It's better to compress the \\<CLS\\> representations of multiple Body parts with aggregate function such as componentwise-max. MAX or MIN will be better than SUM or MEAN as they have robust representations even when the number of compressed \\<CLS\\> tokens varies between examples (for longer Bodies we can embed more sentences and still take aggregate over the embeddings). Most sentences will be *\"unrelated\"* to the classification task, and this will squash the aggregate embedding representations, whereas MAX changes the aggregate representation robustly in response to just one relevant sentence no matter how many embeddings we are aggregating over.\n",
    "- Produce representations in Information Retrieval (IR) fashion. Case fold, tokenize, remove stop words, stem the Headlines & Bodies. Then represent each document sparsely based on the dictionary of left words in the dataset and try to build a classifier on top of this. Might be suitable due to lengthy Bodies - IR deals better with lengthy documents & semantics only.\n",
    "- The task is also similar to text summarization, where we try to highlight important sentences in a document. Typically, one sentence in body will inform us whether the Headline matches it, so the task might be reduced to finding such most significant sentence. If I had more time, I would also look for solutions in this field. Example: [Text Summarization with Pretrained Encoders](https://arxiv.org/pdf/1908.08345.pdf)"
   ],
   "metadata": {
    "collapsed": false,
    "pycharm": {
     "name": "#%% md\n"
    }
   }
  },
  {
   "cell_type": "code",
   "execution_count": 18,
   "outputs": [],
   "source": [
    "text_dicts = {\n",
    "    'head': {head_id: {'text': text, 'input_ids': []} for text, head_id in head_to_id.items()},\n",
    "    'body': {body_id: {'text': text, 'input_ids': []} for body_id, text in bodies.itertuples(index=False)}\n",
    "}\n",
    "\n",
    "with open('../../preprocessed/fake_news/data/text_dicts.pkl', 'wb') as file:\n",
    "    pickle.dump(text_dicts, file)\n",
    "\n",
    "for split in ['train', 'valid', 'none', 'test']:\n",
    "    stances[stances['Split'] == split][stances.columns[:-1]].to_csv(f'../../preprocessed/fake_news/data/{split}.csv', index=False)"
   ],
   "metadata": {
    "collapsed": false,
    "pycharm": {
     "name": "#%%\n"
    }
   }
  },
  {
   "cell_type": "code",
   "execution_count": 19,
   "outputs": [],
   "source": [
    "import transformers\n",
    "import matplotlib.pyplot as plt\n",
    "\n",
    "from common.util import tokenize_texts\n",
    "\n",
    "transformers.logging.set_verbosity_error()"
   ],
   "metadata": {
    "collapsed": false,
    "pycharm": {
     "name": "#%%\n"
    }
   }
  },
  {
   "cell_type": "code",
   "execution_count": 20,
   "outputs": [
    {
     "data": {
      "text/plain": "tokenization:   0%|          | 0/5091 [00:00<?, ?it/s]",
      "application/vnd.jupyter.widget-view+json": {
       "version_major": 2,
       "version_minor": 0,
       "model_id": "6d24cc7b59d844fca284056b2cd50fea"
      }
     },
     "metadata": {},
     "output_type": "display_data"
    }
   ],
   "source": [
    "# Tokenize the texts, so they can be fed into BERT.\n",
    "tokenize_texts(\n",
    "    in_file='../../preprocessed/fake_news/data/text_dicts.pkl',\n",
    "    out_file='../../preprocessed/fake_news/data/text_dicts.pkl',\n",
    "    verbose=True\n",
    ")"
   ],
   "metadata": {
    "collapsed": false,
    "pycharm": {
     "name": "#%%\n"
    }
   }
  },
  {
   "cell_type": "markdown",
   "source": [
    "Check Headline-Body pair length distribution"
   ],
   "metadata": {
    "collapsed": false,
    "pycharm": {
     "name": "#%% md\n"
    }
   }
  },
  {
   "cell_type": "code",
   "execution_count": 21,
   "outputs": [
    {
     "name": "stdout",
     "output_type": "stream",
     "text": [
      "Maximal Headline-Body length in terms of BERT tokens:          6244\n",
      "Percent of Headline-Body representations exceeding 509 tokens: 33.8%\n"
     ]
    },
    {
     "data": {
      "text/plain": "<Figure size 1000x500 with 1 Axes>",
      "image/png": "[encoded data removed]"
     },
     "metadata": {},
     "output_type": "display_data"
    }
   ],
   "source": [
    "with open('../../preprocessed/fake_news/data/text_dicts.pkl', 'rb') as file:\n",
    "    text_dicts = pickle.load(file)\n",
    "\n",
    "lengths = []\n",
    "\n",
    "for row in stances.itertuples(index=False):\n",
    "    head_id, body_id, _, _ = row\n",
    "\n",
    "    head_len = len(text_dicts['head'][head_id]['input_ids'])\n",
    "    body_len = len(text_dicts['body'][body_id]['input_ids'])\n",
    "\n",
    "    lengths += [head_len + body_len]\n",
    "\n",
    "num_exceeding = len([1 for length in lengths if length > 509]) * 100 / len(lengths)\n",
    "\n",
    "_, ax = plt.subplots(1, 1, figsize=(10, 5))\n",
    "ax.axvline(x=509, ymin=0, ymax=1, c='r', label='509 tokens')\n",
    "ax.legend()\n",
    "\n",
    "sns.histplot(lengths, ax=ax)\n",
    "ax.set_xlabel('Headline-Body length')\n",
    "print(f'Maximal Headline-Body length in terms of BERT tokens:          {max(lengths)}')\n",
    "print(f'Percent of Headline-Body representations exceeding 509 tokens: {num_exceeding:.1f}%')"
   ],
   "metadata": {
    "collapsed": false,
    "pycharm": {
     "name": "#%%\n"
    }
   }
  },
  {
   "cell_type": "code",
   "execution_count": 21,
   "outputs": [],
   "source": [],
   "metadata": {
    "collapsed": false,
    "pycharm": {
     "name": "#%%\n"
    }
   }
  }
 ],
 "metadata": {
  "kernelspec": {
   "display_name": "Python 3",
   "language": "python",
   "name": "python3"
  },
  "language_info": {
   "codemirror_mode": {
    "name": "ipython",
    "version": 2
   },
   "file_extension": ".py",
   "mimetype": "text/x-python",
   "name": "python",
   "nbconvert_exporter": "python",
   "pygments_lexer": "ipython2",
   "version": "2.7.6"
  }
 },
 "nbformat": 4,
 "nbformat_minor": 0
}